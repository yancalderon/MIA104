{
 "cells": [
  {
   "cell_type": "markdown",
   "metadata": {},
   "source": [
    "## Cargamos el dataset"
   ]
  },
  {
   "cell_type": "code",
   "execution_count": 95,
   "metadata": {},
   "outputs": [],
   "source": [
    "#Importamos las librerias principales\n",
    "import numpy as np \n",
    "import pandas as pd \n",
    "import matplotlib.pyplot as plt\n",
    "import seaborn as sns"
   ]
  },
  {
   "cell_type": "code",
   "execution_count": 181,
   "metadata": {},
   "outputs": [],
   "source": [
    "#Cargamos dataset a utilizar\n",
    "df_entrada = pd.read_csv(\"../data/ds_gasto_5.csv\", sep=\";\", encoding='latin1')"
   ]
  },
  {
   "cell_type": "markdown",
   "metadata": {},
   "source": [
    "### Calculo de nro_ejecutoras_x_proyecto_x_anio\n"
   ]
  },
  {
   "cell_type": "code",
   "execution_count": 131,
   "metadata": {},
   "outputs": [],
   "source": [
    "# 1. Obtener combinaciones únicas de anio, proyecto y ejecutora\n",
    "a = df_entrada[['ANIO', 'PROYECTO', 'EJECUTORA']].drop_duplicates()"
   ]
  },
  {
   "cell_type": "code",
   "execution_count": 132,
   "metadata": {},
   "outputs": [],
   "source": [
    "# 2. Agrupar por anio y proyecto, y contar el número de ejecutoras\n",
    "result = a.groupby(['ANIO', 'PROYECTO']).size().reset_index(name='NRO_EJECUTORAS')"
   ]
  },
  {
   "cell_type": "code",
   "execution_count": 135,
   "metadata": {},
   "outputs": [],
   "source": [
    "duplicados = result.duplicated(subset=['ANIO', 'PROYECTO'], keep=False)\n",
    "result[duplicados]\n"
   ]
  },
  {
   "cell_type": "code",
   "execution_count": 137,
   "metadata": {},
   "outputs": [
    {
     "name": "stdout",
     "output_type": "stream",
     "text": [
      "<class 'pandas.core.frame.DataFrame'>\n",
      "RangeIndex: 627803 entries, 0 to 627802\n",
      "Data columns (total 36 columns):\n",
      " #   Column                            Non-Null Count   Dtype  \n",
      "---  ------                            --------------   -----  \n",
      " 0   ANIO                              627803 non-null  int64  \n",
      " 1   NIVEL                             627803 non-null  int64  \n",
      " 2   NIVEL_GOBIERNO                    627803 non-null  object \n",
      " 3   DPTO                              627803 non-null  int64  \n",
      " 4   DEPARTAMENTO_EJECUTORA_NOMBRE     627803 non-null  object \n",
      " 5   FUNCION                           627803 non-null  int64  \n",
      " 6   FUNCION_NOMBRE                    627803 non-null  object \n",
      " 7   PIA                               627803 non-null  int64  \n",
      " 8   PIM                               627803 non-null  int64  \n",
      " 9   DEVENGADO                         627803 non-null  float64\n",
      " 10  IP                                627803 non-null  float64\n",
      " 11  CAMBIO_GOBIERNO_NACIONAL          627803 non-null  int64  \n",
      " 12  NRO_PRESIDENTES_X_ANO             627803 non-null  int64  \n",
      " 13  FENOMENO_NINO                     627803 non-null  int64  \n",
      " 14  PANDEMIA                          627803 non-null  int64  \n",
      " 15  CAMBIO_GOBIERNO_REGIONAL_LOCAL    627803 non-null  int64  \n",
      " 16  ELECCION_REGIONAL_LOCAL           627803 non-null  int64  \n",
      " 17  TIPO_GOBIERNO_NACIONAL            627803 non-null  object \n",
      " 18  NRO_CONFLICTO_SOCIAL_X_ANO        627803 non-null  int64  \n",
      " 19  INFLACION_ANUAL                   627803 non-null  float64\n",
      " 20  PROYECTO                          627803 non-null  int64  \n",
      " 21  EJECUTORA                         627803 non-null  int64  \n",
      " 22  PROYECTO_EDAD_NETA                627803 non-null  int64  \n",
      " 23  PROYECTO_EDAD_BRUTA               627803 non-null  int64  \n",
      " 24  IGEIP_EJECUCION                   627803 non-null  float64\n",
      " 25  P_INCO_AVG                        627803 non-null  float64\n",
      " 26  NEJE_PUNTAJEIRI                   627803 non-null  float64\n",
      " 27  NRO_EJECUTORAS_X_PROYECTO         627803 non-null  int64  \n",
      " 28  NPRY_PUNTAJEIRI                   627803 non-null  float64\n",
      " 29  PUNTAJE_INCO_EJECUTORA            627803 non-null  float64\n",
      " 30  MONTO_VIABLE                      522452 non-null  float64\n",
      " 31  COSTO_ACTUALIZADO                 523620 non-null  float64\n",
      " 32  MODALIDAD_EJECUCION               627803 non-null  object \n",
      " 33  NRO_PROYECTOS_X_EJECUTORA_X_ANIO  627803 non-null  int64  \n",
      " 34  AVANCE                            627803 non-null  float64\n",
      " 35  CLASE                             627803 non-null  int64  \n",
      "dtypes: float64(11), int64(20), object(5)\n",
      "memory usage: 172.4+ MB\n"
     ]
    }
   ],
   "source": [
    "df_entrada.info()"
   ]
  },
  {
   "cell_type": "markdown",
   "metadata": {},
   "source": [
    "#### LEFT JOIN"
   ]
  },
  {
   "cell_type": "code",
   "execution_count": 140,
   "metadata": {},
   "outputs": [],
   "source": [
    "# Realizar la unión (merge) de df_entrada con result\n",
    "df_final = pd.merge(df_entrada, result[['ANIO', 'PROYECTO', 'NRO_EJECUTORAS']],\n",
    "                    on=['ANIO', 'PROYECTO'], how='left')\n",
    "\n",
    "# Renombrar la columna 'nro_ejecutoras' a 'NRO_EJECUTORAS_X_PROYECTO_X_ANIO'\n",
    "df_final = df_final.rename(columns={'NRO_EJECUTORAS': 'NRO_EJECUTORAS_X_PROYECTO_X_ANIO'})\n"
   ]
  },
  {
   "cell_type": "code",
   "execution_count": 141,
   "metadata": {},
   "outputs": [
    {
     "name": "stdout",
     "output_type": "stream",
     "text": [
      "<class 'pandas.core.frame.DataFrame'>\n",
      "RangeIndex: 627803 entries, 0 to 627802\n",
      "Data columns (total 37 columns):\n",
      " #   Column                            Non-Null Count   Dtype  \n",
      "---  ------                            --------------   -----  \n",
      " 0   ANIO                              627803 non-null  int64  \n",
      " 1   NIVEL                             627803 non-null  int64  \n",
      " 2   NIVEL_GOBIERNO                    627803 non-null  object \n",
      " 3   DPTO                              627803 non-null  int64  \n",
      " 4   DEPARTAMENTO_EJECUTORA_NOMBRE     627803 non-null  object \n",
      " 5   FUNCION                           627803 non-null  int64  \n",
      " 6   FUNCION_NOMBRE                    627803 non-null  object \n",
      " 7   PIA                               627803 non-null  int64  \n",
      " 8   PIM                               627803 non-null  int64  \n",
      " 9   DEVENGADO                         627803 non-null  float64\n",
      " 10  IP                                627803 non-null  float64\n",
      " 11  CAMBIO_GOBIERNO_NACIONAL          627803 non-null  int64  \n",
      " 12  NRO_PRESIDENTES_X_ANO             627803 non-null  int64  \n",
      " 13  FENOMENO_NINO                     627803 non-null  int64  \n",
      " 14  PANDEMIA                          627803 non-null  int64  \n",
      " 15  CAMBIO_GOBIERNO_REGIONAL_LOCAL    627803 non-null  int64  \n",
      " 16  ELECCION_REGIONAL_LOCAL           627803 non-null  int64  \n",
      " 17  TIPO_GOBIERNO_NACIONAL            627803 non-null  object \n",
      " 18  NRO_CONFLICTO_SOCIAL_X_ANO        627803 non-null  int64  \n",
      " 19  INFLACION_ANUAL                   627803 non-null  float64\n",
      " 20  PROYECTO                          627803 non-null  int64  \n",
      " 21  EJECUTORA                         627803 non-null  int64  \n",
      " 22  PROYECTO_EDAD_NETA                627803 non-null  int64  \n",
      " 23  PROYECTO_EDAD_BRUTA               627803 non-null  int64  \n",
      " 24  IGEIP_EJECUCION                   627803 non-null  float64\n",
      " 25  P_INCO_AVG                        627803 non-null  float64\n",
      " 26  NEJE_PUNTAJEIRI                   627803 non-null  float64\n",
      " 27  NRO_EJECUTORAS_X_PROYECTO         627803 non-null  int64  \n",
      " 28  NPRY_PUNTAJEIRI                   627803 non-null  float64\n",
      " 29  PUNTAJE_INCO_EJECUTORA            627803 non-null  float64\n",
      " 30  MONTO_VIABLE                      522452 non-null  float64\n",
      " 31  COSTO_ACTUALIZADO                 523620 non-null  float64\n",
      " 32  MODALIDAD_EJECUCION               627803 non-null  object \n",
      " 33  NRO_PROYECTOS_X_EJECUTORA_X_ANIO  627803 non-null  int64  \n",
      " 34  AVANCE                            627803 non-null  float64\n",
      " 35  CLASE                             627803 non-null  int64  \n",
      " 36  NRO_EJECUTORAS_X_PROYECTO_X_ANIO  627803 non-null  int64  \n",
      "dtypes: float64(11), int64(21), object(5)\n",
      "memory usage: 177.2+ MB\n"
     ]
    }
   ],
   "source": [
    "df_final.info()"
   ]
  },
  {
   "cell_type": "markdown",
   "metadata": {},
   "source": [
    "### Filtrar nivel == 'E'"
   ]
  },
  {
   "cell_type": "code",
   "execution_count": 182,
   "metadata": {},
   "outputs": [
    {
     "data": {
      "text/plain": [
       "NIVEL  NIVEL_GOBIERNO\n",
       "3      M                 507958\n",
       "2      R                  63866\n",
       "1      E                  55979\n",
       "Name: count, dtype: int64"
      ]
     },
     "execution_count": 182,
     "metadata": {},
     "output_type": "execute_result"
    }
   ],
   "source": [
    "df_entrada[['NIVEL','NIVEL_GOBIERNO']].value_counts()"
   ]
  },
  {
   "cell_type": "code",
   "execution_count": 185,
   "metadata": {},
   "outputs": [],
   "source": [
    "#df_filtro_x_nivel = df_final.query('NIVEL_GOBIERNO == \"E\"')\n",
    "df_filtro_x_nivel = df_entrada.query('NIVEL_GOBIERNO == \"E\"')"
   ]
  },
  {
   "cell_type": "code",
   "execution_count": 186,
   "metadata": {},
   "outputs": [
    {
     "data": {
      "text/plain": [
       "MODALIDAD_EJECUCION\n",
       "INDIRECTA          22708\n",
       "SIN_INFORMACION    21463\n",
       "MIXTA               8178\n",
       "DIRECTA             3630\n",
       "Name: count, dtype: int64"
      ]
     },
     "execution_count": 186,
     "metadata": {},
     "output_type": "execute_result"
    }
   ],
   "source": [
    "df_filtro_x_nivel.MODALIDAD_EJECUCION.value_counts()"
   ]
  },
  {
   "cell_type": "markdown",
   "metadata": {},
   "source": [
    "### NULL values -> costo_actualizado, monto_viable"
   ]
  },
  {
   "cell_type": "code",
   "execution_count": 190,
   "metadata": {},
   "outputs": [
    {
     "data": {
      "text/plain": [
       "ANIO                                   0\n",
       "NIVEL                                  0\n",
       "NIVEL_GOBIERNO                         0\n",
       "DPTO                                   0\n",
       "DEPARTAMENTO_EJECUTORA_NOMBRE          0\n",
       "FUNCION                                0\n",
       "FUNCION_NOMBRE                         0\n",
       "PIA                                    0\n",
       "PIM                                    0\n",
       "DEVENGADO                              0\n",
       "IP                                     0\n",
       "CAMBIO_GOBIERNO_NACIONAL               0\n",
       "NRO_PRESIDENTES_X_ANO                  0\n",
       "FENOMENO_NINO                          0\n",
       "PANDEMIA                               0\n",
       "CAMBIO_GOBIERNO_REGIONAL_LOCAL         0\n",
       "ELECCION_REGIONAL_LOCAL                0\n",
       "TIPO_GOBIERNO_NACIONAL                 0\n",
       "NRO_CONFLICTO_SOCIAL_X_ANO             0\n",
       "INFLACION_ANUAL                        0\n",
       "PROYECTO                               0\n",
       "EJECUTORA                              0\n",
       "PROYECTO_EDAD_NETA                     0\n",
       "PROYECTO_EDAD_BRUTA                    0\n",
       "IGEIP_EJECUCION                        0\n",
       "P_INCO_AVG                             0\n",
       "NEJE_PUNTAJEIRI                        0\n",
       "NRO_EJECUTORAS_X_PROYECTO              0\n",
       "NPRY_PUNTAJEIRI                        0\n",
       "PUNTAJE_INCO_EJECUTORA                 0\n",
       "MONTO_VIABLE                        2305\n",
       "COSTO_ACTUALIZADO                   2171\n",
       "MODALIDAD_EJECUCION                    0\n",
       "NRO_PROYECTOS_X_EJECUTORA_X_ANIO       0\n",
       "AVANCE                                 0\n",
       "CLASE                                  0\n",
       "dtype: int64"
      ]
     },
     "execution_count": 190,
     "metadata": {},
     "output_type": "execute_result"
    }
   ],
   "source": [
    "df_filtro_x_nivel.isnull().sum()  "
   ]
  },
  {
   "cell_type": "code",
   "execution_count": 273,
   "metadata": {},
   "outputs": [],
   "source": [
    "df_entrada_cleaned = df_filtro_x_nivel.dropna(subset=['MONTO_VIABLE'])"
   ]
  },
  {
   "cell_type": "code",
   "execution_count": 277,
   "metadata": {},
   "outputs": [
    {
     "data": {
      "text/plain": [
       "ANIO                                0\n",
       "NIVEL                               0\n",
       "NIVEL_GOBIERNO                      0\n",
       "DPTO                                0\n",
       "DEPARTAMENTO_EJECUTORA_NOMBRE       0\n",
       "FUNCION                             0\n",
       "FUNCION_NOMBRE                      0\n",
       "PIA                                 0\n",
       "PIM                                 0\n",
       "DEVENGADO                           0\n",
       "IP                                  0\n",
       "CAMBIO_GOBIERNO_NACIONAL            0\n",
       "NRO_PRESIDENTES_X_ANO               0\n",
       "FENOMENO_NINO                       0\n",
       "PANDEMIA                            0\n",
       "CAMBIO_GOBIERNO_REGIONAL_LOCAL      0\n",
       "ELECCION_REGIONAL_LOCAL             0\n",
       "TIPO_GOBIERNO_NACIONAL              0\n",
       "NRO_CONFLICTO_SOCIAL_X_ANO          0\n",
       "INFLACION_ANUAL                     0\n",
       "PROYECTO                            0\n",
       "EJECUTORA                           0\n",
       "PROYECTO_EDAD_NETA                  0\n",
       "PROYECTO_EDAD_BRUTA                 0\n",
       "IGEIP_EJECUCION                     0\n",
       "P_INCO_AVG                          0\n",
       "NEJE_PUNTAJEIRI                     0\n",
       "NRO_EJECUTORAS_X_PROYECTO           0\n",
       "NPRY_PUNTAJEIRI                     0\n",
       "PUNTAJE_INCO_EJECUTORA              0\n",
       "MONTO_VIABLE                        0\n",
       "COSTO_ACTUALIZADO                   0\n",
       "MODALIDAD_EJECUCION                 0\n",
       "NRO_PROYECTOS_X_EJECUTORA_X_ANIO    0\n",
       "AVANCE                              0\n",
       "CLASE                               0\n",
       "dtype: int64"
      ]
     },
     "execution_count": 277,
     "metadata": {},
     "output_type": "execute_result"
    }
   ],
   "source": [
    "df_entrada_cleaned.isnull().sum()"
   ]
  },
  {
   "cell_type": "markdown",
   "metadata": {},
   "source": [
    "## EXPLORACION"
   ]
  },
  {
   "cell_type": "code",
   "execution_count": 301,
   "metadata": {},
   "outputs": [
    {
     "data": {
      "image/png": "[encoded data removed]",
      "text/plain": [
       "<Figure size 800x500 with 1 Axes>"
      ]
     },
     "metadata": {},
     "output_type": "display_data"
    }
   ],
   "source": [
    "# Create a histogram for objective\n",
    "plt.figure(figsize=(8, 5))\n",
    "sns.histplot(df_entrada_cleaned['AVANCE'], bins=10, kde=False)\n",
    "plt.xlabel('objective')\n",
    "plt.ylabel('Frequency')\n",
    "plt.title('Histogram of AVANCE')\n",
    "plt.show()"
   ]
  },
  {
   "cell_type": "code",
   "execution_count": 276,
   "metadata": {},
   "outputs": [
    {
     "data": {
      "image/png": "[encoded data removed]",
      "text/plain": [
       "<Figure size 800x600 with 1 Axes>"
      ]
     },
     "metadata": {},
     "output_type": "display_data"
    }
   ],
   "source": [
    "fig, ax = plt.subplots(figsize=(8, 6))  # Aumentamos el ancho para estirar horizontalmente\n",
    "sns.countplot(\n",
    "    data=df_entrada_cleaned,\n",
    "    x='NIVEL_GOBIERNO',\n",
    "    hue='CLASE',\n",
    "    #palette=sns.color_palette(\"tab10\"),\n",
    "    ax=ax\n",
    ")\n",
    "# Rotamos las etiquetas del eje x verticalmente\n",
    "plt.xticks(rotation=90, ha='center')\n",
    "# Ajustamos el diseño para que las etiquetas no se corten\n",
    "#plt.tight_layout()\n",
    "# Mostramos el gráfico\n",
    "plt.show()"
   ]
  },
  {
   "cell_type": "code",
   "execution_count": 253,
   "metadata": {},
   "outputs": [
    {
     "data": {
      "image/png": "[encoded data removed]",
      "text/plain": [
       "<Figure size 640x480 with 1 Axes>"
      ]
     },
     "metadata": {},
     "output_type": "display_data"
    }
   ],
   "source": [
    "df_entrada_mayor_2021=df_entrada_cleaned.query('ANIO == 2019')\n",
    "df_entrada_cleaned.plot.scatter(x=\"NRO_EJECUTORAS_X_PROYECTO\", y=\"AVANCE\", alpha=0.25)\n",
    "#df_entrada.plot.scatter(x=\"PUNTAJE_INCO_EJECUTORA\", y=\"AVANCE\", alpha=0.1)\n",
    "plt.show()\n",
    "#IGEIP_EJECUCION\n",
    "#NEJE_PUNTAJEIRI\n",
    "#NRO_EJECUTORAS_X_PROYECTO\n",
    "#P_INCO_AVG\n"
   ]
  },
  {
   "cell_type": "markdown",
   "metadata": {},
   "source": [
    "# PREPARACION DE LOS DATOS"
   ]
  },
  {
   "cell_type": "markdown",
   "metadata": {},
   "source": [
    "## DROP"
   ]
  },
  {
   "cell_type": "code",
   "execution_count": 278,
   "metadata": {},
   "outputs": [
    {
     "name": "stdout",
     "output_type": "stream",
     "text": [
      "<class 'pandas.core.frame.DataFrame'>\n",
      "Index: 53674 entries, 70389 to 627802\n",
      "Data columns (total 36 columns):\n",
      " #   Column                            Non-Null Count  Dtype  \n",
      "---  ------                            --------------  -----  \n",
      " 0   ANIO                              53674 non-null  int64  \n",
      " 1   NIVEL                             53674 non-null  int64  \n",
      " 2   NIVEL_GOBIERNO                    53674 non-null  object \n",
      " 3   DPTO                              53674 non-null  int64  \n",
      " 4   DEPARTAMENTO_EJECUTORA_NOMBRE     53674 non-null  object \n",
      " 5   FUNCION                           53674 non-null  int64  \n",
      " 6   FUNCION_NOMBRE                    53674 non-null  object \n",
      " 7   PIA                               53674 non-null  int64  \n",
      " 8   PIM                               53674 non-null  int64  \n",
      " 9   DEVENGADO                         53674 non-null  float64\n",
      " 10  IP                                53674 non-null  float64\n",
      " 11  CAMBIO_GOBIERNO_NACIONAL          53674 non-null  int64  \n",
      " 12  NRO_PRESIDENTES_X_ANO             53674 non-null  int64  \n",
      " 13  FENOMENO_NINO                     53674 non-null  int64  \n",
      " 14  PANDEMIA                          53674 non-null  int64  \n",
      " 15  CAMBIO_GOBIERNO_REGIONAL_LOCAL    53674 non-null  int64  \n",
      " 16  ELECCION_REGIONAL_LOCAL           53674 non-null  int64  \n",
      " 17  TIPO_GOBIERNO_NACIONAL            53674 non-null  object \n",
      " 18  NRO_CONFLICTO_SOCIAL_X_ANO        53674 non-null  int64  \n",
      " 19  INFLACION_ANUAL                   53674 non-null  float64\n",
      " 20  PROYECTO                          53674 non-null  int64  \n",
      " 21  EJECUTORA                         53674 non-null  int64  \n",
      " 22  PROYECTO_EDAD_NETA                53674 non-null  int64  \n",
      " 23  PROYECTO_EDAD_BRUTA               53674 non-null  int64  \n",
      " 24  IGEIP_EJECUCION                   53674 non-null  float64\n",
      " 25  P_INCO_AVG                        53674 non-null  float64\n",
      " 26  NEJE_PUNTAJEIRI                   53674 non-null  float64\n",
      " 27  NRO_EJECUTORAS_X_PROYECTO         53674 non-null  int64  \n",
      " 28  NPRY_PUNTAJEIRI                   53674 non-null  float64\n",
      " 29  PUNTAJE_INCO_EJECUTORA            53674 non-null  float64\n",
      " 30  MONTO_VIABLE                      53674 non-null  float64\n",
      " 31  COSTO_ACTUALIZADO                 53674 non-null  float64\n",
      " 32  MODALIDAD_EJECUCION               53674 non-null  object \n",
      " 33  NRO_PROYECTOS_X_EJECUTORA_X_ANIO  53674 non-null  int64  \n",
      " 34  AVANCE                            53674 non-null  float64\n",
      " 35  CLASE                             53674 non-null  int64  \n",
      "dtypes: float64(11), int64(20), object(5)\n",
      "memory usage: 15.2+ MB\n"
     ]
    }
   ],
   "source": [
    "df_entrada_cleaned.info()"
   ]
  },
  {
   "cell_type": "code",
   "execution_count": 279,
   "metadata": {},
   "outputs": [],
   "source": [
    "col_to_drop = [ 'ANIO'\n",
    "            ,'NIVEL_GOBIERNO'\n",
    "            ,'DEPARTAMENTO_EJECUTORA_NOMBRE'\n",
    "            ,'FUNCION_NOMBRE'\n",
    "            ,'PIA'\n",
    "            ,'DEVENGADO'\n",
    "            ,'PROYECTO'\n",
    "            ,'EJECUTORA'\n",
    "            ,'AVANCE' \n",
    "            #,'CLASE'\n",
    "            ,'FENOMENO_NINO' # IG muy bajo\n",
    "            ,'CAMBIO_GOBIERNO_NACIONAL' # IG muy bajo\n",
    "            ,'P_INCO_AVG' # Incluido en PUNTAJE_INCO_EJECUTORA\n",
    "            ,'NEJE_PUNTAJEIRI' # Incluido en NPRY_PUNTAJEIRI\n",
    "            #,'NRO_EJECUTORAS_X_PROYECTO' # Incluido en NRO_EJECUTORAS_X_PROYECTO_ANIO\n",
    "            ]\n",
    "               \n",
    "df_entrada_drop = df_entrada_cleaned.drop(col_to_drop, axis='columns', inplace=False)"
   ]
  },
  {
   "cell_type": "code",
   "execution_count": 280,
   "metadata": {},
   "outputs": [
    {
     "name": "stdout",
     "output_type": "stream",
     "text": [
      "<class 'pandas.core.frame.DataFrame'>\n",
      "Index: 53674 entries, 70389 to 627802\n",
      "Data columns (total 23 columns):\n",
      " #   Column                            Non-Null Count  Dtype  \n",
      "---  ------                            --------------  -----  \n",
      " 0   NIVEL                             53674 non-null  int64  \n",
      " 1   DPTO                              53674 non-null  int64  \n",
      " 2   FUNCION                           53674 non-null  int64  \n",
      " 3   PIM                               53674 non-null  int64  \n",
      " 4   IP                                53674 non-null  float64\n",
      " 5   NRO_PRESIDENTES_X_ANO             53674 non-null  int64  \n",
      " 6   PANDEMIA                          53674 non-null  int64  \n",
      " 7   CAMBIO_GOBIERNO_REGIONAL_LOCAL    53674 non-null  int64  \n",
      " 8   ELECCION_REGIONAL_LOCAL           53674 non-null  int64  \n",
      " 9   TIPO_GOBIERNO_NACIONAL            53674 non-null  object \n",
      " 10  NRO_CONFLICTO_SOCIAL_X_ANO        53674 non-null  int64  \n",
      " 11  INFLACION_ANUAL                   53674 non-null  float64\n",
      " 12  PROYECTO_EDAD_NETA                53674 non-null  int64  \n",
      " 13  PROYECTO_EDAD_BRUTA               53674 non-null  int64  \n",
      " 14  IGEIP_EJECUCION                   53674 non-null  float64\n",
      " 15  NRO_EJECUTORAS_X_PROYECTO         53674 non-null  int64  \n",
      " 16  NPRY_PUNTAJEIRI                   53674 non-null  float64\n",
      " 17  PUNTAJE_INCO_EJECUTORA            53674 non-null  float64\n",
      " 18  MONTO_VIABLE                      53674 non-null  float64\n",
      " 19  COSTO_ACTUALIZADO                 53674 non-null  float64\n",
      " 20  MODALIDAD_EJECUCION               53674 non-null  object \n",
      " 21  NRO_PROYECTOS_X_EJECUTORA_X_ANIO  53674 non-null  int64  \n",
      " 22  CLASE                             53674 non-null  int64  \n",
      "dtypes: float64(7), int64(14), object(2)\n",
      "memory usage: 9.8+ MB\n"
     ]
    }
   ],
   "source": [
    "df_entrada_drop.info()"
   ]
  },
  {
   "cell_type": "markdown",
   "metadata": {},
   "source": [
    "## ONE HOT"
   ]
  },
  {
   "cell_type": "code",
   "execution_count": 282,
   "metadata": {},
   "outputs": [],
   "source": [
    "# Aplicar one-hot encoding a 'columna1'\n",
    "columns_to_one_hot_encode = [#'NIVEL',\n",
    "                              'TIPO_GOBIERNO_NACIONAL'\n",
    "                             , 'DPTO'\n",
    "                             , 'FUNCION'\n",
    "                             , 'MODALIDAD_EJECUCION']\n",
    "df_one_hot = pd.get_dummies(df_entrada_drop, columns=columns_to_one_hot_encode, dtype=int)"
   ]
  },
  {
   "cell_type": "code",
   "execution_count": 283,
   "metadata": {},
   "outputs": [],
   "source": [
    "(\n",
    "    df_one_hot.rename(columns={'TIPO_GOBIERNO_NACIONAL_Centro derecha': 'tgn_centro_derecha',\n",
    "                                'TIPO_GOBIERNO_NACIONAL_Centro izquierda': 'tgn_centro_izquierda',\n",
    "                                'TIPO_GOBIERNO_NACIONAL_Izquierda': 'tgn_izquierda',\n",
    "                                        }, inplace=True)\n",
    ")"
   ]
  },
  {
   "cell_type": "code",
   "execution_count": 284,
   "metadata": {},
   "outputs": [
    {
     "name": "stdout",
     "output_type": "stream",
     "text": [
      "<class 'pandas.core.frame.DataFrame'>\n",
      "Index: 53674 entries, 70389 to 627802\n",
      "Data columns (total 73 columns):\n",
      " #   Column                               Non-Null Count  Dtype  \n",
      "---  ------                               --------------  -----  \n",
      " 0   NIVEL                                53674 non-null  int64  \n",
      " 1   PIM                                  53674 non-null  int64  \n",
      " 2   IP                                   53674 non-null  float64\n",
      " 3   NRO_PRESIDENTES_X_ANO                53674 non-null  int64  \n",
      " 4   PANDEMIA                             53674 non-null  int64  \n",
      " 5   CAMBIO_GOBIERNO_REGIONAL_LOCAL       53674 non-null  int64  \n",
      " 6   ELECCION_REGIONAL_LOCAL              53674 non-null  int64  \n",
      " 7   NRO_CONFLICTO_SOCIAL_X_ANO           53674 non-null  int64  \n",
      " 8   INFLACION_ANUAL                      53674 non-null  float64\n",
      " 9   PROYECTO_EDAD_NETA                   53674 non-null  int64  \n",
      " 10  PROYECTO_EDAD_BRUTA                  53674 non-null  int64  \n",
      " 11  IGEIP_EJECUCION                      53674 non-null  float64\n",
      " 12  NRO_EJECUTORAS_X_PROYECTO            53674 non-null  int64  \n",
      " 13  NPRY_PUNTAJEIRI                      53674 non-null  float64\n",
      " 14  PUNTAJE_INCO_EJECUTORA               53674 non-null  float64\n",
      " 15  MONTO_VIABLE                         53674 non-null  float64\n",
      " 16  COSTO_ACTUALIZADO                    53674 non-null  float64\n",
      " 17  NRO_PROYECTOS_X_EJECUTORA_X_ANIO     53674 non-null  int64  \n",
      " 18  CLASE                                53674 non-null  int64  \n",
      " 19  tgn_centro_derecha                   53674 non-null  int64  \n",
      " 20  tgn_centro_izquierda                 53674 non-null  int64  \n",
      " 21  tgn_izquierda                        53674 non-null  int64  \n",
      " 22  DPTO_1                               53674 non-null  int64  \n",
      " 23  DPTO_2                               53674 non-null  int64  \n",
      " 24  DPTO_3                               53674 non-null  int64  \n",
      " 25  DPTO_4                               53674 non-null  int64  \n",
      " 26  DPTO_5                               53674 non-null  int64  \n",
      " 27  DPTO_6                               53674 non-null  int64  \n",
      " 28  DPTO_7                               53674 non-null  int64  \n",
      " 29  DPTO_8                               53674 non-null  int64  \n",
      " 30  DPTO_9                               53674 non-null  int64  \n",
      " 31  DPTO_10                              53674 non-null  int64  \n",
      " 32  DPTO_11                              53674 non-null  int64  \n",
      " 33  DPTO_12                              53674 non-null  int64  \n",
      " 34  DPTO_13                              53674 non-null  int64  \n",
      " 35  DPTO_14                              53674 non-null  int64  \n",
      " 36  DPTO_15                              53674 non-null  int64  \n",
      " 37  DPTO_16                              53674 non-null  int64  \n",
      " 38  DPTO_17                              53674 non-null  int64  \n",
      " 39  DPTO_18                              53674 non-null  int64  \n",
      " 40  DPTO_19                              53674 non-null  int64  \n",
      " 41  DPTO_20                              53674 non-null  int64  \n",
      " 42  DPTO_21                              53674 non-null  int64  \n",
      " 43  DPTO_22                              53674 non-null  int64  \n",
      " 44  DPTO_23                              53674 non-null  int64  \n",
      " 45  DPTO_24                              53674 non-null  int64  \n",
      " 46  DPTO_25                              53674 non-null  int64  \n",
      " 47  FUNCION_2                            53674 non-null  int64  \n",
      " 48  FUNCION_3                            53674 non-null  int64  \n",
      " 49  FUNCION_4                            53674 non-null  int64  \n",
      " 50  FUNCION_5                            53674 non-null  int64  \n",
      " 51  FUNCION_6                            53674 non-null  int64  \n",
      " 52  FUNCION_7                            53674 non-null  int64  \n",
      " 53  FUNCION_8                            53674 non-null  int64  \n",
      " 54  FUNCION_9                            53674 non-null  int64  \n",
      " 55  FUNCION_10                           53674 non-null  int64  \n",
      " 56  FUNCION_11                           53674 non-null  int64  \n",
      " 57  FUNCION_12                           53674 non-null  int64  \n",
      " 58  FUNCION_13                           53674 non-null  int64  \n",
      " 59  FUNCION_14                           53674 non-null  int64  \n",
      " 60  FUNCION_15                           53674 non-null  int64  \n",
      " 61  FUNCION_16                           53674 non-null  int64  \n",
      " 62  FUNCION_17                           53674 non-null  int64  \n",
      " 63  FUNCION_18                           53674 non-null  int64  \n",
      " 64  FUNCION_19                           53674 non-null  int64  \n",
      " 65  FUNCION_20                           53674 non-null  int64  \n",
      " 66  FUNCION_21                           53674 non-null  int64  \n",
      " 67  FUNCION_22                           53674 non-null  int64  \n",
      " 68  FUNCION_23                           53674 non-null  int64  \n",
      " 69  MODALIDAD_EJECUCION_DIRECTA          53674 non-null  int64  \n",
      " 70  MODALIDAD_EJECUCION_INDIRECTA        53674 non-null  int64  \n",
      " 71  MODALIDAD_EJECUCION_MIXTA            53674 non-null  int64  \n",
      " 72  MODALIDAD_EJECUCION_SIN_INFORMACION  53674 non-null  int64  \n",
      "dtypes: float64(7), int64(66)\n",
      "memory usage: 30.3 MB\n"
     ]
    }
   ],
   "source": [
    "df_one_hot.info()"
   ]
  },
  {
   "cell_type": "code",
   "execution_count": 285,
   "metadata": {},
   "outputs": [
    {
     "name": "stdout",
     "output_type": "stream",
     "text": [
      "<class 'pandas.core.frame.DataFrame'>\n",
      "Index: 53674 entries, 70389 to 627802\n",
      "Data columns (total 73 columns):\n",
      " #   Column                               Non-Null Count  Dtype  \n",
      "---  ------                               --------------  -----  \n",
      " 0   NIVEL                                53674 non-null  int64  \n",
      " 1   PIM                                  53674 non-null  int64  \n",
      " 2   IP                                   53674 non-null  float64\n",
      " 3   NRO_PRESIDENTES_X_ANO                53674 non-null  int64  \n",
      " 4   PANDEMIA                             53674 non-null  int64  \n",
      " 5   CAMBIO_GOBIERNO_REGIONAL_LOCAL       53674 non-null  int64  \n",
      " 6   ELECCION_REGIONAL_LOCAL              53674 non-null  int64  \n",
      " 7   NRO_CONFLICTO_SOCIAL_X_ANO           53674 non-null  int64  \n",
      " 8   INFLACION_ANUAL                      53674 non-null  float64\n",
      " 9   PROYECTO_EDAD_NETA                   53674 non-null  int64  \n",
      " 10  PROYECTO_EDAD_BRUTA                  53674 non-null  int64  \n",
      " 11  IGEIP_EJECUCION                      53674 non-null  float64\n",
      " 12  NRO_EJECUTORAS_X_PROYECTO            53674 non-null  int64  \n",
      " 13  NPRY_PUNTAJEIRI                      53674 non-null  float64\n",
      " 14  PUNTAJE_INCO_EJECUTORA               53674 non-null  float64\n",
      " 15  MONTO_VIABLE                         53674 non-null  float64\n",
      " 16  COSTO_ACTUALIZADO                    53674 non-null  float64\n",
      " 17  NRO_PROYECTOS_X_EJECUTORA_X_ANIO     53674 non-null  int64  \n",
      " 18  CLASE                                53674 non-null  int64  \n",
      " 19  tgn_centro_derecha                   53674 non-null  int64  \n",
      " 20  tgn_centro_izquierda                 53674 non-null  int64  \n",
      " 21  tgn_izquierda                        53674 non-null  int64  \n",
      " 22  DPTO_1                               53674 non-null  int64  \n",
      " 23  DPTO_2                               53674 non-null  int64  \n",
      " 24  DPTO_3                               53674 non-null  int64  \n",
      " 25  DPTO_4                               53674 non-null  int64  \n",
      " 26  DPTO_5                               53674 non-null  int64  \n",
      " 27  DPTO_6                               53674 non-null  int64  \n",
      " 28  DPTO_7                               53674 non-null  int64  \n",
      " 29  DPTO_8                               53674 non-null  int64  \n",
      " 30  DPTO_9                               53674 non-null  int64  \n",
      " 31  DPTO_10                              53674 non-null  int64  \n",
      " 32  DPTO_11                              53674 non-null  int64  \n",
      " 33  DPTO_12                              53674 non-null  int64  \n",
      " 34  DPTO_13                              53674 non-null  int64  \n",
      " 35  DPTO_14                              53674 non-null  int64  \n",
      " 36  DPTO_15                              53674 non-null  int64  \n",
      " 37  DPTO_16                              53674 non-null  int64  \n",
      " 38  DPTO_17                              53674 non-null  int64  \n",
      " 39  DPTO_18                              53674 non-null  int64  \n",
      " 40  DPTO_19                              53674 non-null  int64  \n",
      " 41  DPTO_20                              53674 non-null  int64  \n",
      " 42  DPTO_21                              53674 non-null  int64  \n",
      " 43  DPTO_22                              53674 non-null  int64  \n",
      " 44  DPTO_23                              53674 non-null  int64  \n",
      " 45  DPTO_24                              53674 non-null  int64  \n",
      " 46  DPTO_25                              53674 non-null  int64  \n",
      " 47  FUNCION_2                            53674 non-null  int64  \n",
      " 48  FUNCION_3                            53674 non-null  int64  \n",
      " 49  FUNCION_4                            53674 non-null  int64  \n",
      " 50  FUNCION_5                            53674 non-null  int64  \n",
      " 51  FUNCION_6                            53674 non-null  int64  \n",
      " 52  FUNCION_7                            53674 non-null  int64  \n",
      " 53  FUNCION_8                            53674 non-null  int64  \n",
      " 54  FUNCION_9                            53674 non-null  int64  \n",
      " 55  FUNCION_10                           53674 non-null  int64  \n",
      " 56  FUNCION_11                           53674 non-null  int64  \n",
      " 57  FUNCION_12                           53674 non-null  int64  \n",
      " 58  FUNCION_13                           53674 non-null  int64  \n",
      " 59  FUNCION_14                           53674 non-null  int64  \n",
      " 60  FUNCION_15                           53674 non-null  int64  \n",
      " 61  FUNCION_16                           53674 non-null  int64  \n",
      " 62  FUNCION_17                           53674 non-null  int64  \n",
      " 63  FUNCION_18                           53674 non-null  int64  \n",
      " 64  FUNCION_19                           53674 non-null  int64  \n",
      " 65  FUNCION_20                           53674 non-null  int64  \n",
      " 66  FUNCION_21                           53674 non-null  int64  \n",
      " 67  FUNCION_22                           53674 non-null  int64  \n",
      " 68  FUNCION_23                           53674 non-null  int64  \n",
      " 69  MODALIDAD_EJECUCION_DIRECTA          53674 non-null  int64  \n",
      " 70  MODALIDAD_EJECUCION_INDIRECTA        53674 non-null  int64  \n",
      " 71  MODALIDAD_EJECUCION_MIXTA            53674 non-null  int64  \n",
      " 72  MODALIDAD_EJECUCION_SIN_INFORMACION  53674 non-null  int64  \n",
      "dtypes: float64(7), int64(66)\n",
      "memory usage: 30.3 MB\n"
     ]
    }
   ],
   "source": [
    "df_one_hot.info()"
   ]
  },
  {
   "cell_type": "markdown",
   "metadata": {},
   "source": [
    "## X e y"
   ]
  },
  {
   "cell_type": "code",
   "execution_count": 286,
   "metadata": {},
   "outputs": [],
   "source": [
    "X = df_one_hot.drop(['CLASE'], axis=1)\n",
    "y = df_one_hot['CLASE'].values"
   ]
  },
  {
   "cell_type": "markdown",
   "metadata": {},
   "source": [
    "## Split train and test"
   ]
  },
  {
   "cell_type": "code",
   "execution_count": 287,
   "metadata": {},
   "outputs": [],
   "source": [
    "from sklearn.model_selection import train_test_split\n",
    "(X_train, X_test, y_train, y_test) = train_test_split(X, y, test_size=0.3, random_state=42)"
   ]
  },
  {
   "cell_type": "markdown",
   "metadata": {},
   "source": [
    "# MODELING"
   ]
  },
  {
   "cell_type": "markdown",
   "metadata": {},
   "source": [
    "### RANDOM FOREST"
   ]
  },
  {
   "cell_type": "code",
   "execution_count": 289,
   "metadata": {},
   "outputs": [],
   "source": [
    "from sklearn.metrics import classification_report, confusion_matrix, accuracy_score\n",
    "from sklearn.model_selection import RandomizedSearchCV\n",
    "from time import time\n",
    "# 2. Función para entrenar y evaluar modelos\n",
    "def train_and_evaluate(model, X_train, X_test, y_train, y_test):\n",
    "    start_time = time()\n",
    "    model.fit(X_train, y_train)\n",
    "    train_time = time() - start_time\n",
    "    \n",
    "    start_time = time()\n",
    "    y_pred = model.predict(X_test)\n",
    "    predict_time = time() - start_time\n",
    "    \n",
    "    accuracy = accuracy_score(y_test, y_pred)\n",
    "    \n",
    "    print(f\"Accuracy: {accuracy:.4f}\")\n",
    "    print(f\"Training time: {train_time:.2f} seconds\")\n",
    "    print(f\"Prediction time: {predict_time:.2f} seconds\")\n",
    "    print(\"\\nClassification Report:\")\n",
    "    print(classification_report(y_test, y_pred))\n",
    "    print(\"\\nConfusion Matrix:\")\n",
    "    print(confusion_matrix(y_test, y_pred))"
   ]
  },
  {
   "cell_type": "code",
   "execution_count": 290,
   "metadata": {},
   "outputs": [
    {
     "name": "stdout",
     "output_type": "stream",
     "text": [
      "\n",
      "Training Random Forest model...\n",
      "Accuracy: 0.8035\n",
      "Training time: 4.47 seconds\n",
      "Prediction time: 0.27 seconds\n",
      "\n",
      "Classification Report:\n",
      "              precision    recall  f1-score   support\n",
      "\n",
      "           0       0.78      0.75      0.76      6838\n",
      "           1       0.82      0.84      0.83      9265\n",
      "\n",
      "    accuracy                           0.80     16103\n",
      "   macro avg       0.80      0.80      0.80     16103\n",
      "weighted avg       0.80      0.80      0.80     16103\n",
      "\n",
      "\n",
      "Confusion Matrix:\n",
      "[[5123 1715]\n",
      " [1450 7815]]\n"
     ]
    }
   ],
   "source": [
    "from sklearn.ensemble import RandomForestClassifier\n",
    "\n",
    "# 4. Random Forest\n",
    "print(\"\\nTraining Random Forest model...\")\n",
    "rf_model = RandomForestClassifier(n_estimators=500, random_state=42, n_jobs=-1)\n",
    "train_and_evaluate(rf_model, X_train, X_test, y_train, y_test)"
   ]
  },
  {
   "cell_type": "code",
   "execution_count": 302,
   "metadata": {},
   "outputs": [
    {
     "name": "stdout",
     "output_type": "stream",
     "text": [
      "\n",
      "Optimizing Random Forest hyperparameters...\n",
      "Fitting 3 folds for each of 10 candidates, totalling 30 fits\n",
      "Best parameters: {'n_estimators': 300, 'min_samples_split': 2, 'min_samples_leaf': 1, 'max_depth': None}\n",
      "\n",
      "Evaluating optimized Random Forest model...\n",
      "Accuracy: 0.8016\n",
      "Training time: 22.84 seconds\n",
      "Prediction time: 1.17 seconds\n",
      "\n",
      "Classification Report:\n",
      "              precision    recall  f1-score   support\n",
      "\n",
      "           0       0.78      0.75      0.76      6838\n",
      "           1       0.82      0.84      0.83      9265\n",
      "\n",
      "    accuracy                           0.80     16103\n",
      "   macro avg       0.80      0.79      0.80     16103\n",
      "weighted avg       0.80      0.80      0.80     16103\n",
      "\n",
      "\n",
      "Confusion Matrix:\n",
      "[[5114 1724]\n",
      " [1471 7794]]\n"
     ]
    }
   ],
   "source": [
    "\n",
    "# 5. Optimización de hiperparámetros para Random Forest\n",
    "print(\"\\nOptimizing Random Forest hyperparameters...\")\n",
    "param_dist = {\n",
    "    'n_estimators': [100, 200, 300],\n",
    "    'max_depth': [10, 20, 30, None],\n",
    "    'min_samples_split': [2, 5, 10],\n",
    "    'min_samples_leaf': [1, 2, 4]\n",
    "}\n",
    "\n",
    "rf_random = RandomizedSearchCV(estimator=RandomForestClassifier(random_state=42),\n",
    "                               param_distributions=param_dist,\n",
    "                               n_iter=10, cv=3, verbose=2, random_state=42, n_jobs=-1)\n",
    "\n",
    "rf_random.fit(X_train, y_train)\n",
    "\n",
    "print(\"Best parameters:\", rf_random.best_params_)\n",
    "print(\"\\nEvaluating optimized Random Forest model...\")\n",
    "train_and_evaluate(rf_random.best_estimator_, X_train, X_test, y_train, y_test)"
   ]
  },
  {
   "cell_type": "markdown",
   "metadata": {},
   "source": [
    "# StandardScaler"
   ]
  },
  {
   "cell_type": "markdown",
   "metadata": {},
   "source": [
    "## RobustScaler"
   ]
  },
  {
   "cell_type": "code",
   "execution_count": 292,
   "metadata": {},
   "outputs": [],
   "source": [
    "from sklearn.preprocessing import RobustScaler"
   ]
  },
  {
   "cell_type": "code",
   "execution_count": 293,
   "metadata": {},
   "outputs": [],
   "source": [
    "# Crear el objeto RobustScaler\n",
    "scaler = RobustScaler()\n",
    "\n",
    "# Ajustar el scaler a los datos de entrenamiento y transformar\n",
    "X_train_scaled = scaler.fit_transform(X_train)\n",
    "\n",
    "# Transformar los datos de prueba\n",
    "X_test_scaled = scaler.transform(X_test)"
   ]
  },
  {
   "cell_type": "code",
   "execution_count": 294,
   "metadata": {},
   "outputs": [],
   "source": [
    "# Convertir los resultados a DataFrames si es necesario\n",
    "X_train_rs = pd.DataFrame(X_train_scaled, columns=X_train.columns)\n",
    "X_test_rs = pd.DataFrame(X_test_scaled, columns=X_test.columns)"
   ]
  },
  {
   "cell_type": "markdown",
   "metadata": {},
   "source": [
    "### LogisticRegression"
   ]
  },
  {
   "cell_type": "code",
   "execution_count": 303,
   "metadata": {},
   "outputs": [
    {
     "name": "stderr",
     "output_type": "stream",
     "text": [
      "c:\\ws\\scm\\github\\mia\\MIA104\\.venv\\Lib\\site-packages\\sklearn\\linear_model\\_logistic.py:469: ConvergenceWarning: lbfgs failed to converge (status=1):\n",
      "STOP: TOTAL NO. of ITERATIONS REACHED LIMIT.\n",
      "\n",
      "Increase the number of iterations (max_iter) or scale the data as shown in:\n",
      "    https://scikit-learn.org/stable/modules/preprocessing.html\n",
      "Please also refer to the documentation for alternative solver options:\n",
      "    https://scikit-learn.org/stable/modules/linear_model.html#logistic-regression\n",
      "  n_iter_i = _check_optimize_result(\n"
     ]
    }
   ],
   "source": [
    "from sklearn.linear_model import LogisticRegression\n",
    "model = LogisticRegression()\n",
    "result = model.fit(X_train_scaled, y_train)"
   ]
  },
  {
   "cell_type": "code",
   "execution_count": 305,
   "metadata": {},
   "outputs": [
    {
     "name": "stdout",
     "output_type": "stream",
     "text": [
      "0.6424268769794448\n"
     ]
    }
   ],
   "source": [
    "from sklearn.metrics import accuracy_score\n",
    "prediction_test = model.predict(X_test_scaled)\n",
    "print(accuracy_score(y_test, prediction_test))"
   ]
  },
  {
   "cell_type": "markdown",
   "metadata": {},
   "source": [
    "### RandomForest"
   ]
  },
  {
   "cell_type": "code",
   "execution_count": 297,
   "metadata": {},
   "outputs": [
    {
     "name": "stdout",
     "output_type": "stream",
     "text": [
      "\n",
      "Training Random Forest model...\n",
      "Accuracy: 0.7988\n",
      "Training time: 1.07 seconds\n",
      "Prediction time: 0.09 seconds\n",
      "\n",
      "Classification Report:\n",
      "              precision    recall  f1-score   support\n",
      "\n",
      "           0       0.77      0.75      0.76      6838\n",
      "           1       0.82      0.84      0.83      9265\n",
      "\n",
      "    accuracy                           0.80     16103\n",
      "   macro avg       0.79      0.79      0.79     16103\n",
      "weighted avg       0.80      0.80      0.80     16103\n",
      "\n",
      "\n",
      "Confusion Matrix:\n",
      "[[5114 1724]\n",
      " [1516 7749]]\n"
     ]
    }
   ],
   "source": [
    "from sklearn.ensemble import RandomForestClassifier\n",
    "\n",
    "# 4. Random Forest\n",
    "print(\"\\nTraining Random Forest model...\")\n",
    "rf_model = RandomForestClassifier(n_estimators=100, random_state=42, n_jobs=-1)\n",
    "train_and_evaluate(rf_model, X_train_scaled, X_test_scaled, y_train, y_test)"
   ]
  },
  {
   "cell_type": "code",
   "execution_count": 298,
   "metadata": {},
   "outputs": [],
   "source": [
    "feature_importances = rf_model.feature_importances_\n",
    "\n",
    "importances_df = pd.DataFrame({\n",
    "    'feature': X_train.columns,\n",
    "    'importance': feature_importances\n",
    "})  \n",
    "\n",
    "importances_df = importances_df.sort_values('importance', ascending=False)"
   ]
  },
  {
   "cell_type": "code",
   "execution_count": 299,
   "metadata": {},
   "outputs": [
    {
     "data": {
      "text/html": [
       "<div>\n",
       "<style scoped>\n",
       "    .dataframe tbody tr th:only-of-type {\n",
       "        vertical-align: middle;\n",
       "    }\n",
       "\n",
       "    .dataframe tbody tr th {\n",
       "        vertical-align: top;\n",
       "    }\n",
       "\n",
       "    .dataframe thead th {\n",
       "        text-align: right;\n",
       "    }\n",
       "</style>\n",
       "<table border=\"1\" class=\"dataframe\">\n",
       "  <thead>\n",
       "    <tr style=\"text-align: right;\">\n",
       "      <th></th>\n",
       "      <th>feature</th>\n",
       "      <th>importance</th>\n",
       "    </tr>\n",
       "  </thead>\n",
       "  <tbody>\n",
       "    <tr>\n",
       "      <th>1</th>\n",
       "      <td>PIM</td>\n",
       "      <td>0.133832</td>\n",
       "    </tr>\n",
       "    <tr>\n",
       "      <th>15</th>\n",
       "      <td>MONTO_VIABLE</td>\n",
       "      <td>0.117284</td>\n",
       "    </tr>\n",
       "    <tr>\n",
       "      <th>16</th>\n",
       "      <td>COSTO_ACTUALIZADO</td>\n",
       "      <td>0.116976</td>\n",
       "    </tr>\n",
       "    <tr>\n",
       "      <th>13</th>\n",
       "      <td>NPRY_PUNTAJEIRI</td>\n",
       "      <td>0.088913</td>\n",
       "    </tr>\n",
       "    <tr>\n",
       "      <th>17</th>\n",
       "      <td>NRO_PROYECTOS_X_EJECUTORA_X_ANIO</td>\n",
       "      <td>0.073828</td>\n",
       "    </tr>\n",
       "    <tr>\n",
       "      <th>14</th>\n",
       "      <td>PUNTAJE_INCO_EJECUTORA</td>\n",
       "      <td>0.057397</td>\n",
       "    </tr>\n",
       "    <tr>\n",
       "      <th>10</th>\n",
       "      <td>PROYECTO_EDAD_BRUTA</td>\n",
       "      <td>0.057170</td>\n",
       "    </tr>\n",
       "    <tr>\n",
       "      <th>9</th>\n",
       "      <td>PROYECTO_EDAD_NETA</td>\n",
       "      <td>0.055679</td>\n",
       "    </tr>\n",
       "    <tr>\n",
       "      <th>2</th>\n",
       "      <td>IP</td>\n",
       "      <td>0.031701</td>\n",
       "    </tr>\n",
       "    <tr>\n",
       "      <th>8</th>\n",
       "      <td>INFLACION_ANUAL</td>\n",
       "      <td>0.024229</td>\n",
       "    </tr>\n",
       "    <tr>\n",
       "      <th>7</th>\n",
       "      <td>NRO_CONFLICTO_SOCIAL_X_ANO</td>\n",
       "      <td>0.021376</td>\n",
       "    </tr>\n",
       "    <tr>\n",
       "      <th>11</th>\n",
       "      <td>IGEIP_EJECUCION</td>\n",
       "      <td>0.014104</td>\n",
       "    </tr>\n",
       "    <tr>\n",
       "      <th>69</th>\n",
       "      <td>MODALIDAD_EJECUCION_INDIRECTA</td>\n",
       "      <td>0.012332</td>\n",
       "    </tr>\n",
       "    <tr>\n",
       "      <th>3</th>\n",
       "      <td>NRO_PRESIDENTES_X_ANO</td>\n",
       "      <td>0.011935</td>\n",
       "    </tr>\n",
       "    <tr>\n",
       "      <th>18</th>\n",
       "      <td>tgn_centro_derecha</td>\n",
       "      <td>0.010743</td>\n",
       "    </tr>\n",
       "    <tr>\n",
       "      <th>12</th>\n",
       "      <td>NRO_EJECUTORAS_X_PROYECTO</td>\n",
       "      <td>0.010722</td>\n",
       "    </tr>\n",
       "    <tr>\n",
       "      <th>71</th>\n",
       "      <td>MODALIDAD_EJECUCION_SIN_INFORMACION</td>\n",
       "      <td>0.010649</td>\n",
       "    </tr>\n",
       "    <tr>\n",
       "      <th>54</th>\n",
       "      <td>FUNCION_10</td>\n",
       "      <td>0.010472</td>\n",
       "    </tr>\n",
       "    <tr>\n",
       "      <th>66</th>\n",
       "      <td>FUNCION_22</td>\n",
       "      <td>0.010172</td>\n",
       "    </tr>\n",
       "    <tr>\n",
       "      <th>62</th>\n",
       "      <td>FUNCION_18</td>\n",
       "      <td>0.008317</td>\n",
       "    </tr>\n",
       "  </tbody>\n",
       "</table>\n",
       "</div>"
      ],
      "text/plain": [
       "                                feature  importance\n",
       "1                                   PIM    0.133832\n",
       "15                         MONTO_VIABLE    0.117284\n",
       "16                    COSTO_ACTUALIZADO    0.116976\n",
       "13                      NPRY_PUNTAJEIRI    0.088913\n",
       "17     NRO_PROYECTOS_X_EJECUTORA_X_ANIO    0.073828\n",
       "14               PUNTAJE_INCO_EJECUTORA    0.057397\n",
       "10                  PROYECTO_EDAD_BRUTA    0.057170\n",
       "9                    PROYECTO_EDAD_NETA    0.055679\n",
       "2                                    IP    0.031701\n",
       "8                       INFLACION_ANUAL    0.024229\n",
       "7            NRO_CONFLICTO_SOCIAL_X_ANO    0.021376\n",
       "11                      IGEIP_EJECUCION    0.014104\n",
       "69        MODALIDAD_EJECUCION_INDIRECTA    0.012332\n",
       "3                 NRO_PRESIDENTES_X_ANO    0.011935\n",
       "18                   tgn_centro_derecha    0.010743\n",
       "12            NRO_EJECUTORAS_X_PROYECTO    0.010722\n",
       "71  MODALIDAD_EJECUCION_SIN_INFORMACION    0.010649\n",
       "54                           FUNCION_10    0.010472\n",
       "66                           FUNCION_22    0.010172\n",
       "62                           FUNCION_18    0.008317"
      ]
     },
     "execution_count": 299,
     "metadata": {},
     "output_type": "execute_result"
    }
   ],
   "source": [
    "importances_df.head(20)"
   ]
  },
  {
   "cell_type": "markdown",
   "metadata": {},
   "source": [
    "#### Optimización"
   ]
  },
  {
   "cell_type": "code",
   "execution_count": 300,
   "metadata": {},
   "outputs": [
    {
     "name": "stdout",
     "output_type": "stream",
     "text": [
      "\n",
      "Optimizing Random Forest hyperparameters...\n",
      "Fitting 3 folds for each of 10 candidates, totalling 30 fits\n",
      "Best parameters: {'n_estimators': 300, 'min_samples_split': 2, 'min_samples_leaf': 1, 'max_depth': None}\n",
      "\n",
      "Evaluating optimized Random Forest model...\n",
      "Accuracy: 0.8024\n",
      "Training time: 16.71 seconds\n",
      "Prediction time: 0.89 seconds\n",
      "\n",
      "Classification Report:\n",
      "              precision    recall  f1-score   support\n",
      "\n",
      "           0       0.78      0.75      0.76      6838\n",
      "           1       0.82      0.84      0.83      9265\n",
      "\n",
      "    accuracy                           0.80     16103\n",
      "   macro avg       0.80      0.80      0.80     16103\n",
      "weighted avg       0.80      0.80      0.80     16103\n",
      "\n",
      "\n",
      "Confusion Matrix:\n",
      "[[5115 1723]\n",
      " [1459 7806]]\n"
     ]
    }
   ],
   "source": [
    "# 5. Optimización de hiperparámetros para Random Forest\n",
    "print(\"\\nOptimizing Random Forest hyperparameters...\")\n",
    "param_dist = {\n",
    "    'n_estimators': [100, 200, 300],\n",
    "    'max_depth': [10, 20, 30, None],\n",
    "    'min_samples_split': [2, 5, 10],\n",
    "    'min_samples_leaf': [1, 2, 4]\n",
    "}\n",
    "\n",
    "rf_random = RandomizedSearchCV(estimator=RandomForestClassifier(random_state=42),\n",
    "                               param_distributions=param_dist,\n",
    "                               n_iter=10, cv=3, verbose=2, random_state=42, n_jobs=-1)\n",
    "\n",
    "rf_random.fit(X_train_scaled, y_train)\n",
    "\n",
    "print(\"Best parameters:\", rf_random.best_params_)\n",
    "print(\"\\nEvaluating optimized Random Forest model...\")\n",
    "train_and_evaluate(rf_random.best_estimator_, X_train_scaled, X_test_scaled, y_train, y_test)"
   ]
  }
 ],
 "metadata": {
  "kernelspec": {
   "display_name": ".venv",
   "language": "python",
   "name": "python3"
  },
  "language_info": {
   "codemirror_mode": {
    "name": "ipython",
    "version": 3
   },
   "file_extension": ".py",
   "mimetype": "text/x-python",
   "name": "python",
   "nbconvert_exporter": "python",
   "pygments_lexer": "ipython3",
   "version": "3.12.4"
  }
 },
 "nbformat": 4,
 "nbformat_minor": 2
}
