{
 "cells": [
  {
   "cell_type": "markdown",
   "metadata": {},
   "source": [
    "## Cargamos el dataset"
   ]
  },
  {
   "cell_type": "code",
   "execution_count": 9,
   "metadata": {},
   "outputs": [],
   "source": [
    "#Importamos las librerias principales\n",
    "import numpy as np \n",
    "import pandas as pd \n",
    "import matplotlib.pyplot as plt\n",
    "import seaborn as sns"
   ]
  },
  {
   "cell_type": "code",
   "execution_count": 10,
   "metadata": {},
   "outputs": [],
   "source": [
    "#Cargamos dataset a utilizar\n",
    "df_entrada = pd.read_csv(\"../data/ds_gasto_5.csv\", sep=\";\")"
   ]
  },
  {
   "cell_type": "code",
   "execution_count": 11,
   "metadata": {},
   "outputs": [
    {
     "name": "stdout",
     "output_type": "stream",
     "text": [
      "<class 'pandas.core.frame.DataFrame'>\n",
      "RangeIndex: 627803 entries, 0 to 627802\n",
      "Data columns (total 36 columns):\n",
      " #   Column                            Non-Null Count   Dtype  \n",
      "---  ------                            --------------   -----  \n",
      " 0   ANIO                              627803 non-null  int64  \n",
      " 1   NIVEL                             627803 non-null  int64  \n",
      " 2   NIVEL_GOBIERNO                    627803 non-null  object \n",
      " 3   DPTO                              627803 non-null  int64  \n",
      " 4   DEPARTAMENTO_EJECUTORA_NOMBRE     627803 non-null  object \n",
      " 5   FUNCION                           627803 non-null  int64  \n",
      " 6   FUNCION_NOMBRE                    627803 non-null  object \n",
      " 7   PIA                               627803 non-null  int64  \n",
      " 8   PIM                               627803 non-null  int64  \n",
      " 9   DEVENGADO                         627803 non-null  float64\n",
      " 10  IP                                627803 non-null  float64\n",
      " 11  CAMBIO_GOBIERNO_NACIONAL          627803 non-null  int64  \n",
      " 12  NRO_PRESIDENTES_X_ANO             627803 non-null  int64  \n",
      " 13  FENOMENO_NINO                     627803 non-null  int64  \n",
      " 14  PANDEMIA                          627803 non-null  int64  \n",
      " 15  CAMBIO_GOBIERNO_REGIONAL_LOCAL    627803 non-null  int64  \n",
      " 16  ELECCION_REGIONAL_LOCAL           627803 non-null  int64  \n",
      " 17  TIPO_GOBIERNO_NACIONAL            627803 non-null  object \n",
      " 18  NRO_CONFLICTO_SOCIAL_X_ANO        627803 non-null  int64  \n",
      " 19  INFLACION_ANUAL                   627803 non-null  float64\n",
      " 20  PROYECTO                          627803 non-null  int64  \n",
      " 21  EJECUTORA                         627803 non-null  int64  \n",
      " 22  PROYECTO_EDAD_NETA                627803 non-null  int64  \n",
      " 23  PROYECTO_EDAD_BRUTA               627803 non-null  int64  \n",
      " 24  IGEIP_EJECUCION                   627803 non-null  float64\n",
      " 25  P_INCO_AVG                        627803 non-null  float64\n",
      " 26  NEJE_PUNTAJEIRI                   627803 non-null  float64\n",
      " 27  NRO_EJECUTORAS_X_PROYECTO         627803 non-null  int64  \n",
      " 28  NPRY_PUNTAJEIRI                   627803 non-null  float64\n",
      " 29  PUNTAJE_INCO_EJECUTORA            627803 non-null  float64\n",
      " 30  MONTO_VIABLE                      522452 non-null  float64\n",
      " 31  COSTO_ACTUALIZADO                 523620 non-null  float64\n",
      " 32  MODALIDAD_EJECUCION               627803 non-null  object \n",
      " 33  NRO_PROYECTOS_X_EJECUTORA_X_ANIO  627803 non-null  int64  \n",
      " 34  AVANCE                            627803 non-null  float64\n",
      " 35  CLASE                             627803 non-null  int64  \n",
      "dtypes: float64(11), int64(20), object(5)\n",
      "memory usage: 172.4+ MB\n"
     ]
    }
   ],
   "source": [
    "df_entrada.info()"
   ]
  },
  {
   "cell_type": "markdown",
   "metadata": {},
   "source": [
    "### NULL values -> costo_actualizado, monto_viable"
   ]
  },
  {
   "cell_type": "code",
   "execution_count": 12,
   "metadata": {},
   "outputs": [
    {
     "data": {
      "text/plain": [
       "ANIO                                     0\n",
       "NIVEL                                    0\n",
       "NIVEL_GOBIERNO                           0\n",
       "DPTO                                     0\n",
       "DEPARTAMENTO_EJECUTORA_NOMBRE            0\n",
       "FUNCION                                  0\n",
       "FUNCION_NOMBRE                           0\n",
       "PIA                                      0\n",
       "PIM                                      0\n",
       "DEVENGADO                                0\n",
       "IP                                       0\n",
       "CAMBIO_GOBIERNO_NACIONAL                 0\n",
       "NRO_PRESIDENTES_X_ANO                    0\n",
       "FENOMENO_NINO                            0\n",
       "PANDEMIA                                 0\n",
       "CAMBIO_GOBIERNO_REGIONAL_LOCAL           0\n",
       "ELECCION_REGIONAL_LOCAL                  0\n",
       "TIPO_GOBIERNO_NACIONAL                   0\n",
       "NRO_CONFLICTO_SOCIAL_X_ANO               0\n",
       "INFLACION_ANUAL                          0\n",
       "PROYECTO                                 0\n",
       "EJECUTORA                                0\n",
       "PROYECTO_EDAD_NETA                       0\n",
       "PROYECTO_EDAD_BRUTA                      0\n",
       "IGEIP_EJECUCION                          0\n",
       "P_INCO_AVG                               0\n",
       "NEJE_PUNTAJEIRI                          0\n",
       "NRO_EJECUTORAS_X_PROYECTO                0\n",
       "NPRY_PUNTAJEIRI                          0\n",
       "PUNTAJE_INCO_EJECUTORA                   0\n",
       "MONTO_VIABLE                        105351\n",
       "COSTO_ACTUALIZADO                   104183\n",
       "MODALIDAD_EJECUCION                      0\n",
       "NRO_PROYECTOS_X_EJECUTORA_X_ANIO         0\n",
       "AVANCE                                   0\n",
       "CLASE                                    0\n",
       "dtype: int64"
      ]
     },
     "execution_count": 12,
     "metadata": {},
     "output_type": "execute_result"
    }
   ],
   "source": [
    "df_entrada.isnull().sum()  "
   ]
  },
  {
   "cell_type": "code",
   "execution_count": 13,
   "metadata": {},
   "outputs": [],
   "source": [
    "df_entrada_cleaned = df_entrada.dropna(subset=['MONTO_VIABLE'])"
   ]
  },
  {
   "cell_type": "code",
   "execution_count": 14,
   "metadata": {},
   "outputs": [
    {
     "data": {
      "text/plain": [
       "ANIO                                0\n",
       "NIVEL                               0\n",
       "NIVEL_GOBIERNO                      0\n",
       "DPTO                                0\n",
       "DEPARTAMENTO_EJECUTORA_NOMBRE       0\n",
       "FUNCION                             0\n",
       "FUNCION_NOMBRE                      0\n",
       "PIA                                 0\n",
       "PIM                                 0\n",
       "DEVENGADO                           0\n",
       "IP                                  0\n",
       "CAMBIO_GOBIERNO_NACIONAL            0\n",
       "NRO_PRESIDENTES_X_ANO               0\n",
       "FENOMENO_NINO                       0\n",
       "PANDEMIA                            0\n",
       "CAMBIO_GOBIERNO_REGIONAL_LOCAL      0\n",
       "ELECCION_REGIONAL_LOCAL             0\n",
       "TIPO_GOBIERNO_NACIONAL              0\n",
       "NRO_CONFLICTO_SOCIAL_X_ANO          0\n",
       "INFLACION_ANUAL                     0\n",
       "PROYECTO                            0\n",
       "EJECUTORA                           0\n",
       "PROYECTO_EDAD_NETA                  0\n",
       "PROYECTO_EDAD_BRUTA                 0\n",
       "IGEIP_EJECUCION                     0\n",
       "P_INCO_AVG                          0\n",
       "NEJE_PUNTAJEIRI                     0\n",
       "NRO_EJECUTORAS_X_PROYECTO           0\n",
       "NPRY_PUNTAJEIRI                     0\n",
       "PUNTAJE_INCO_EJECUTORA              0\n",
       "MONTO_VIABLE                        0\n",
       "COSTO_ACTUALIZADO                   0\n",
       "MODALIDAD_EJECUCION                 0\n",
       "NRO_PROYECTOS_X_EJECUTORA_X_ANIO    0\n",
       "AVANCE                              0\n",
       "CLASE                               0\n",
       "dtype: int64"
      ]
     },
     "execution_count": 14,
     "metadata": {},
     "output_type": "execute_result"
    }
   ],
   "source": [
    "df_entrada_cleaned.isnull().sum()  "
   ]
  },
  {
   "cell_type": "markdown",
   "metadata": {},
   "source": [
    "## EXPLORACION"
   ]
  },
  {
   "cell_type": "code",
   "execution_count": 46,
   "metadata": {},
   "outputs": [
    {
     "data": {
      "image/png": "[encoded data removed]",
      "text/plain": [
       "<Figure size 800x500 with 1 Axes>"
      ]
     },
     "metadata": {},
     "output_type": "display_data"
    }
   ],
   "source": [
    "# Create a histogram for objective\n",
    "plt.figure(figsize=(8, 5))\n",
    "sns.histplot(df_entrada_cleaned['CLASE'], bins=10, kde=False)\n",
    "plt.xlabel('objective')\n",
    "plt.ylabel('Frequency')\n",
    "plt.title('Histogram of CLASE')\n",
    "plt.show()"
   ]
  },
  {
   "cell_type": "code",
   "execution_count": 15,
   "metadata": {},
   "outputs": [
    {
     "data": {
      "image/png": "[encoded data removed]",
      "text/plain": [
       "<Figure size 800x600 with 1 Axes>"
      ]
     },
     "metadata": {},
     "output_type": "display_data"
    }
   ],
   "source": [
    "fig, ax = plt.subplots(figsize=(8, 6))  # Aumentamos el ancho para estirar horizontalmente\n",
    "sns.countplot(\n",
    "    data=df_entrada_cleaned,\n",
    "    x='MODALIDAD_EJECUCION',\n",
    "    hue='CLASE',\n",
    "    #palette=sns.color_palette(\"tab10\"),\n",
    "    ax=ax\n",
    ")\n",
    "# Rotamos las etiquetas del eje x verticalmente\n",
    "plt.xticks(rotation=90, ha='center')\n",
    "# Ajustamos el diseño para que las etiquetas no se corten\n",
    "plt.tight_layout()\n",
    "# Mostramos el gráfico\n",
    "plt.show()"
   ]
  },
  {
   "cell_type": "code",
   "execution_count": 52,
   "metadata": {},
   "outputs": [
    {
     "data": {
      "image/png": "[encoded data removed]",
      "text/plain": [
       "<Figure size 640x480 with 1 Axes>"
      ]
     },
     "metadata": {},
     "output_type": "display_data"
    }
   ],
   "source": [
    "df_entrada_mayor_2021=df_entrada_cleaned.query('ANIO == 2019')\n",
    "df_entrada_cleaned.plot.scatter(x=\"COSTO_ACTUALIZADO\", y=\"AVANCE\", alpha=0.25)\n",
    "#df_entrada.plot.scatter(x=\"PUNTAJE_INCO_EJECUTORA\", y=\"AVANCE\", alpha=0.1)\n",
    "plt.show()\n",
    "#IGEIP_EJECUCION\n",
    "#NEJE_PUNTAJEIRI\n",
    "#NRO_EJECUTORAS_X_PROYECTO\n",
    "#P_INCO_AVG\n"
   ]
  },
  {
   "cell_type": "markdown",
   "metadata": {},
   "source": [
    "# PREPARACION DE LOS DATOS"
   ]
  },
  {
   "cell_type": "markdown",
   "metadata": {},
   "source": [
    "## DROP"
   ]
  },
  {
   "cell_type": "code",
   "execution_count": 17,
   "metadata": {},
   "outputs": [],
   "source": [
    "col_to_drop = [ 'ANIO'\n",
    "            ,'NIVEL_GOBIERNO'\n",
    "            ,'DEPARTAMENTO_EJECUTORA_NOMBRE'\n",
    "            ,'FUNCION_NOMBRE'\n",
    "            ,'PIA'\n",
    "            ,'DEVENGADO'\n",
    "            ,'PROYECTO'\n",
    "            ,'EJECUTORA'\n",
    "            ,'AVANCE' \n",
    "            #,'CLASE'\n",
    "            ,'FENOMENO_NINO' # IG muy bajo\n",
    "            ,'CAMBIO_GOBIERNO_NACIONAL' # IG muy bajo\n",
    "            , 'P_INCO_AVG' # Incluido en PUNTAJE_INCO_EJECUTORA\n",
    "            , 'NEJE_PUNTAJEIRI' # Incluido en NPRY_PUNTAJEIRI\n",
    "            ]\n",
    "               \n",
    "df_entrada_drop = df_entrada_cleaned.drop(col_to_drop, axis='columns', inplace=False)"
   ]
  },
  {
   "cell_type": "code",
   "execution_count": 18,
   "metadata": {},
   "outputs": [
    {
     "data": {
      "text/html": [
       "<div>\n",
       "<style scoped>\n",
       "    .dataframe tbody tr th:only-of-type {\n",
       "        vertical-align: middle;\n",
       "    }\n",
       "\n",
       "    .dataframe tbody tr th {\n",
       "        vertical-align: top;\n",
       "    }\n",
       "\n",
       "    .dataframe thead th {\n",
       "        text-align: right;\n",
       "    }\n",
       "</style>\n",
       "<table border=\"1\" class=\"dataframe\">\n",
       "  <thead>\n",
       "    <tr style=\"text-align: right;\">\n",
       "      <th></th>\n",
       "      <th>NIVEL</th>\n",
       "      <th>DPTO</th>\n",
       "      <th>FUNCION</th>\n",
       "      <th>PIM</th>\n",
       "      <th>IP</th>\n",
       "      <th>NRO_PRESIDENTES_X_ANO</th>\n",
       "      <th>PANDEMIA</th>\n",
       "      <th>CAMBIO_GOBIERNO_REGIONAL_LOCAL</th>\n",
       "      <th>ELECCION_REGIONAL_LOCAL</th>\n",
       "      <th>TIPO_GOBIERNO_NACIONAL</th>\n",
       "      <th>...</th>\n",
       "      <th>PROYECTO_EDAD_BRUTA</th>\n",
       "      <th>IGEIP_EJECUCION</th>\n",
       "      <th>NRO_EJECUTORAS_X_PROYECTO</th>\n",
       "      <th>NPRY_PUNTAJEIRI</th>\n",
       "      <th>PUNTAJE_INCO_EJECUTORA</th>\n",
       "      <th>MONTO_VIABLE</th>\n",
       "      <th>COSTO_ACTUALIZADO</th>\n",
       "      <th>MODALIDAD_EJECUCION</th>\n",
       "      <th>NRO_PROYECTOS_X_EJECUTORA_X_ANIO</th>\n",
       "      <th>CLASE</th>\n",
       "    </tr>\n",
       "  </thead>\n",
       "  <tbody>\n",
       "    <tr>\n",
       "      <th>0</th>\n",
       "      <td>2</td>\n",
       "      <td>1</td>\n",
       "      <td>15</td>\n",
       "      <td>79983</td>\n",
       "      <td>34.90</td>\n",
       "      <td>1</td>\n",
       "      <td>0</td>\n",
       "      <td>0</td>\n",
       "      <td>0</td>\n",
       "      <td>Centro derecha</td>\n",
       "      <td>...</td>\n",
       "      <td>8</td>\n",
       "      <td>0.629</td>\n",
       "      <td>1</td>\n",
       "      <td>55.902316</td>\n",
       "      <td>51.47</td>\n",
       "      <td>7590137.00</td>\n",
       "      <td>9124282.79</td>\n",
       "      <td>INDIRECTA</td>\n",
       "      <td>205</td>\n",
       "      <td>1</td>\n",
       "    </tr>\n",
       "    <tr>\n",
       "      <th>1</th>\n",
       "      <td>2</td>\n",
       "      <td>1</td>\n",
       "      <td>15</td>\n",
       "      <td>57539</td>\n",
       "      <td>25.80</td>\n",
       "      <td>1</td>\n",
       "      <td>1</td>\n",
       "      <td>1</td>\n",
       "      <td>0</td>\n",
       "      <td>Izquierda</td>\n",
       "      <td>...</td>\n",
       "      <td>8</td>\n",
       "      <td>0.629</td>\n",
       "      <td>1</td>\n",
       "      <td>55.902316</td>\n",
       "      <td>51.47</td>\n",
       "      <td>7590137.00</td>\n",
       "      <td>9124282.79</td>\n",
       "      <td>INDIRECTA</td>\n",
       "      <td>127</td>\n",
       "      <td>1</td>\n",
       "    </tr>\n",
       "    <tr>\n",
       "      <th>2</th>\n",
       "      <td>2</td>\n",
       "      <td>1</td>\n",
       "      <td>15</td>\n",
       "      <td>160000</td>\n",
       "      <td>39.70</td>\n",
       "      <td>2</td>\n",
       "      <td>0</td>\n",
       "      <td>0</td>\n",
       "      <td>0</td>\n",
       "      <td>Centro izquierda</td>\n",
       "      <td>...</td>\n",
       "      <td>8</td>\n",
       "      <td>0.629</td>\n",
       "      <td>1</td>\n",
       "      <td>55.902316</td>\n",
       "      <td>51.47</td>\n",
       "      <td>7590137.00</td>\n",
       "      <td>9124282.79</td>\n",
       "      <td>INDIRECTA</td>\n",
       "      <td>263</td>\n",
       "      <td>1</td>\n",
       "    </tr>\n",
       "    <tr>\n",
       "      <th>3</th>\n",
       "      <td>2</td>\n",
       "      <td>1</td>\n",
       "      <td>15</td>\n",
       "      <td>41528</td>\n",
       "      <td>36.10</td>\n",
       "      <td>3</td>\n",
       "      <td>1</td>\n",
       "      <td>0</td>\n",
       "      <td>0</td>\n",
       "      <td>Centro derecha</td>\n",
       "      <td>...</td>\n",
       "      <td>8</td>\n",
       "      <td>0.629</td>\n",
       "      <td>1</td>\n",
       "      <td>55.902316</td>\n",
       "      <td>51.47</td>\n",
       "      <td>7590137.00</td>\n",
       "      <td>9124282.79</td>\n",
       "      <td>INDIRECTA</td>\n",
       "      <td>147</td>\n",
       "      <td>1</td>\n",
       "    </tr>\n",
       "    <tr>\n",
       "      <th>4</th>\n",
       "      <td>2</td>\n",
       "      <td>1</td>\n",
       "      <td>15</td>\n",
       "      <td>914962</td>\n",
       "      <td>30.50</td>\n",
       "      <td>1</td>\n",
       "      <td>0</td>\n",
       "      <td>1</td>\n",
       "      <td>0</td>\n",
       "      <td>Centro derecha</td>\n",
       "      <td>...</td>\n",
       "      <td>8</td>\n",
       "      <td>0.629</td>\n",
       "      <td>1</td>\n",
       "      <td>55.902316</td>\n",
       "      <td>51.47</td>\n",
       "      <td>7590137.00</td>\n",
       "      <td>9124282.79</td>\n",
       "      <td>INDIRECTA</td>\n",
       "      <td>169</td>\n",
       "      <td>0</td>\n",
       "    </tr>\n",
       "    <tr>\n",
       "      <th>...</th>\n",
       "      <td>...</td>\n",
       "      <td>...</td>\n",
       "      <td>...</td>\n",
       "      <td>...</td>\n",
       "      <td>...</td>\n",
       "      <td>...</td>\n",
       "      <td>...</td>\n",
       "      <td>...</td>\n",
       "      <td>...</td>\n",
       "      <td>...</td>\n",
       "      <td>...</td>\n",
       "      <td>...</td>\n",
       "      <td>...</td>\n",
       "      <td>...</td>\n",
       "      <td>...</td>\n",
       "      <td>...</td>\n",
       "      <td>...</td>\n",
       "      <td>...</td>\n",
       "      <td>...</td>\n",
       "      <td>...</td>\n",
       "      <td>...</td>\n",
       "    </tr>\n",
       "    <tr>\n",
       "      <th>627798</th>\n",
       "      <td>1</td>\n",
       "      <td>15</td>\n",
       "      <td>2</td>\n",
       "      <td>800000</td>\n",
       "      <td>14.20</td>\n",
       "      <td>1</td>\n",
       "      <td>0</td>\n",
       "      <td>1</td>\n",
       "      <td>0</td>\n",
       "      <td>Centro izquierda</td>\n",
       "      <td>...</td>\n",
       "      <td>10</td>\n",
       "      <td>0.635</td>\n",
       "      <td>2</td>\n",
       "      <td>29.744302</td>\n",
       "      <td>61.50</td>\n",
       "      <td>17359084.00</td>\n",
       "      <td>30802474.44</td>\n",
       "      <td>INDIRECTA</td>\n",
       "      <td>5</td>\n",
       "      <td>1</td>\n",
       "    </tr>\n",
       "    <tr>\n",
       "      <th>627799</th>\n",
       "      <td>1</td>\n",
       "      <td>15</td>\n",
       "      <td>2</td>\n",
       "      <td>2529872</td>\n",
       "      <td>24.90</td>\n",
       "      <td>2</td>\n",
       "      <td>1</td>\n",
       "      <td>0</td>\n",
       "      <td>1</td>\n",
       "      <td>Izquierda</td>\n",
       "      <td>...</td>\n",
       "      <td>4</td>\n",
       "      <td>0.635</td>\n",
       "      <td>1</td>\n",
       "      <td>35.162257</td>\n",
       "      <td>61.50</td>\n",
       "      <td>49258443.89</td>\n",
       "      <td>71133915.33</td>\n",
       "      <td>DIRECTA</td>\n",
       "      <td>9</td>\n",
       "      <td>0</td>\n",
       "    </tr>\n",
       "    <tr>\n",
       "      <th>627800</th>\n",
       "      <td>1</td>\n",
       "      <td>15</td>\n",
       "      <td>2</td>\n",
       "      <td>2118508</td>\n",
       "      <td>14.35</td>\n",
       "      <td>1</td>\n",
       "      <td>0</td>\n",
       "      <td>1</td>\n",
       "      <td>0</td>\n",
       "      <td>Centro derecha</td>\n",
       "      <td>...</td>\n",
       "      <td>4</td>\n",
       "      <td>0.635</td>\n",
       "      <td>1</td>\n",
       "      <td>35.162257</td>\n",
       "      <td>61.50</td>\n",
       "      <td>49258443.89</td>\n",
       "      <td>71133915.33</td>\n",
       "      <td>DIRECTA</td>\n",
       "      <td>5</td>\n",
       "      <td>0</td>\n",
       "    </tr>\n",
       "    <tr>\n",
       "      <th>627801</th>\n",
       "      <td>1</td>\n",
       "      <td>15</td>\n",
       "      <td>2</td>\n",
       "      <td>2118508</td>\n",
       "      <td>26.55</td>\n",
       "      <td>3</td>\n",
       "      <td>1</td>\n",
       "      <td>0</td>\n",
       "      <td>0</td>\n",
       "      <td>Centro derecha</td>\n",
       "      <td>...</td>\n",
       "      <td>4</td>\n",
       "      <td>0.635</td>\n",
       "      <td>1</td>\n",
       "      <td>35.162257</td>\n",
       "      <td>61.50</td>\n",
       "      <td>49258443.89</td>\n",
       "      <td>71133915.33</td>\n",
       "      <td>DIRECTA</td>\n",
       "      <td>5</td>\n",
       "      <td>0</td>\n",
       "    </tr>\n",
       "    <tr>\n",
       "      <th>627802</th>\n",
       "      <td>1</td>\n",
       "      <td>15</td>\n",
       "      <td>2</td>\n",
       "      <td>2594451</td>\n",
       "      <td>25.40</td>\n",
       "      <td>2</td>\n",
       "      <td>1</td>\n",
       "      <td>0</td>\n",
       "      <td>0</td>\n",
       "      <td>Centro derecha</td>\n",
       "      <td>...</td>\n",
       "      <td>4</td>\n",
       "      <td>0.635</td>\n",
       "      <td>1</td>\n",
       "      <td>35.162257</td>\n",
       "      <td>61.50</td>\n",
       "      <td>49258443.89</td>\n",
       "      <td>71133915.33</td>\n",
       "      <td>DIRECTA</td>\n",
       "      <td>5</td>\n",
       "      <td>0</td>\n",
       "    </tr>\n",
       "  </tbody>\n",
       "</table>\n",
       "<p>522452 rows × 23 columns</p>\n",
       "</div>"
      ],
      "text/plain": [
       "        NIVEL  DPTO  FUNCION      PIM     IP  NRO_PRESIDENTES_X_ANO  PANDEMIA  \\\n",
       "0           2     1       15    79983  34.90                      1         0   \n",
       "1           2     1       15    57539  25.80                      1         1   \n",
       "2           2     1       15   160000  39.70                      2         0   \n",
       "3           2     1       15    41528  36.10                      3         1   \n",
       "4           2     1       15   914962  30.50                      1         0   \n",
       "...       ...   ...      ...      ...    ...                    ...       ...   \n",
       "627798      1    15        2   800000  14.20                      1         0   \n",
       "627799      1    15        2  2529872  24.90                      2         1   \n",
       "627800      1    15        2  2118508  14.35                      1         0   \n",
       "627801      1    15        2  2118508  26.55                      3         1   \n",
       "627802      1    15        2  2594451  25.40                      2         1   \n",
       "\n",
       "        CAMBIO_GOBIERNO_REGIONAL_LOCAL  ELECCION_REGIONAL_LOCAL  \\\n",
       "0                                    0                        0   \n",
       "1                                    1                        0   \n",
       "2                                    0                        0   \n",
       "3                                    0                        0   \n",
       "4                                    1                        0   \n",
       "...                                ...                      ...   \n",
       "627798                               1                        0   \n",
       "627799                               0                        1   \n",
       "627800                               1                        0   \n",
       "627801                               0                        0   \n",
       "627802                               0                        0   \n",
       "\n",
       "       TIPO_GOBIERNO_NACIONAL  ...  PROYECTO_EDAD_BRUTA  IGEIP_EJECUCION  \\\n",
       "0              Centro derecha  ...                    8            0.629   \n",
       "1                   Izquierda  ...                    8            0.629   \n",
       "2            Centro izquierda  ...                    8            0.629   \n",
       "3              Centro derecha  ...                    8            0.629   \n",
       "4              Centro derecha  ...                    8            0.629   \n",
       "...                       ...  ...                  ...              ...   \n",
       "627798       Centro izquierda  ...                   10            0.635   \n",
       "627799              Izquierda  ...                    4            0.635   \n",
       "627800         Centro derecha  ...                    4            0.635   \n",
       "627801         Centro derecha  ...                    4            0.635   \n",
       "627802         Centro derecha  ...                    4            0.635   \n",
       "\n",
       "        NRO_EJECUTORAS_X_PROYECTO  NPRY_PUNTAJEIRI  PUNTAJE_INCO_EJECUTORA  \\\n",
       "0                               1        55.902316                   51.47   \n",
       "1                               1        55.902316                   51.47   \n",
       "2                               1        55.902316                   51.47   \n",
       "3                               1        55.902316                   51.47   \n",
       "4                               1        55.902316                   51.47   \n",
       "...                           ...              ...                     ...   \n",
       "627798                          2        29.744302                   61.50   \n",
       "627799                          1        35.162257                   61.50   \n",
       "627800                          1        35.162257                   61.50   \n",
       "627801                          1        35.162257                   61.50   \n",
       "627802                          1        35.162257                   61.50   \n",
       "\n",
       "        MONTO_VIABLE  COSTO_ACTUALIZADO  MODALIDAD_EJECUCION  \\\n",
       "0         7590137.00         9124282.79            INDIRECTA   \n",
       "1         7590137.00         9124282.79            INDIRECTA   \n",
       "2         7590137.00         9124282.79            INDIRECTA   \n",
       "3         7590137.00         9124282.79            INDIRECTA   \n",
       "4         7590137.00         9124282.79            INDIRECTA   \n",
       "...              ...                ...                  ...   \n",
       "627798   17359084.00        30802474.44            INDIRECTA   \n",
       "627799   49258443.89        71133915.33              DIRECTA   \n",
       "627800   49258443.89        71133915.33              DIRECTA   \n",
       "627801   49258443.89        71133915.33              DIRECTA   \n",
       "627802   49258443.89        71133915.33              DIRECTA   \n",
       "\n",
       "        NRO_PROYECTOS_X_EJECUTORA_X_ANIO  CLASE  \n",
       "0                                    205      1  \n",
       "1                                    127      1  \n",
       "2                                    263      1  \n",
       "3                                    147      1  \n",
       "4                                    169      0  \n",
       "...                                  ...    ...  \n",
       "627798                                 5      1  \n",
       "627799                                 9      0  \n",
       "627800                                 5      0  \n",
       "627801                                 5      0  \n",
       "627802                                 5      0  \n",
       "\n",
       "[522452 rows x 23 columns]"
      ]
     },
     "execution_count": 18,
     "metadata": {},
     "output_type": "execute_result"
    }
   ],
   "source": [
    "df_entrada_drop"
   ]
  },
  {
   "cell_type": "markdown",
   "metadata": {},
   "source": [
    "## ONE HOT"
   ]
  },
  {
   "cell_type": "code",
   "execution_count": 19,
   "metadata": {},
   "outputs": [],
   "source": [
    "# Aplicar one-hot encoding a 'columna1'\n",
    "columns_to_one_hot_encode = ['NIVEL', 'TIPO_GOBIERNO_NACIONAL', 'DPTO', 'FUNCION', 'MODALIDAD_EJECUCION']\n",
    "df_one_hot = pd.get_dummies(df_entrada_drop, columns=columns_to_one_hot_encode, dtype=int)"
   ]
  },
  {
   "cell_type": "code",
   "execution_count": 20,
   "metadata": {},
   "outputs": [],
   "source": [
    "(\n",
    "    df_one_hot.rename(columns={'TIPO_GOBIERNO_NACIONAL_Centro derecha': 'tgn_centro_derecha',\n",
    "                                'TIPO_GOBIERNO_NACIONAL_Centro izquierda': 'tgn_centro_izquierda',\n",
    "                                'TIPO_GOBIERNO_NACIONAL_Izquierda': 'tgn_izquierda',\n",
    "                                        }, inplace=True)\n",
    ")"
   ]
  },
  {
   "cell_type": "code",
   "execution_count": 21,
   "metadata": {},
   "outputs": [
    {
     "name": "stdout",
     "output_type": "stream",
     "text": [
      "<class 'pandas.core.frame.DataFrame'>\n",
      "Index: 522452 entries, 0 to 627802\n",
      "Data columns (total 77 columns):\n",
      " #   Column                               Non-Null Count   Dtype  \n",
      "---  ------                               --------------   -----  \n",
      " 0   PIM                                  522452 non-null  int64  \n",
      " 1   IP                                   522452 non-null  float64\n",
      " 2   NRO_PRESIDENTES_X_ANO                522452 non-null  int64  \n",
      " 3   PANDEMIA                             522452 non-null  int64  \n",
      " 4   CAMBIO_GOBIERNO_REGIONAL_LOCAL       522452 non-null  int64  \n",
      " 5   ELECCION_REGIONAL_LOCAL              522452 non-null  int64  \n",
      " 6   NRO_CONFLICTO_SOCIAL_X_ANO           522452 non-null  int64  \n",
      " 7   INFLACION_ANUAL                      522452 non-null  float64\n",
      " 8   PROYECTO_EDAD_NETA                   522452 non-null  int64  \n",
      " 9   PROYECTO_EDAD_BRUTA                  522452 non-null  int64  \n",
      " 10  IGEIP_EJECUCION                      522452 non-null  float64\n",
      " 11  NRO_EJECUTORAS_X_PROYECTO            522452 non-null  int64  \n",
      " 12  NPRY_PUNTAJEIRI                      522452 non-null  float64\n",
      " 13  PUNTAJE_INCO_EJECUTORA               522452 non-null  float64\n",
      " 14  MONTO_VIABLE                         522452 non-null  float64\n",
      " 15  COSTO_ACTUALIZADO                    522452 non-null  float64\n",
      " 16  NRO_PROYECTOS_X_EJECUTORA_X_ANIO     522452 non-null  int64  \n",
      " 17  CLASE                                522452 non-null  int64  \n",
      " 18  NIVEL_1                              522452 non-null  int64  \n",
      " 19  NIVEL_2                              522452 non-null  int64  \n",
      " 20  NIVEL_3                              522452 non-null  int64  \n",
      " 21  tgn_centro_derecha                   522452 non-null  int64  \n",
      " 22  tgn_centro_izquierda                 522452 non-null  int64  \n",
      " 23  tgn_izquierda                        522452 non-null  int64  \n",
      " 24  DPTO_1                               522452 non-null  int64  \n",
      " 25  DPTO_2                               522452 non-null  int64  \n",
      " 26  DPTO_3                               522452 non-null  int64  \n",
      " 27  DPTO_4                               522452 non-null  int64  \n",
      " 28  DPTO_5                               522452 non-null  int64  \n",
      " 29  DPTO_6                               522452 non-null  int64  \n",
      " 30  DPTO_7                               522452 non-null  int64  \n",
      " 31  DPTO_8                               522452 non-null  int64  \n",
      " 32  DPTO_9                               522452 non-null  int64  \n",
      " 33  DPTO_10                              522452 non-null  int64  \n",
      " 34  DPTO_11                              522452 non-null  int64  \n",
      " 35  DPTO_12                              522452 non-null  int64  \n",
      " 36  DPTO_13                              522452 non-null  int64  \n",
      " 37  DPTO_14                              522452 non-null  int64  \n",
      " 38  DPTO_15                              522452 non-null  int64  \n",
      " 39  DPTO_16                              522452 non-null  int64  \n",
      " 40  DPTO_17                              522452 non-null  int64  \n",
      " 41  DPTO_18                              522452 non-null  int64  \n",
      " 42  DPTO_19                              522452 non-null  int64  \n",
      " 43  DPTO_20                              522452 non-null  int64  \n",
      " 44  DPTO_21                              522452 non-null  int64  \n",
      " 45  DPTO_22                              522452 non-null  int64  \n",
      " 46  DPTO_23                              522452 non-null  int64  \n",
      " 47  DPTO_24                              522452 non-null  int64  \n",
      " 48  DPTO_25                              522452 non-null  int64  \n",
      " 49  FUNCION_2                            522452 non-null  int64  \n",
      " 50  FUNCION_3                            522452 non-null  int64  \n",
      " 51  FUNCION_4                            522452 non-null  int64  \n",
      " 52  FUNCION_5                            522452 non-null  int64  \n",
      " 53  FUNCION_6                            522452 non-null  int64  \n",
      " 54  FUNCION_7                            522452 non-null  int64  \n",
      " 55  FUNCION_8                            522452 non-null  int64  \n",
      " 56  FUNCION_9                            522452 non-null  int64  \n",
      " 57  FUNCION_10                           522452 non-null  int64  \n",
      " 58  FUNCION_11                           522452 non-null  int64  \n",
      " 59  FUNCION_12                           522452 non-null  int64  \n",
      " 60  FUNCION_13                           522452 non-null  int64  \n",
      " 61  FUNCION_14                           522452 non-null  int64  \n",
      " 62  FUNCION_15                           522452 non-null  int64  \n",
      " 63  FUNCION_16                           522452 non-null  int64  \n",
      " 64  FUNCION_17                           522452 non-null  int64  \n",
      " 65  FUNCION_18                           522452 non-null  int64  \n",
      " 66  FUNCION_19                           522452 non-null  int64  \n",
      " 67  FUNCION_20                           522452 non-null  int64  \n",
      " 68  FUNCION_21                           522452 non-null  int64  \n",
      " 69  FUNCION_22                           522452 non-null  int64  \n",
      " 70  FUNCION_23                           522452 non-null  int64  \n",
      " 71  FUNCION_24                           522452 non-null  int64  \n",
      " 72  FUNCION_25                           522452 non-null  int64  \n",
      " 73  MODALIDAD_EJECUCION_DIRECTA          522452 non-null  int64  \n",
      " 74  MODALIDAD_EJECUCION_INDIRECTA        522452 non-null  int64  \n",
      " 75  MODALIDAD_EJECUCION_MIXTA            522452 non-null  int64  \n",
      " 76  MODALIDAD_EJECUCION_SIN_INFORMACION  522452 non-null  int64  \n",
      "dtypes: float64(7), int64(70)\n",
      "memory usage: 310.9 MB\n"
     ]
    }
   ],
   "source": [
    "df_one_hot.info()"
   ]
  },
  {
   "cell_type": "code",
   "execution_count": 22,
   "metadata": {},
   "outputs": [
    {
     "name": "stdout",
     "output_type": "stream",
     "text": [
      "<class 'pandas.core.frame.DataFrame'>\n",
      "Index: 522452 entries, 0 to 627802\n",
      "Data columns (total 77 columns):\n",
      " #   Column                               Non-Null Count   Dtype  \n",
      "---  ------                               --------------   -----  \n",
      " 0   PIM                                  522452 non-null  int64  \n",
      " 1   IP                                   522452 non-null  float64\n",
      " 2   NRO_PRESIDENTES_X_ANO                522452 non-null  int64  \n",
      " 3   PANDEMIA                             522452 non-null  int64  \n",
      " 4   CAMBIO_GOBIERNO_REGIONAL_LOCAL       522452 non-null  int64  \n",
      " 5   ELECCION_REGIONAL_LOCAL              522452 non-null  int64  \n",
      " 6   NRO_CONFLICTO_SOCIAL_X_ANO           522452 non-null  int64  \n",
      " 7   INFLACION_ANUAL                      522452 non-null  float64\n",
      " 8   PROYECTO_EDAD_NETA                   522452 non-null  int64  \n",
      " 9   PROYECTO_EDAD_BRUTA                  522452 non-null  int64  \n",
      " 10  IGEIP_EJECUCION                      522452 non-null  float64\n",
      " 11  NRO_EJECUTORAS_X_PROYECTO            522452 non-null  int64  \n",
      " 12  NPRY_PUNTAJEIRI                      522452 non-null  float64\n",
      " 13  PUNTAJE_INCO_EJECUTORA               522452 non-null  float64\n",
      " 14  MONTO_VIABLE                         522452 non-null  float64\n",
      " 15  COSTO_ACTUALIZADO                    522452 non-null  float64\n",
      " 16  NRO_PROYECTOS_X_EJECUTORA_X_ANIO     522452 non-null  int64  \n",
      " 17  CLASE                                522452 non-null  int64  \n",
      " 18  NIVEL_1                              522452 non-null  int64  \n",
      " 19  NIVEL_2                              522452 non-null  int64  \n",
      " 20  NIVEL_3                              522452 non-null  int64  \n",
      " 21  tgn_centro_derecha                   522452 non-null  int64  \n",
      " 22  tgn_centro_izquierda                 522452 non-null  int64  \n",
      " 23  tgn_izquierda                        522452 non-null  int64  \n",
      " 24  DPTO_1                               522452 non-null  int64  \n",
      " 25  DPTO_2                               522452 non-null  int64  \n",
      " 26  DPTO_3                               522452 non-null  int64  \n",
      " 27  DPTO_4                               522452 non-null  int64  \n",
      " 28  DPTO_5                               522452 non-null  int64  \n",
      " 29  DPTO_6                               522452 non-null  int64  \n",
      " 30  DPTO_7                               522452 non-null  int64  \n",
      " 31  DPTO_8                               522452 non-null  int64  \n",
      " 32  DPTO_9                               522452 non-null  int64  \n",
      " 33  DPTO_10                              522452 non-null  int64  \n",
      " 34  DPTO_11                              522452 non-null  int64  \n",
      " 35  DPTO_12                              522452 non-null  int64  \n",
      " 36  DPTO_13                              522452 non-null  int64  \n",
      " 37  DPTO_14                              522452 non-null  int64  \n",
      " 38  DPTO_15                              522452 non-null  int64  \n",
      " 39  DPTO_16                              522452 non-null  int64  \n",
      " 40  DPTO_17                              522452 non-null  int64  \n",
      " 41  DPTO_18                              522452 non-null  int64  \n",
      " 42  DPTO_19                              522452 non-null  int64  \n",
      " 43  DPTO_20                              522452 non-null  int64  \n",
      " 44  DPTO_21                              522452 non-null  int64  \n",
      " 45  DPTO_22                              522452 non-null  int64  \n",
      " 46  DPTO_23                              522452 non-null  int64  \n",
      " 47  DPTO_24                              522452 non-null  int64  \n",
      " 48  DPTO_25                              522452 non-null  int64  \n",
      " 49  FUNCION_2                            522452 non-null  int64  \n",
      " 50  FUNCION_3                            522452 non-null  int64  \n",
      " 51  FUNCION_4                            522452 non-null  int64  \n",
      " 52  FUNCION_5                            522452 non-null  int64  \n",
      " 53  FUNCION_6                            522452 non-null  int64  \n",
      " 54  FUNCION_7                            522452 non-null  int64  \n",
      " 55  FUNCION_8                            522452 non-null  int64  \n",
      " 56  FUNCION_9                            522452 non-null  int64  \n",
      " 57  FUNCION_10                           522452 non-null  int64  \n",
      " 58  FUNCION_11                           522452 non-null  int64  \n",
      " 59  FUNCION_12                           522452 non-null  int64  \n",
      " 60  FUNCION_13                           522452 non-null  int64  \n",
      " 61  FUNCION_14                           522452 non-null  int64  \n",
      " 62  FUNCION_15                           522452 non-null  int64  \n",
      " 63  FUNCION_16                           522452 non-null  int64  \n",
      " 64  FUNCION_17                           522452 non-null  int64  \n",
      " 65  FUNCION_18                           522452 non-null  int64  \n",
      " 66  FUNCION_19                           522452 non-null  int64  \n",
      " 67  FUNCION_20                           522452 non-null  int64  \n",
      " 68  FUNCION_21                           522452 non-null  int64  \n",
      " 69  FUNCION_22                           522452 non-null  int64  \n",
      " 70  FUNCION_23                           522452 non-null  int64  \n",
      " 71  FUNCION_24                           522452 non-null  int64  \n",
      " 72  FUNCION_25                           522452 non-null  int64  \n",
      " 73  MODALIDAD_EJECUCION_DIRECTA          522452 non-null  int64  \n",
      " 74  MODALIDAD_EJECUCION_INDIRECTA        522452 non-null  int64  \n",
      " 75  MODALIDAD_EJECUCION_MIXTA            522452 non-null  int64  \n",
      " 76  MODALIDAD_EJECUCION_SIN_INFORMACION  522452 non-null  int64  \n",
      "dtypes: float64(7), int64(70)\n",
      "memory usage: 310.9 MB\n"
     ]
    }
   ],
   "source": [
    "df_one_hot.info()"
   ]
  },
  {
   "cell_type": "markdown",
   "metadata": {},
   "source": [
    "## X e y"
   ]
  },
  {
   "cell_type": "code",
   "execution_count": 23,
   "metadata": {},
   "outputs": [],
   "source": [
    "X = df_one_hot.drop(['CLASE'], axis=1)\n",
    "y = df_one_hot['CLASE'].values"
   ]
  },
  {
   "cell_type": "markdown",
   "metadata": {},
   "source": [
    "## Split train and test"
   ]
  },
  {
   "cell_type": "code",
   "execution_count": 24,
   "metadata": {},
   "outputs": [],
   "source": [
    "from sklearn.model_selection import train_test_split\n",
    "(X_train, X_test, y_train, y_test) = train_test_split(X, y, test_size=0.3, random_state=42)"
   ]
  },
  {
   "cell_type": "markdown",
   "metadata": {},
   "source": [
    "# MODELING"
   ]
  },
  {
   "cell_type": "markdown",
   "metadata": {},
   "source": [
    "### RANDOM FOREST"
   ]
  },
  {
   "cell_type": "code",
   "execution_count": 7,
   "metadata": {},
   "outputs": [],
   "source": [
    "from sklearn.metrics import classification_report, confusion_matrix, accuracy_score\n",
    "from sklearn.model_selection import RandomizedSearchCV\n",
    "from time import time\n",
    "# 2. Función para entrenar y evaluar modelos\n",
    "def train_and_evaluate(model, X_train, X_test, y_train, y_test):\n",
    "    start_time = time()\n",
    "    model.fit(X_train, y_train)\n",
    "    train_time = time() - start_time\n",
    "    \n",
    "    start_time = time()\n",
    "    y_pred = model.predict(X_test)\n",
    "    predict_time = time() - start_time\n",
    "    \n",
    "    accuracy = accuracy_score(y_test, y_pred)\n",
    "    \n",
    "    print(f\"Accuracy: {accuracy:.4f}\")\n",
    "    print(f\"Training time: {train_time:.2f} seconds\")\n",
    "    print(f\"Prediction time: {predict_time:.2f} seconds\")\n",
    "    print(\"\\nClassification Report:\")\n",
    "    print(classification_report(y_test, y_pred))\n",
    "    print(\"\\nConfusion Matrix:\")\n",
    "    print(confusion_matrix(y_test, y_pred))"
   ]
  },
  {
   "cell_type": "code",
   "execution_count": 61,
   "metadata": {},
   "outputs": [
    {
     "name": "stdout",
     "output_type": "stream",
     "text": [
      "\n",
      "Training Random Forest model...\n",
      "Accuracy: 0.7103\n",
      "Training time: 28.68 seconds\n",
      "Prediction time: 1.64 seconds\n",
      "\n",
      "Classification Report:\n",
      "              precision    recall  f1-score   support\n",
      "\n",
      "           0       0.67      0.55      0.60     62602\n",
      "           1       0.73      0.82      0.77     94134\n",
      "\n",
      "    accuracy                           0.71    156736\n",
      "   macro avg       0.70      0.68      0.69    156736\n",
      "weighted avg       0.71      0.71      0.70    156736\n",
      "\n",
      "\n",
      "Confusion Matrix:\n",
      "[[34564 28038]\n",
      " [17367 76767]]\n"
     ]
    }
   ],
   "source": [
    "from sklearn.ensemble import RandomForestClassifier\n",
    "\n",
    "# 4. Random Forest\n",
    "print(\"\\nTraining Random Forest model...\")\n",
    "rf_model = RandomForestClassifier(n_estimators=100, random_state=42, n_jobs=-1)\n",
    "train_and_evaluate(rf_model, X_train, X_test, y_train, y_test)"
   ]
  },
  {
   "cell_type": "code",
   "execution_count": 66,
   "metadata": {},
   "outputs": [
    {
     "name": "stdout",
     "output_type": "stream",
     "text": [
      "\n",
      "Optimizing Random Forest hyperparameters...\n",
      "Fitting 3 folds for each of 10 candidates, totalling 30 fits\n",
      "Best parameters: {'n_estimators': 300, 'min_samples_split': 2, 'min_samples_leaf': 1, 'max_depth': None}\n",
      "\n",
      "Evaluating optimized Random Forest model...\n",
      "Accuracy: 0.7137\n",
      "Training time: 327.34 seconds\n",
      "Prediction time: 17.12 seconds\n",
      "\n",
      "Classification Report:\n",
      "              precision    recall  f1-score   support\n",
      "\n",
      "           0       0.68      0.54      0.60     62602\n",
      "           1       0.73      0.83      0.78     94134\n",
      "\n",
      "    accuracy                           0.71    156736\n",
      "   macro avg       0.70      0.69      0.69    156736\n",
      "weighted avg       0.71      0.71      0.71    156736\n",
      "\n",
      "\n",
      "Confusion Matrix:\n",
      "[[34089 28513]\n",
      " [16354 77780]]\n"
     ]
    }
   ],
   "source": [
    "\n",
    "# 5. Optimización de hiperparámetros para Random Forest\n",
    "print(\"\\nOptimizing Random Forest hyperparameters...\")\n",
    "param_dist = {\n",
    "    'n_estimators': [100, 200, 300],\n",
    "    'max_depth': [10, 20, 30, None],\n",
    "    'min_samples_split': [2, 5, 10],\n",
    "    'min_samples_leaf': [1, 2, 4]\n",
    "}\n",
    "\n",
    "rf_random = RandomizedSearchCV(estimator=RandomForestClassifier(random_state=42),\n",
    "                               param_distributions=param_dist,\n",
    "                               n_iter=10, cv=3, verbose=2, random_state=42, n_jobs=-1)\n",
    "\n",
    "rf_random.fit(X_train, y_train)\n",
    "\n",
    "print(\"Best parameters:\", rf_random.best_params_)\n",
    "print(\"\\nEvaluating optimized Random Forest model...\")\n",
    "train_and_evaluate(rf_random.best_estimator_, X_train, X_test, y_train, y_test)"
   ]
  },
  {
   "cell_type": "markdown",
   "metadata": {},
   "source": [
    "# StandardScaler"
   ]
  },
  {
   "cell_type": "markdown",
   "metadata": {},
   "source": [
    "## RobustScaler"
   ]
  },
  {
   "cell_type": "code",
   "execution_count": 25,
   "metadata": {},
   "outputs": [],
   "source": [
    "from sklearn.preprocessing import RobustScaler"
   ]
  },
  {
   "cell_type": "code",
   "execution_count": 26,
   "metadata": {},
   "outputs": [],
   "source": [
    "# Crear el objeto RobustScaler\n",
    "scaler = RobustScaler()\n",
    "\n",
    "# Ajustar el scaler a los datos de entrenamiento y transformar\n",
    "X_train_scaled = scaler.fit_transform(X_train)\n",
    "\n",
    "# Transformar los datos de prueba\n",
    "X_test_scaled = scaler.transform(X_test)"
   ]
  },
  {
   "cell_type": "code",
   "execution_count": 27,
   "metadata": {},
   "outputs": [],
   "source": [
    "# Convertir los resultados a DataFrames si es necesario\n",
    "X_train_rs = pd.DataFrame(X_train_scaled, columns=X_train.columns)\n",
    "X_test_rs = pd.DataFrame(X_test_scaled, columns=X_test.columns)"
   ]
  },
  {
   "cell_type": "markdown",
   "metadata": {},
   "source": [
    "### LogisticRegression"
   ]
  },
  {
   "cell_type": "code",
   "execution_count": 34,
   "metadata": {},
   "outputs": [
    {
     "name": "stderr",
     "output_type": "stream",
     "text": [
      "c:\\ws\\scm\\github\\mia\\MIA104\\.venv\\Lib\\site-packages\\sklearn\\linear_model\\_logistic.py:469: ConvergenceWarning: lbfgs failed to converge (status=1):\n",
      "STOP: TOTAL NO. of ITERATIONS REACHED LIMIT.\n",
      "\n",
      "Increase the number of iterations (max_iter) or scale the data as shown in:\n",
      "    https://scikit-learn.org/stable/modules/preprocessing.html\n",
      "Please also refer to the documentation for alternative solver options:\n",
      "    https://scikit-learn.org/stable/modules/linear_model.html#logistic-regression\n",
      "  n_iter_i = _check_optimize_result(\n"
     ]
    }
   ],
   "source": [
    "from sklearn.linear_model import LogisticRegression\n",
    "model = LogisticRegression()\n",
    "result = model.fit(X_train_rs, y_train)"
   ]
  },
  {
   "cell_type": "code",
   "execution_count": 35,
   "metadata": {},
   "outputs": [
    {
     "name": "stdout",
     "output_type": "stream",
     "text": [
      "0.6212229481420988\n"
     ]
    }
   ],
   "source": [
    "from sklearn.metrics import accuracy_score\n",
    "prediction_test = model.predict(X_test_rs)\n",
    "print(accuracy_score(y_test, prediction_test))"
   ]
  },
  {
   "cell_type": "markdown",
   "metadata": {},
   "source": [
    "### RandomForest"
   ]
  },
  {
   "cell_type": "code",
   "execution_count": 39,
   "metadata": {},
   "outputs": [
    {
     "name": "stdout",
     "output_type": "stream",
     "text": [
      "\n",
      "Training Random Forest model...\n",
      "Accuracy: 0.7099\n",
      "Training time: 30.44 seconds\n",
      "Prediction time: 1.87 seconds\n",
      "\n",
      "Classification Report:\n",
      "              precision    recall  f1-score   support\n",
      "\n",
      "           0       0.67      0.55      0.60     62602\n",
      "           1       0.73      0.82      0.77     94134\n",
      "\n",
      "    accuracy                           0.71    156736\n",
      "   macro avg       0.70      0.68      0.69    156736\n",
      "weighted avg       0.71      0.71      0.70    156736\n",
      "\n",
      "\n",
      "Confusion Matrix:\n",
      "[[34449 28153]\n",
      " [17319 76815]]\n"
     ]
    }
   ],
   "source": [
    "from sklearn.ensemble import RandomForestClassifier\n",
    "\n",
    "# 4. Random Forest\n",
    "print(\"\\nTraining Random Forest model...\")\n",
    "rf_model = RandomForestClassifier(n_estimators=100, random_state=42, n_jobs=-1)\n",
    "train_and_evaluate(rf_model, X_train_scaled, X_test_scaled, y_train, y_test)"
   ]
  },
  {
   "cell_type": "code",
   "execution_count": 69,
   "metadata": {},
   "outputs": [],
   "source": [
    "feature_importances = rf_model.feature_importances_\n",
    "\n",
    "importances_df = pd.DataFrame({\n",
    "    'feature': X_train.columns,\n",
    "    'importance': feature_importances\n",
    "})  \n",
    "\n",
    "importances_df = importances_df.sort_values('importance', ascending=False)"
   ]
  },
  {
   "cell_type": "code",
   "execution_count": 72,
   "metadata": {},
   "outputs": [
    {
     "data": {
      "text/html": [
       "<div>\n",
       "<style scoped>\n",
       "    .dataframe tbody tr th:only-of-type {\n",
       "        vertical-align: middle;\n",
       "    }\n",
       "\n",
       "    .dataframe tbody tr th {\n",
       "        vertical-align: top;\n",
       "    }\n",
       "\n",
       "    .dataframe thead th {\n",
       "        text-align: right;\n",
       "    }\n",
       "</style>\n",
       "<table border=\"1\" class=\"dataframe\">\n",
       "  <thead>\n",
       "    <tr style=\"text-align: right;\">\n",
       "      <th></th>\n",
       "      <th>feature</th>\n",
       "      <th>importance</th>\n",
       "    </tr>\n",
       "  </thead>\n",
       "  <tbody>\n",
       "    <tr>\n",
       "      <th>0</th>\n",
       "      <td>PIM</td>\n",
       "      <td>0.119800</td>\n",
       "    </tr>\n",
       "    <tr>\n",
       "      <th>15</th>\n",
       "      <td>COSTO_ACTUALIZADO</td>\n",
       "      <td>0.104436</td>\n",
       "    </tr>\n",
       "    <tr>\n",
       "      <th>14</th>\n",
       "      <td>MONTO_VIABLE</td>\n",
       "      <td>0.103791</td>\n",
       "    </tr>\n",
       "    <tr>\n",
       "      <th>12</th>\n",
       "      <td>NPRY_PUNTAJEIRI</td>\n",
       "      <td>0.099377</td>\n",
       "    </tr>\n",
       "    <tr>\n",
       "      <th>16</th>\n",
       "      <td>NRO_PROYECTOS_X_EJECUTORA_X_ANIO</td>\n",
       "      <td>0.082685</td>\n",
       "    </tr>\n",
       "    <tr>\n",
       "      <th>13</th>\n",
       "      <td>PUNTAJE_INCO_EJECUTORA</td>\n",
       "      <td>0.076386</td>\n",
       "    </tr>\n",
       "    <tr>\n",
       "      <th>9</th>\n",
       "      <td>PROYECTO_EDAD_BRUTA</td>\n",
       "      <td>0.043446</td>\n",
       "    </tr>\n",
       "    <tr>\n",
       "      <th>8</th>\n",
       "      <td>PROYECTO_EDAD_NETA</td>\n",
       "      <td>0.041300</td>\n",
       "    </tr>\n",
       "    <tr>\n",
       "      <th>1</th>\n",
       "      <td>IP</td>\n",
       "      <td>0.038318</td>\n",
       "    </tr>\n",
       "    <tr>\n",
       "      <th>10</th>\n",
       "      <td>IGEIP_EJECUCION</td>\n",
       "      <td>0.030913</td>\n",
       "    </tr>\n",
       "    <tr>\n",
       "      <th>7</th>\n",
       "      <td>INFLACION_ANUAL</td>\n",
       "      <td>0.015497</td>\n",
       "    </tr>\n",
       "    <tr>\n",
       "      <th>6</th>\n",
       "      <td>NRO_CONFLICTO_SOCIAL_X_ANO</td>\n",
       "      <td>0.015419</td>\n",
       "    </tr>\n",
       "    <tr>\n",
       "      <th>61</th>\n",
       "      <td>FUNCION_15</td>\n",
       "      <td>0.012874</td>\n",
       "    </tr>\n",
       "    <tr>\n",
       "      <th>68</th>\n",
       "      <td>FUNCION_22</td>\n",
       "      <td>0.010386</td>\n",
       "    </tr>\n",
       "    <tr>\n",
       "      <th>64</th>\n",
       "      <td>FUNCION_18</td>\n",
       "      <td>0.010157</td>\n",
       "    </tr>\n",
       "    <tr>\n",
       "      <th>73</th>\n",
       "      <td>MODALIDAD_EJECUCION_INDIRECTA</td>\n",
       "      <td>0.009226</td>\n",
       "    </tr>\n",
       "    <tr>\n",
       "      <th>75</th>\n",
       "      <td>MODALIDAD_EJECUCION_SIN_INFORMACION</td>\n",
       "      <td>0.008267</td>\n",
       "    </tr>\n",
       "    <tr>\n",
       "      <th>56</th>\n",
       "      <td>FUNCION_10</td>\n",
       "      <td>0.008248</td>\n",
       "    </tr>\n",
       "    <tr>\n",
       "      <th>67</th>\n",
       "      <td>FUNCION_21</td>\n",
       "      <td>0.007623</td>\n",
       "    </tr>\n",
       "    <tr>\n",
       "      <th>72</th>\n",
       "      <td>MODALIDAD_EJECUCION_DIRECTA</td>\n",
       "      <td>0.006702</td>\n",
       "    </tr>\n",
       "  </tbody>\n",
       "</table>\n",
       "</div>"
      ],
      "text/plain": [
       "                                feature  importance\n",
       "0                                   PIM    0.119800\n",
       "15                    COSTO_ACTUALIZADO    0.104436\n",
       "14                         MONTO_VIABLE    0.103791\n",
       "12                      NPRY_PUNTAJEIRI    0.099377\n",
       "16     NRO_PROYECTOS_X_EJECUTORA_X_ANIO    0.082685\n",
       "13               PUNTAJE_INCO_EJECUTORA    0.076386\n",
       "9                   PROYECTO_EDAD_BRUTA    0.043446\n",
       "8                    PROYECTO_EDAD_NETA    0.041300\n",
       "1                                    IP    0.038318\n",
       "10                      IGEIP_EJECUCION    0.030913\n",
       "7                       INFLACION_ANUAL    0.015497\n",
       "6            NRO_CONFLICTO_SOCIAL_X_ANO    0.015419\n",
       "61                           FUNCION_15    0.012874\n",
       "68                           FUNCION_22    0.010386\n",
       "64                           FUNCION_18    0.010157\n",
       "73        MODALIDAD_EJECUCION_INDIRECTA    0.009226\n",
       "75  MODALIDAD_EJECUCION_SIN_INFORMACION    0.008267\n",
       "56                           FUNCION_10    0.008248\n",
       "67                           FUNCION_21    0.007623\n",
       "72          MODALIDAD_EJECUCION_DIRECTA    0.006702"
      ]
     },
     "execution_count": 72,
     "metadata": {},
     "output_type": "execute_result"
    }
   ],
   "source": [
    "importances_df.head(20)"
   ]
  },
  {
   "cell_type": "markdown",
   "metadata": {},
   "source": [
    "#### Optimización"
   ]
  },
  {
   "cell_type": "code",
   "execution_count": 68,
   "metadata": {},
   "outputs": [
    {
     "name": "stdout",
     "output_type": "stream",
     "text": [
      "\n",
      "Optimizing Random Forest hyperparameters...\n",
      "Fitting 3 folds for each of 10 candidates, totalling 30 fits\n",
      "Best parameters: {'n_estimators': 300, 'min_samples_split': 2, 'min_samples_leaf': 1, 'max_depth': None}\n",
      "\n",
      "Evaluating optimized Random Forest model...\n",
      "Accuracy: 0.7140\n",
      "Training time: 277.68 seconds\n",
      "Prediction time: 15.55 seconds\n",
      "\n",
      "Classification Report:\n",
      "              precision    recall  f1-score   support\n",
      "\n",
      "           0       0.68      0.55      0.60     62602\n",
      "           1       0.73      0.83      0.78     94134\n",
      "\n",
      "    accuracy                           0.71    156736\n",
      "   macro avg       0.70      0.69      0.69    156736\n",
      "weighted avg       0.71      0.71      0.71    156736\n",
      "\n",
      "\n",
      "Confusion Matrix:\n",
      "[[34146 28456]\n",
      " [16368 77766]]\n"
     ]
    }
   ],
   "source": [
    "# 5. Optimización de hiperparámetros para Random Forest\n",
    "print(\"\\nOptimizing Random Forest hyperparameters...\")\n",
    "param_dist = {\n",
    "    'n_estimators': [100, 200, 300],\n",
    "    'max_depth': [10, 20, 30, None],\n",
    "    'min_samples_split': [2, 5, 10],\n",
    "    'min_samples_leaf': [1, 2, 4]\n",
    "}\n",
    "\n",
    "rf_random = RandomizedSearchCV(estimator=RandomForestClassifier(random_state=42),\n",
    "                               param_distributions=param_dist,\n",
    "                               n_iter=10, cv=3, verbose=2, random_state=42, n_jobs=-1)\n",
    "\n",
    "rf_random.fit(X_train_scaled, y_train)\n",
    "\n",
    "print(\"Best parameters:\", rf_random.best_params_)\n",
    "print(\"\\nEvaluating optimized Random Forest model...\")\n",
    "train_and_evaluate(rf_random.best_estimator_, X_train_scaled, X_test_scaled, y_train, y_test)"
   ]
  },
  {
   "cell_type": "markdown",
   "metadata": {},
   "source": [
    "## GBM"
   ]
  },
  {
   "cell_type": "code",
   "execution_count": 41,
   "metadata": {},
   "outputs": [],
   "source": [
    "from sklearn.ensemble import GradientBoostingClassifier"
   ]
  },
  {
   "cell_type": "code",
   "execution_count": 77,
   "metadata": {},
   "outputs": [
    {
     "name": "stdout",
     "output_type": "stream",
     "text": [
      "\n",
      "Training GBM model...\n",
      "Accuracy: 0.6460\n",
      "Training time: 136.69 seconds\n",
      "Prediction time: 0.47 seconds\n",
      "\n",
      "Classification Report:\n",
      "              precision    recall  f1-score   support\n",
      "\n",
      "           0       0.62      0.29      0.39     62602\n",
      "           1       0.65      0.88      0.75     94134\n",
      "\n",
      "    accuracy                           0.65    156736\n",
      "   macro avg       0.64      0.59      0.57    156736\n",
      "weighted avg       0.64      0.65      0.61    156736\n",
      "\n",
      "\n",
      "Confusion Matrix:\n",
      "[[18046 44556]\n",
      " [10923 83211]]\n"
     ]
    }
   ],
   "source": [
    "# 4. Random Forest\n",
    "print(\"\\nTraining GBM model...\")\n",
    "gbm_model = GradientBoostingClassifier(n_estimators=100, random_state=42)\n",
    "train_and_evaluate(gbm_model, X_train_scaled, X_test_scaled, y_train, y_test)"
   ]
  },
  {
   "cell_type": "markdown",
   "metadata": {},
   "source": [
    "## SVC"
   ]
  },
  {
   "cell_type": "code",
   "execution_count": 78,
   "metadata": {},
   "outputs": [
    {
     "name": "stdout",
     "output_type": "stream",
     "text": [
      "\n",
      "Training GBM model...\n"
     ]
    }
   ],
   "source": [
    "from sklearn.svm import SVC\n",
    "\n",
    "print(\"\\nTraining SVC model...\")\n",
    "model_SVC = SVC(kernel='rbf', random_state=42)\n",
    "train_and_evaluate(model_SVC, X_train_scaled, X_test_scaled, y_train, y_test)"
   ]
  },
  {
   "cell_type": "markdown",
   "metadata": {},
   "source": [
    "## AdaBoostClassifier"
   ]
  },
  {
   "cell_type": "code",
   "execution_count": 28,
   "metadata": {},
   "outputs": [],
   "source": [
    "from sklearn.tree import DecisionTreeClassifier\n",
    "from sklearn.ensemble import AdaBoostClassifier"
   ]
  },
  {
   "cell_type": "code",
   "execution_count": 5,
   "metadata": {},
   "outputs": [],
   "source": [
    "ada_clf = AdaBoostClassifier(\n",
    "DecisionTreeClassifier(max_depth=1), n_estimators=100,\n",
    "learning_rate=0.5, random_state=42)"
   ]
  },
  {
   "cell_type": "code",
   "execution_count": 29,
   "metadata": {},
   "outputs": [
    {
     "name": "stdout",
     "output_type": "stream",
     "text": [
      "\n",
      "Training AdaBoostClassifier model...\n"
     ]
    },
    {
     "name": "stderr",
     "output_type": "stream",
     "text": [
      "c:\\ws\\scm\\github\\mia\\MIA104\\.venv\\Lib\\site-packages\\sklearn\\ensemble\\_weight_boosting.py:527: FutureWarning: The SAMME.R algorithm (the default) is deprecated and will be removed in 1.6. Use the SAMME algorithm to circumvent this warning.\n",
      "  warnings.warn(\n"
     ]
    },
    {
     "name": "stdout",
     "output_type": "stream",
     "text": [
      "Accuracy: 0.6295\n",
      "Training time: 66.07 seconds\n",
      "Prediction time: 3.74 seconds\n",
      "\n",
      "Classification Report:\n",
      "              precision    recall  f1-score   support\n",
      "\n",
      "           0       0.58      0.27      0.37     62602\n",
      "           1       0.64      0.87      0.74     94134\n",
      "\n",
      "    accuracy                           0.63    156736\n",
      "   macro avg       0.61      0.57      0.55    156736\n",
      "weighted avg       0.62      0.63      0.59    156736\n",
      "\n",
      "\n",
      "Confusion Matrix:\n",
      "[[17023 45579]\n",
      " [12493 81641]]\n"
     ]
    }
   ],
   "source": [
    "print(\"\\nTraining AdaBoostClassifier model...\")\n",
    "train_and_evaluate(ada_clf, X_train_scaled, X_test_scaled, y_train, y_test)"
   ]
  },
  {
   "cell_type": "markdown",
   "metadata": {},
   "source": [
    "## KNN"
   ]
  },
  {
   "cell_type": "code",
   "execution_count": 30,
   "metadata": {},
   "outputs": [],
   "source": [
    "from sklearn.neighbors import KNeighborsClassifier"
   ]
  },
  {
   "cell_type": "code",
   "execution_count": 31,
   "metadata": {},
   "outputs": [
    {
     "name": "stdout",
     "output_type": "stream",
     "text": [
      "\n",
      "Training KNN model...\n",
      "Accuracy: 0.6575\n",
      "Training time: 0.13 seconds\n",
      "Prediction time: 77.92 seconds\n",
      "\n",
      "Classification Report:\n",
      "              precision    recall  f1-score   support\n",
      "\n",
      "           0       0.58      0.52      0.55     62602\n",
      "           1       0.70      0.75      0.72     94134\n",
      "\n",
      "    accuracy                           0.66    156736\n",
      "   macro avg       0.64      0.63      0.64    156736\n",
      "weighted avg       0.65      0.66      0.65    156736\n",
      "\n",
      "\n",
      "Confusion Matrix:\n",
      "[[32328 30274]\n",
      " [23412 70722]]\n"
     ]
    }
   ],
   "source": [
    "model_KNN = KNeighborsClassifier(n_neighbors=5)\n",
    "print(\"\\nTraining KNN model...\")\n",
    "train_and_evaluate(model_KNN, X_train_scaled, X_test_scaled, y_train, y_test)"
   ]
  },
  {
   "cell_type": "markdown",
   "metadata": {},
   "source": [
    "## ENSAMBLE"
   ]
  },
  {
   "cell_type": "code",
   "execution_count": 42,
   "metadata": {},
   "outputs": [],
   "source": [
    "from sklearn.ensemble import StackingClassifier\n",
    "stacking_clf = StackingClassifier(\n",
    "estimators=[\n",
    "('lr', LogisticRegression(random_state=42)),\n",
    "('rf', RandomForestClassifier(random_state=42, n_estimators=300, min_samples_split=2, min_samples_leaf=1, max_depth=None)),\n",
    "('knn', KNeighborsClassifier(n_neighbors=5)),\n",
    "('gbm', GradientBoostingClassifier(n_estimators=100, random_state=42))\n",
    "],\n",
    "final_estimator=RandomForestClassifier(random_state=43),\n",
    "cv=5 # number of cross-validation folds\n",
    ")\n"
   ]
  },
  {
   "cell_type": "code",
   "execution_count": 43,
   "metadata": {},
   "outputs": [
    {
     "name": "stdout",
     "output_type": "stream",
     "text": [
      "\n",
      "Training KNN model...\n"
     ]
    },
    {
     "name": "stderr",
     "output_type": "stream",
     "text": [
      "c:\\ws\\scm\\github\\mia\\MIA104\\.venv\\Lib\\site-packages\\sklearn\\linear_model\\_logistic.py:469: ConvergenceWarning: lbfgs failed to converge (status=1):\n",
      "STOP: TOTAL NO. of ITERATIONS REACHED LIMIT.\n",
      "\n",
      "Increase the number of iterations (max_iter) or scale the data as shown in:\n",
      "    https://scikit-learn.org/stable/modules/preprocessing.html\n",
      "Please also refer to the documentation for alternative solver options:\n",
      "    https://scikit-learn.org/stable/modules/linear_model.html#logistic-regression\n",
      "  n_iter_i = _check_optimize_result(\n",
      "c:\\ws\\scm\\github\\mia\\MIA104\\.venv\\Lib\\site-packages\\sklearn\\linear_model\\_logistic.py:469: ConvergenceWarning: lbfgs failed to converge (status=1):\n",
      "STOP: TOTAL NO. of ITERATIONS REACHED LIMIT.\n",
      "\n",
      "Increase the number of iterations (max_iter) or scale the data as shown in:\n",
      "    https://scikit-learn.org/stable/modules/preprocessing.html\n",
      "Please also refer to the documentation for alternative solver options:\n",
      "    https://scikit-learn.org/stable/modules/linear_model.html#logistic-regression\n",
      "  n_iter_i = _check_optimize_result(\n",
      "c:\\ws\\scm\\github\\mia\\MIA104\\.venv\\Lib\\site-packages\\sklearn\\linear_model\\_logistic.py:469: ConvergenceWarning: lbfgs failed to converge (status=1):\n",
      "STOP: TOTAL NO. of ITERATIONS REACHED LIMIT.\n",
      "\n",
      "Increase the number of iterations (max_iter) or scale the data as shown in:\n",
      "    https://scikit-learn.org/stable/modules/preprocessing.html\n",
      "Please also refer to the documentation for alternative solver options:\n",
      "    https://scikit-learn.org/stable/modules/linear_model.html#logistic-regression\n",
      "  n_iter_i = _check_optimize_result(\n",
      "c:\\ws\\scm\\github\\mia\\MIA104\\.venv\\Lib\\site-packages\\sklearn\\linear_model\\_logistic.py:469: ConvergenceWarning: lbfgs failed to converge (status=1):\n",
      "STOP: TOTAL NO. of ITERATIONS REACHED LIMIT.\n",
      "\n",
      "Increase the number of iterations (max_iter) or scale the data as shown in:\n",
      "    https://scikit-learn.org/stable/modules/preprocessing.html\n",
      "Please also refer to the documentation for alternative solver options:\n",
      "    https://scikit-learn.org/stable/modules/linear_model.html#logistic-regression\n",
      "  n_iter_i = _check_optimize_result(\n",
      "c:\\ws\\scm\\github\\mia\\MIA104\\.venv\\Lib\\site-packages\\sklearn\\linear_model\\_logistic.py:469: ConvergenceWarning: lbfgs failed to converge (status=1):\n",
      "STOP: TOTAL NO. of ITERATIONS REACHED LIMIT.\n",
      "\n",
      "Increase the number of iterations (max_iter) or scale the data as shown in:\n",
      "    https://scikit-learn.org/stable/modules/preprocessing.html\n",
      "Please also refer to the documentation for alternative solver options:\n",
      "    https://scikit-learn.org/stable/modules/linear_model.html#logistic-regression\n",
      "  n_iter_i = _check_optimize_result(\n",
      "c:\\ws\\scm\\github\\mia\\MIA104\\.venv\\Lib\\site-packages\\sklearn\\linear_model\\_logistic.py:469: ConvergenceWarning: lbfgs failed to converge (status=1):\n",
      "STOP: TOTAL NO. of ITERATIONS REACHED LIMIT.\n",
      "\n",
      "Increase the number of iterations (max_iter) or scale the data as shown in:\n",
      "    https://scikit-learn.org/stable/modules/preprocessing.html\n",
      "Please also refer to the documentation for alternative solver options:\n",
      "    https://scikit-learn.org/stable/modules/linear_model.html#logistic-regression\n",
      "  n_iter_i = _check_optimize_result(\n"
     ]
    },
    {
     "name": "stdout",
     "output_type": "stream",
     "text": [
      "Accuracy: 0.6852\n",
      "Training time: 2948.87 seconds\n",
      "Prediction time: 88.80 seconds\n",
      "\n",
      "Classification Report:\n",
      "              precision    recall  f1-score   support\n",
      "\n",
      "           0       0.62      0.56      0.59     62602\n",
      "           1       0.72      0.77      0.75     94134\n",
      "\n",
      "    accuracy                           0.69    156736\n",
      "   macro avg       0.67      0.66      0.67    156736\n",
      "weighted avg       0.68      0.69      0.68    156736\n",
      "\n",
      "\n",
      "Confusion Matrix:\n",
      "[[34975 27627]\n",
      " [21718 72416]]\n"
     ]
    }
   ],
   "source": [
    "print(\"\\nTraining stacking_clf model...\")\n",
    "train_and_evaluate(stacking_clf, X_train_scaled, X_test_scaled, y_train, y_test)"
   ]
  }
 ],
 "metadata": {
  "kernelspec": {
   "display_name": ".venv",
   "language": "python",
   "name": "python3"
  },
  "language_info": {
   "codemirror_mode": {
    "name": "ipython",
    "version": 3
   },
   "file_extension": ".py",
   "mimetype": "text/x-python",
   "name": "python",
   "nbconvert_exporter": "python",
   "pygments_lexer": "ipython3",
   "version": "3.12.4"
  }
 },
 "nbformat": 4,
 "nbformat_minor": 2
}
