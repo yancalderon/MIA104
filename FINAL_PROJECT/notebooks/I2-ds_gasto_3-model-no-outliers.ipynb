{
 "cells": [
  {
   "cell_type": "markdown",
   "metadata": {},
   "source": [
    "## Carga de dataset"
   ]
  },
  {
   "cell_type": "code",
   "execution_count": 45,
   "metadata": {},
   "outputs": [],
   "source": [
    "import numpy as np\n",
    "import pandas as pd\n",
    "import matplotlib.pyplot as plt\n",
    "\n",
    "df_entrada = pd.read_csv('../data/ds_gasto_3_final.csv', sep=';')"
   ]
  },
  {
   "cell_type": "markdown",
   "metadata": {},
   "source": [
    "## Calcular Q1 (primer cuartil) y Q3 (tercer cuartil)"
   ]
  },
  {
   "cell_type": "code",
   "execution_count": 46,
   "metadata": {},
   "outputs": [],
   "source": [
    "def identify_outliers(df, column):\n",
    "    q1 = df[column].quantile(0.25)\n",
    "    q3 = df[column].quantile(0.75)\n",
    "    iqr = q3 - q1\n",
    "    lower_bound  = q1 - 1.5 * iqr\n",
    "    upper_bound = q3 + 1.5 * iqr\n",
    "    return df[(df[column] < lower_bound) | (df[column] > upper_bound)]  \n",
    "\n",
    "def plot_boxplot(df, column):\n",
    "    plt.figure(figsize=(10, 6))\n",
    "    df.boxplot(column=column)\n",
    "    plt.title('Boxplot de ' + column)\n",
    "    plt.show()"
   ]
  },
  {
   "cell_type": "code",
   "execution_count": 50,
   "metadata": {},
   "outputs": [],
   "source": [
    "# Identificando outliers en variables numericas\n",
    "#numeric_vars = df_entrada.select_dtypes(include=[np.number]).columns\n",
    "numeric_vars = [\n",
    "        'PIA',\n",
    "        'PIM'\n",
    "        ,'DEVENGADO'\n",
    "        ,'IP'\n",
    "        ,'NRO_PRESIDENTES_X_ANO'\n",
    "        ,'NRO_CONFLICTO_SOCIAL_X_ANO'\n",
    "        ,'INFLACION_ANUAL'\n",
    "        ,'PROYECTO_EDAD_NETA'\n",
    "        ,'PROYECTO_EDAD_BRUTA'\n",
    "        ,'AVANCE'\n",
    "        ,'CLASE']"
   ]
  },
  {
   "cell_type": "code",
   "execution_count": 48,
   "metadata": {},
   "outputs": [
    {
     "data": {
      "text/html": [
       "<div>\n",
       "<style scoped>\n",
       "    .dataframe tbody tr th:only-of-type {\n",
       "        vertical-align: middle;\n",
       "    }\n",
       "\n",
       "    .dataframe tbody tr th {\n",
       "        vertical-align: top;\n",
       "    }\n",
       "\n",
       "    .dataframe thead th {\n",
       "        text-align: right;\n",
       "    }\n",
       "</style>\n",
       "<table border=\"1\" class=\"dataframe\">\n",
       "  <thead>\n",
       "    <tr style=\"text-align: right;\">\n",
       "      <th></th>\n",
       "      <th>ANIO</th>\n",
       "      <th>NIVEL</th>\n",
       "      <th>NIVEL_GOBIERNO</th>\n",
       "      <th>DPTO</th>\n",
       "      <th>DEPARTAMENTO_EJECUTORA_NOMBRE</th>\n",
       "      <th>FUNCION</th>\n",
       "      <th>FUNCION_NOMBRE</th>\n",
       "      <th>PIA</th>\n",
       "      <th>PIM</th>\n",
       "      <th>DEVENGADO</th>\n",
       "      <th>...</th>\n",
       "      <th>PROYECTO</th>\n",
       "      <th>EJECUTORA</th>\n",
       "      <th>PROYECTO_EDAD_NETA</th>\n",
       "      <th>PROYECTO_EDAD_BRUTA</th>\n",
       "      <th>IGEIP_EJECUCION</th>\n",
       "      <th>P_INCO_AVG</th>\n",
       "      <th>NEJE_PUNTAJEIRI</th>\n",
       "      <th>NRO_EJECUTORAS_X_PROYECTO</th>\n",
       "      <th>AVANCE</th>\n",
       "      <th>CLASE</th>\n",
       "    </tr>\n",
       "  </thead>\n",
       "  <tbody>\n",
       "    <tr>\n",
       "      <th>0</th>\n",
       "      <td>2017</td>\n",
       "      <td>2</td>\n",
       "      <td>R</td>\n",
       "      <td>1</td>\n",
       "      <td>AMAZONAS</td>\n",
       "      <td>15</td>\n",
       "      <td>TRANSPORTE</td>\n",
       "      <td>0</td>\n",
       "      <td>79983</td>\n",
       "      <td>79982.76</td>\n",
       "      <td>...</td>\n",
       "      <td>2266580</td>\n",
       "      <td>721</td>\n",
       "      <td>6</td>\n",
       "      <td>8</td>\n",
       "      <td>0.629</td>\n",
       "      <td>51.47</td>\n",
       "      <td>36.305761</td>\n",
       "      <td>1</td>\n",
       "      <td>1.0000</td>\n",
       "      <td>1</td>\n",
       "    </tr>\n",
       "    <tr>\n",
       "      <th>1</th>\n",
       "      <td>2023</td>\n",
       "      <td>2</td>\n",
       "      <td>R</td>\n",
       "      <td>1</td>\n",
       "      <td>AMAZONAS</td>\n",
       "      <td>15</td>\n",
       "      <td>TRANSPORTE</td>\n",
       "      <td>0</td>\n",
       "      <td>57539</td>\n",
       "      <td>57537.81</td>\n",
       "      <td>...</td>\n",
       "      <td>2266580</td>\n",
       "      <td>721</td>\n",
       "      <td>6</td>\n",
       "      <td>8</td>\n",
       "      <td>0.629</td>\n",
       "      <td>51.47</td>\n",
       "      <td>36.305761</td>\n",
       "      <td>1</td>\n",
       "      <td>1.0000</td>\n",
       "      <td>1</td>\n",
       "    </tr>\n",
       "    <tr>\n",
       "      <th>2</th>\n",
       "      <td>2016</td>\n",
       "      <td>2</td>\n",
       "      <td>R</td>\n",
       "      <td>1</td>\n",
       "      <td>AMAZONAS</td>\n",
       "      <td>15</td>\n",
       "      <td>TRANSPORTE</td>\n",
       "      <td>0</td>\n",
       "      <td>160000</td>\n",
       "      <td>159965.52</td>\n",
       "      <td>...</td>\n",
       "      <td>2266580</td>\n",
       "      <td>721</td>\n",
       "      <td>6</td>\n",
       "      <td>8</td>\n",
       "      <td>0.629</td>\n",
       "      <td>51.47</td>\n",
       "      <td>36.305761</td>\n",
       "      <td>1</td>\n",
       "      <td>0.9998</td>\n",
       "      <td>1</td>\n",
       "    </tr>\n",
       "    <tr>\n",
       "      <th>3</th>\n",
       "      <td>2020</td>\n",
       "      <td>2</td>\n",
       "      <td>R</td>\n",
       "      <td>1</td>\n",
       "      <td>AMAZONAS</td>\n",
       "      <td>15</td>\n",
       "      <td>TRANSPORTE</td>\n",
       "      <td>0</td>\n",
       "      <td>41528</td>\n",
       "      <td>40326.67</td>\n",
       "      <td>...</td>\n",
       "      <td>2266580</td>\n",
       "      <td>721</td>\n",
       "      <td>6</td>\n",
       "      <td>8</td>\n",
       "      <td>0.629</td>\n",
       "      <td>51.47</td>\n",
       "      <td>36.305761</td>\n",
       "      <td>1</td>\n",
       "      <td>0.9711</td>\n",
       "      <td>1</td>\n",
       "    </tr>\n",
       "    <tr>\n",
       "      <th>4</th>\n",
       "      <td>2019</td>\n",
       "      <td>2</td>\n",
       "      <td>R</td>\n",
       "      <td>1</td>\n",
       "      <td>AMAZONAS</td>\n",
       "      <td>15</td>\n",
       "      <td>TRANSPORTE</td>\n",
       "      <td>0</td>\n",
       "      <td>914962</td>\n",
       "      <td>642811.24</td>\n",
       "      <td>...</td>\n",
       "      <td>2266580</td>\n",
       "      <td>721</td>\n",
       "      <td>6</td>\n",
       "      <td>8</td>\n",
       "      <td>0.629</td>\n",
       "      <td>51.47</td>\n",
       "      <td>36.305761</td>\n",
       "      <td>1</td>\n",
       "      <td>0.7026</td>\n",
       "      <td>0</td>\n",
       "    </tr>\n",
       "    <tr>\n",
       "      <th>5</th>\n",
       "      <td>2018</td>\n",
       "      <td>2</td>\n",
       "      <td>R</td>\n",
       "      <td>1</td>\n",
       "      <td>AMAZONAS</td>\n",
       "      <td>15</td>\n",
       "      <td>TRANSPORTE</td>\n",
       "      <td>2277000</td>\n",
       "      <td>8835259</td>\n",
       "      <td>7508119.21</td>\n",
       "      <td>...</td>\n",
       "      <td>2266580</td>\n",
       "      <td>721</td>\n",
       "      <td>6</td>\n",
       "      <td>8</td>\n",
       "      <td>0.629</td>\n",
       "      <td>51.47</td>\n",
       "      <td>36.305761</td>\n",
       "      <td>1</td>\n",
       "      <td>0.8498</td>\n",
       "      <td>1</td>\n",
       "    </tr>\n",
       "    <tr>\n",
       "      <th>6</th>\n",
       "      <td>2023</td>\n",
       "      <td>2</td>\n",
       "      <td>R</td>\n",
       "      <td>1</td>\n",
       "      <td>AMAZONAS</td>\n",
       "      <td>15</td>\n",
       "      <td>TRANSPORTE</td>\n",
       "      <td>0</td>\n",
       "      <td>300671</td>\n",
       "      <td>300671.00</td>\n",
       "      <td>...</td>\n",
       "      <td>2594727</td>\n",
       "      <td>721</td>\n",
       "      <td>1</td>\n",
       "      <td>1</td>\n",
       "      <td>0.629</td>\n",
       "      <td>51.47</td>\n",
       "      <td>36.305761</td>\n",
       "      <td>2</td>\n",
       "      <td>1.0000</td>\n",
       "      <td>1</td>\n",
       "    </tr>\n",
       "    <tr>\n",
       "      <th>7</th>\n",
       "      <td>2016</td>\n",
       "      <td>2</td>\n",
       "      <td>R</td>\n",
       "      <td>1</td>\n",
       "      <td>AMAZONAS</td>\n",
       "      <td>15</td>\n",
       "      <td>TRANSPORTE</td>\n",
       "      <td>0</td>\n",
       "      <td>523849</td>\n",
       "      <td>523847.74</td>\n",
       "      <td>...</td>\n",
       "      <td>2157905</td>\n",
       "      <td>721</td>\n",
       "      <td>4</td>\n",
       "      <td>5</td>\n",
       "      <td>0.629</td>\n",
       "      <td>51.47</td>\n",
       "      <td>36.305761</td>\n",
       "      <td>1</td>\n",
       "      <td>1.0000</td>\n",
       "      <td>1</td>\n",
       "    </tr>\n",
       "  </tbody>\n",
       "</table>\n",
       "<p>8 rows × 30 columns</p>\n",
       "</div>"
      ],
      "text/plain": [
       "   ANIO  NIVEL NIVEL_GOBIERNO  DPTO DEPARTAMENTO_EJECUTORA_NOMBRE  FUNCION  \\\n",
       "0  2017      2              R     1                      AMAZONAS       15   \n",
       "1  2023      2              R     1                      AMAZONAS       15   \n",
       "2  2016      2              R     1                      AMAZONAS       15   \n",
       "3  2020      2              R     1                      AMAZONAS       15   \n",
       "4  2019      2              R     1                      AMAZONAS       15   \n",
       "5  2018      2              R     1                      AMAZONAS       15   \n",
       "6  2023      2              R     1                      AMAZONAS       15   \n",
       "7  2016      2              R     1                      AMAZONAS       15   \n",
       "\n",
       "  FUNCION_NOMBRE      PIA      PIM   DEVENGADO  ...  PROYECTO  EJECUTORA  \\\n",
       "0     TRANSPORTE        0    79983    79982.76  ...   2266580        721   \n",
       "1     TRANSPORTE        0    57539    57537.81  ...   2266580        721   \n",
       "2     TRANSPORTE        0   160000   159965.52  ...   2266580        721   \n",
       "3     TRANSPORTE        0    41528    40326.67  ...   2266580        721   \n",
       "4     TRANSPORTE        0   914962   642811.24  ...   2266580        721   \n",
       "5     TRANSPORTE  2277000  8835259  7508119.21  ...   2266580        721   \n",
       "6     TRANSPORTE        0   300671   300671.00  ...   2594727        721   \n",
       "7     TRANSPORTE        0   523849   523847.74  ...   2157905        721   \n",
       "\n",
       "   PROYECTO_EDAD_NETA  PROYECTO_EDAD_BRUTA  IGEIP_EJECUCION  P_INCO_AVG  \\\n",
       "0                   6                    8            0.629       51.47   \n",
       "1                   6                    8            0.629       51.47   \n",
       "2                   6                    8            0.629       51.47   \n",
       "3                   6                    8            0.629       51.47   \n",
       "4                   6                    8            0.629       51.47   \n",
       "5                   6                    8            0.629       51.47   \n",
       "6                   1                    1            0.629       51.47   \n",
       "7                   4                    5            0.629       51.47   \n",
       "\n",
       "   NEJE_PUNTAJEIRI NRO_EJECUTORAS_X_PROYECTO  AVANCE  CLASE  \n",
       "0        36.305761                         1  1.0000      1  \n",
       "1        36.305761                         1  1.0000      1  \n",
       "2        36.305761                         1  0.9998      1  \n",
       "3        36.305761                         1  0.9711      1  \n",
       "4        36.305761                         1  0.7026      0  \n",
       "5        36.305761                         1  0.8498      1  \n",
       "6        36.305761                         2  1.0000      1  \n",
       "7        36.305761                         1  1.0000      1  \n",
       "\n",
       "[8 rows x 30 columns]"
      ]
     },
     "execution_count": 48,
     "metadata": {},
     "output_type": "execute_result"
    }
   ],
   "source": [
    "df_entrada.head(8)"
   ]
  },
  {
   "cell_type": "code",
   "execution_count": 51,
   "metadata": {},
   "outputs": [
    {
     "name": "stdout",
     "output_type": "stream",
     "text": [
      "Outliers en PIA\n",
      "        ANIO  NIVEL NIVEL_GOBIERNO  DPTO DEPARTAMENTO_EJECUTORA_NOMBRE  \\\n",
      "5       2018      2              R     1                      AMAZONAS   \n",
      "16      2013      2              R     1                      AMAZONAS   \n",
      "19      2012      2              R     1                      AMAZONAS   \n",
      "36      2021      2              R     1                      AMAZONAS   \n",
      "39      2023      2              R     1                      AMAZONAS   \n",
      "...      ...    ...            ...   ...                           ...   \n",
      "627789  2015      1              E    15                          LIMA   \n",
      "627790  2014      1              E    15                          LIMA   \n",
      "627794  2015      1              E    15                          LIMA   \n",
      "627795  2014      1              E    15                          LIMA   \n",
      "627798  2015      1              E    15                          LIMA   \n",
      "\n",
      "        FUNCION         FUNCION_NOMBRE      PIA      PIM   DEVENGADO  ...  \\\n",
      "5            15             TRANSPORTE  2277000  8835259  7508119.21  ...   \n",
      "16           15             TRANSPORTE  3000000  2450881  2449504.66  ...   \n",
      "19           15             TRANSPORTE  2500000  3059420  3059418.99  ...   \n",
      "36           15             TRANSPORTE   179441    11660    10360.00  ...   \n",
      "39           15             TRANSPORTE  1907430  6812229  6808548.63  ...   \n",
      "...         ...                    ...      ...      ...         ...  ...   \n",
      "627789        1            LEGISLATIVA  1500000  1993114  1410733.72  ...   \n",
      "627790        1            LEGISLATIVA  2730000  2867468  2202154.09  ...   \n",
      "627794        1            LEGISLATIVA  1000000  1000000        0.00  ...   \n",
      "627795        2  RELACIONES EXTERIORES  2800008  4979383  4978985.89  ...   \n",
      "627798        2  RELACIONES EXTERIORES   800000   800000   800000.00  ...   \n",
      "\n",
      "        PROYECTO  EJECUTORA  PROYECTO_EDAD_NETA  PROYECTO_EDAD_BRUTA  \\\n",
      "5        2266580        721                   6                    8   \n",
      "16       2134734        721                   5                    5   \n",
      "19       2134734        721                   5                    5   \n",
      "36       2242313        721                   4                    7   \n",
      "39       2179401        721                   3                    5   \n",
      "...          ...        ...                 ...                  ...   \n",
      "627789   2164834        477                   4                    4   \n",
      "627790   2164834        477                   4                    4   \n",
      "627794   2150013        477                   4                    4   \n",
      "627795   2131495         45                   6                   10   \n",
      "627798   2131495         45                   6                   10   \n",
      "\n",
      "        IGEIP_EJECUCION  P_INCO_AVG  NEJE_PUNTAJEIRI  \\\n",
      "5                 0.629       51.47        36.305761   \n",
      "16                0.629       51.47        36.305761   \n",
      "19                0.629       51.47        36.305761   \n",
      "36                0.629       51.47        36.305761   \n",
      "39                0.629       51.47        36.305761   \n",
      "...                 ...         ...              ...   \n",
      "627789            0.635       43.52        28.173878   \n",
      "627790            0.635       43.52        28.173878   \n",
      "627794            0.635       43.52        28.173878   \n",
      "627795            0.635       43.52        41.130490   \n",
      "627798            0.635       43.52        41.130490   \n",
      "\n",
      "       NRO_EJECUTORAS_X_PROYECTO  AVANCE  CLASE  \n",
      "5                              1  0.8498      1  \n",
      "16                             1  0.9994      1  \n",
      "19                             1  1.0000      1  \n",
      "36                             1  0.8885      1  \n",
      "39                             2  0.9995      1  \n",
      "...                          ...     ...    ...  \n",
      "627789                         1  0.7078      0  \n",
      "627790                         1  0.7680      0  \n",
      "627794                         1  0.0000      0  \n",
      "627795                         2  0.9999      1  \n",
      "627798                         2  1.0000      1  \n",
      "\n",
      "[111148 rows x 30 columns]\n"
     ]
    },
    {
     "data": {
      "image/png": "[encoded data removed]",
      "text/plain": [
       "<Figure size 1000x600 with 1 Axes>"
      ]
     },
     "metadata": {},
     "output_type": "display_data"
    },
    {
     "name": "stdout",
     "output_type": "stream",
     "text": [
      "Outliers en PIM\n",
      "        ANIO  NIVEL NIVEL_GOBIERNO  DPTO DEPARTAMENTO_EJECUTORA_NOMBRE  \\\n",
      "5       2018      2              R     1                      AMAZONAS   \n",
      "16      2013      2              R     1                      AMAZONAS   \n",
      "19      2012      2              R     1                      AMAZONAS   \n",
      "20      2014      2              R     1                      AMAZONAS   \n",
      "26      2018      2              R     1                      AMAZONAS   \n",
      "...      ...    ...            ...   ...                           ...   \n",
      "627796  2012      1              E    15                          LIMA   \n",
      "627799  2022      1              E    15                          LIMA   \n",
      "627800  2019      1              E    15                          LIMA   \n",
      "627801  2020      1              E    15                          LIMA   \n",
      "627802  2021      1              E    15                          LIMA   \n",
      "\n",
      "        FUNCION         FUNCION_NOMBRE      PIA       PIM    DEVENGADO  ...  \\\n",
      "5            15             TRANSPORTE  2277000   8835259   7508119.21  ...   \n",
      "16           15             TRANSPORTE  3000000   2450881   2449504.66  ...   \n",
      "19           15             TRANSPORTE  2500000   3059420   3059418.99  ...   \n",
      "20           15             TRANSPORTE        0   2479841   2296325.58  ...   \n",
      "26           15             TRANSPORTE        0   2547738   2547736.66  ...   \n",
      "...         ...                    ...      ...       ...          ...  ...   \n",
      "627796        2  RELACIONES EXTERIORES        0  12348273  12324360.53  ...   \n",
      "627799        2  RELACIONES EXTERIORES        0   2529872   1400295.00  ...   \n",
      "627800        2  RELACIONES EXTERIORES        0   2118508         0.00  ...   \n",
      "627801        2  RELACIONES EXTERIORES        0   2118508     93000.00  ...   \n",
      "627802        2  RELACIONES EXTERIORES        0   2594451     39628.06  ...   \n",
      "\n",
      "        PROYECTO  EJECUTORA  PROYECTO_EDAD_NETA  PROYECTO_EDAD_BRUTA  \\\n",
      "5        2266580        721                   6                    8   \n",
      "16       2134734        721                   5                    5   \n",
      "19       2134734        721                   5                    5   \n",
      "20       2134734        721                   5                    5   \n",
      "26       2311970        721                   3                    3   \n",
      "...          ...        ...                 ...                  ...   \n",
      "627796   2131495         45                   6                   10   \n",
      "627799   2355901         45                   4                    4   \n",
      "627800   2355901         45                   4                    4   \n",
      "627801   2355901         45                   4                    4   \n",
      "627802   2355901         45                   4                    4   \n",
      "\n",
      "        IGEIP_EJECUCION  P_INCO_AVG  NEJE_PUNTAJEIRI  \\\n",
      "5                 0.629       51.47        36.305761   \n",
      "16                0.629       51.47        36.305761   \n",
      "19                0.629       51.47        36.305761   \n",
      "20                0.629       51.47        36.305761   \n",
      "26                0.629       51.47        36.305761   \n",
      "...                 ...         ...              ...   \n",
      "627796            0.635       43.52        41.130490   \n",
      "627799            0.635       43.52        41.130490   \n",
      "627800            0.635       43.52        41.130490   \n",
      "627801            0.635       43.52        41.130490   \n",
      "627802            0.635       43.52        41.130490   \n",
      "\n",
      "       NRO_EJECUTORAS_X_PROYECTO  AVANCE  CLASE  \n",
      "5                              1  0.8498      1  \n",
      "16                             1  0.9994      1  \n",
      "19                             1  1.0000      1  \n",
      "20                             1  0.9260      1  \n",
      "26                             2  1.0000      1  \n",
      "...                          ...     ...    ...  \n",
      "627796                         2  0.9981      1  \n",
      "627799                         1  0.5535      0  \n",
      "627800                         1  0.0000      0  \n",
      "627801                         1  0.0439      0  \n",
      "627802                         1  0.0153      0  \n",
      "\n",
      "[87313 rows x 30 columns]\n"
     ]
    },
    {
     "data": {
      "image/png": "[encoded data removed]",
      "text/plain": [
       "<Figure size 1000x600 with 1 Axes>"
      ]
     },
     "metadata": {},
     "output_type": "display_data"
    },
    {
     "name": "stdout",
     "output_type": "stream",
     "text": [
      "Outliers en DEVENGADO\n",
      "        ANIO  NIVEL NIVEL_GOBIERNO  DPTO DEPARTAMENTO_EJECUTORA_NOMBRE  \\\n",
      "4       2019      2              R     1                      AMAZONAS   \n",
      "5       2018      2              R     1                      AMAZONAS   \n",
      "14      2014      2              R     1                      AMAZONAS   \n",
      "16      2013      2              R     1                      AMAZONAS   \n",
      "19      2012      2              R     1                      AMAZONAS   \n",
      "...      ...    ...            ...   ...                           ...   \n",
      "627795  2014      1              E    15                          LIMA   \n",
      "627796  2012      1              E    15                          LIMA   \n",
      "627797  2013      1              E    15                          LIMA   \n",
      "627798  2015      1              E    15                          LIMA   \n",
      "627799  2022      1              E    15                          LIMA   \n",
      "\n",
      "        FUNCION         FUNCION_NOMBRE      PIA       PIM    DEVENGADO  ...  \\\n",
      "4            15             TRANSPORTE        0    914962    642811.24  ...   \n",
      "5            15             TRANSPORTE  2277000   8835259   7508119.21  ...   \n",
      "14           15             TRANSPORTE        0    770568    750575.13  ...   \n",
      "16           15             TRANSPORTE  3000000   2450881   2449504.66  ...   \n",
      "19           15             TRANSPORTE  2500000   3059420   3059418.99  ...   \n",
      "...         ...                    ...      ...       ...          ...  ...   \n",
      "627795        2  RELACIONES EXTERIORES  2800008   4979383   4978985.89  ...   \n",
      "627796        2  RELACIONES EXTERIORES        0  12348273  12324360.53  ...   \n",
      "627797        2  RELACIONES EXTERIORES        0    781278    772239.53  ...   \n",
      "627798        2  RELACIONES EXTERIORES   800000    800000    800000.00  ...   \n",
      "627799        2  RELACIONES EXTERIORES        0   2529872   1400295.00  ...   \n",
      "\n",
      "        PROYECTO  EJECUTORA  PROYECTO_EDAD_NETA  PROYECTO_EDAD_BRUTA  \\\n",
      "4        2266580        721                   6                    8   \n",
      "5        2266580        721                   6                    8   \n",
      "14       2179299        721                   4                    7   \n",
      "16       2134734        721                   5                    5   \n",
      "19       2134734        721                   5                    5   \n",
      "...          ...        ...                 ...                  ...   \n",
      "627795   2131495         45                   6                   10   \n",
      "627796   2131495         45                   6                   10   \n",
      "627797   2131495         45                   6                   10   \n",
      "627798   2131495         45                   6                   10   \n",
      "627799   2355901         45                   4                    4   \n",
      "\n",
      "        IGEIP_EJECUCION  P_INCO_AVG  NEJE_PUNTAJEIRI  \\\n",
      "4                 0.629       51.47        36.305761   \n",
      "5                 0.629       51.47        36.305761   \n",
      "14                0.629       51.47        36.305761   \n",
      "16                0.629       51.47        36.305761   \n",
      "19                0.629       51.47        36.305761   \n",
      "...                 ...         ...              ...   \n",
      "627795            0.635       43.52        41.130490   \n",
      "627796            0.635       43.52        41.130490   \n",
      "627797            0.635       43.52        41.130490   \n",
      "627798            0.635       43.52        41.130490   \n",
      "627799            0.635       43.52        41.130490   \n",
      "\n",
      "       NRO_EJECUTORAS_X_PROYECTO  AVANCE  CLASE  \n",
      "4                              1  0.7026      0  \n",
      "5                              1  0.8498      1  \n",
      "14                             2  0.9741      1  \n",
      "16                             1  0.9994      1  \n",
      "19                             1  1.0000      1  \n",
      "...                          ...     ...    ...  \n",
      "627795                         2  0.9999      1  \n",
      "627796                         2  0.9981      1  \n",
      "627797                         2  0.9884      1  \n",
      "627798                         2  1.0000      1  \n",
      "627799                         1  0.5535      0  \n",
      "\n",
      "[88064 rows x 30 columns]\n"
     ]
    },
    {
     "data": {
      "image/png": "[encoded data removed]",
      "text/plain": [
       "<Figure size 1000x600 with 1 Axes>"
      ]
     },
     "metadata": {},
     "output_type": "display_data"
    },
    {
     "name": "stdout",
     "output_type": "stream",
     "text": [
      "No hay outliers en IP\n",
      "No hay outliers en NRO_PRESIDENTES_X_ANO\n",
      "No hay outliers en NRO_CONFLICTO_SOCIAL_X_ANO\n",
      "No hay outliers en INFLACION_ANUAL\n",
      "No hay outliers en PROYECTO_EDAD_NETA\n",
      "No hay outliers en PROYECTO_EDAD_BRUTA\n",
      "No hay outliers en AVANCE\n",
      "No hay outliers en CLASE\n"
     ]
    }
   ],
   "source": [
    "for var in numeric_vars:\n",
    "    outliers = identify_outliers(df_entrada, var)\n",
    "    if not outliers.empty:\n",
    "        print('Outliers en ' + var)\n",
    "        print(outliers)\n",
    "        plot_boxplot(df_entrada, var)\n",
    "    else:\n",
    "        print('No hay outliers en ' + var)"
   ]
  },
  {
   "cell_type": "code",
   "execution_count": 52,
   "metadata": {},
   "outputs": [
    {
     "name": "stdout",
     "output_type": "stream",
     "text": [
      "Outliers en PIA\n",
      "        ANIO  NIVEL NIVEL_GOBIERNO  DPTO DEPARTAMENTO_EJECUTORA_NOMBRE  \\\n",
      "5       2018      2              R     1                      AMAZONAS   \n",
      "16      2013      2              R     1                      AMAZONAS   \n",
      "19      2012      2              R     1                      AMAZONAS   \n",
      "36      2021      2              R     1                      AMAZONAS   \n",
      "39      2023      2              R     1                      AMAZONAS   \n",
      "...      ...    ...            ...   ...                           ...   \n",
      "627789  2015      1              E    15                          LIMA   \n",
      "627790  2014      1              E    15                          LIMA   \n",
      "627794  2015      1              E    15                          LIMA   \n",
      "627795  2014      1              E    15                          LIMA   \n",
      "627798  2015      1              E    15                          LIMA   \n",
      "\n",
      "        FUNCION         FUNCION_NOMBRE      PIA      PIM   DEVENGADO  ...  \\\n",
      "5            15             TRANSPORTE  2277000  8835259  7508119.21  ...   \n",
      "16           15             TRANSPORTE  3000000  2450881  2449504.66  ...   \n",
      "19           15             TRANSPORTE  2500000  3059420  3059418.99  ...   \n",
      "36           15             TRANSPORTE   179441    11660    10360.00  ...   \n",
      "39           15             TRANSPORTE  1907430  6812229  6808548.63  ...   \n",
      "...         ...                    ...      ...      ...         ...  ...   \n",
      "627789        1            LEGISLATIVA  1500000  1993114  1410733.72  ...   \n",
      "627790        1            LEGISLATIVA  2730000  2867468  2202154.09  ...   \n",
      "627794        1            LEGISLATIVA  1000000  1000000        0.00  ...   \n",
      "627795        2  RELACIONES EXTERIORES  2800008  4979383  4978985.89  ...   \n",
      "627798        2  RELACIONES EXTERIORES   800000   800000   800000.00  ...   \n",
      "\n",
      "        PROYECTO  EJECUTORA  PROYECTO_EDAD_NETA  PROYECTO_EDAD_BRUTA  \\\n",
      "5        2266580        721                   6                    8   \n",
      "16       2134734        721                   5                    5   \n",
      "19       2134734        721                   5                    5   \n",
      "36       2242313        721                   4                    7   \n",
      "39       2179401        721                   3                    5   \n",
      "...          ...        ...                 ...                  ...   \n",
      "627789   2164834        477                   4                    4   \n",
      "627790   2164834        477                   4                    4   \n",
      "627794   2150013        477                   4                    4   \n",
      "627795   2131495         45                   6                   10   \n",
      "627798   2131495         45                   6                   10   \n",
      "\n",
      "        IGEIP_EJECUCION  P_INCO_AVG  NEJE_PUNTAJEIRI  \\\n",
      "5                 0.629       51.47        36.305761   \n",
      "16                0.629       51.47        36.305761   \n",
      "19                0.629       51.47        36.305761   \n",
      "36                0.629       51.47        36.305761   \n",
      "39                0.629       51.47        36.305761   \n",
      "...                 ...         ...              ...   \n",
      "627789            0.635       43.52        28.173878   \n",
      "627790            0.635       43.52        28.173878   \n",
      "627794            0.635       43.52        28.173878   \n",
      "627795            0.635       43.52        41.130490   \n",
      "627798            0.635       43.52        41.130490   \n",
      "\n",
      "       NRO_EJECUTORAS_X_PROYECTO  AVANCE  CLASE  \n",
      "5                              1  0.8498      1  \n",
      "16                             1  0.9994      1  \n",
      "19                             1  1.0000      1  \n",
      "36                             1  0.8885      1  \n",
      "39                             2  0.9995      1  \n",
      "...                          ...     ...    ...  \n",
      "627789                         1  0.7078      0  \n",
      "627790                         1  0.7680      0  \n",
      "627794                         1  0.0000      0  \n",
      "627795                         2  0.9999      1  \n",
      "627798                         2  1.0000      1  \n",
      "\n",
      "[111148 rows x 30 columns]\n"
     ]
    },
    {
     "data": {
      "image/png": "[encoded data removed]",
      "text/plain": [
       "<Figure size 1000x600 with 1 Axes>"
      ]
     },
     "metadata": {},
     "output_type": "display_data"
    },
    {
     "name": "stdout",
     "output_type": "stream",
     "text": [
      "Outliers en PIM\n",
      "        ANIO  NIVEL NIVEL_GOBIERNO  DPTO DEPARTAMENTO_EJECUTORA_NOMBRE  \\\n",
      "5       2018      2              R     1                      AMAZONAS   \n",
      "16      2013      2              R     1                      AMAZONAS   \n",
      "19      2012      2              R     1                      AMAZONAS   \n",
      "20      2014      2              R     1                      AMAZONAS   \n",
      "26      2018      2              R     1                      AMAZONAS   \n",
      "...      ...    ...            ...   ...                           ...   \n",
      "627796  2012      1              E    15                          LIMA   \n",
      "627799  2022      1              E    15                          LIMA   \n",
      "627800  2019      1              E    15                          LIMA   \n",
      "627801  2020      1              E    15                          LIMA   \n",
      "627802  2021      1              E    15                          LIMA   \n",
      "\n",
      "        FUNCION         FUNCION_NOMBRE      PIA       PIM    DEVENGADO  ...  \\\n",
      "5            15             TRANSPORTE  2277000   8835259   7508119.21  ...   \n",
      "16           15             TRANSPORTE  3000000   2450881   2449504.66  ...   \n",
      "19           15             TRANSPORTE  2500000   3059420   3059418.99  ...   \n",
      "20           15             TRANSPORTE        0   2479841   2296325.58  ...   \n",
      "26           15             TRANSPORTE        0   2547738   2547736.66  ...   \n",
      "...         ...                    ...      ...       ...          ...  ...   \n",
      "627796        2  RELACIONES EXTERIORES        0  12348273  12324360.53  ...   \n",
      "627799        2  RELACIONES EXTERIORES        0   2529872   1400295.00  ...   \n",
      "627800        2  RELACIONES EXTERIORES        0   2118508         0.00  ...   \n",
      "627801        2  RELACIONES EXTERIORES        0   2118508     93000.00  ...   \n",
      "627802        2  RELACIONES EXTERIORES        0   2594451     39628.06  ...   \n",
      "\n",
      "        PROYECTO  EJECUTORA  PROYECTO_EDAD_NETA  PROYECTO_EDAD_BRUTA  \\\n",
      "5        2266580        721                   6                    8   \n",
      "16       2134734        721                   5                    5   \n",
      "19       2134734        721                   5                    5   \n",
      "20       2134734        721                   5                    5   \n",
      "26       2311970        721                   3                    3   \n",
      "...          ...        ...                 ...                  ...   \n",
      "627796   2131495         45                   6                   10   \n",
      "627799   2355901         45                   4                    4   \n",
      "627800   2355901         45                   4                    4   \n",
      "627801   2355901         45                   4                    4   \n",
      "627802   2355901         45                   4                    4   \n",
      "\n",
      "        IGEIP_EJECUCION  P_INCO_AVG  NEJE_PUNTAJEIRI  \\\n",
      "5                 0.629       51.47        36.305761   \n",
      "16                0.629       51.47        36.305761   \n",
      "19                0.629       51.47        36.305761   \n",
      "20                0.629       51.47        36.305761   \n",
      "26                0.629       51.47        36.305761   \n",
      "...                 ...         ...              ...   \n",
      "627796            0.635       43.52        41.130490   \n",
      "627799            0.635       43.52        41.130490   \n",
      "627800            0.635       43.52        41.130490   \n",
      "627801            0.635       43.52        41.130490   \n",
      "627802            0.635       43.52        41.130490   \n",
      "\n",
      "       NRO_EJECUTORAS_X_PROYECTO  AVANCE  CLASE  \n",
      "5                              1  0.8498      1  \n",
      "16                             1  0.9994      1  \n",
      "19                             1  1.0000      1  \n",
      "20                             1  0.9260      1  \n",
      "26                             2  1.0000      1  \n",
      "...                          ...     ...    ...  \n",
      "627796                         2  0.9981      1  \n",
      "627799                         1  0.5535      0  \n",
      "627800                         1  0.0000      0  \n",
      "627801                         1  0.0439      0  \n",
      "627802                         1  0.0153      0  \n",
      "\n",
      "[87313 rows x 30 columns]\n"
     ]
    },
    {
     "data": {
      "image/png": "[encoded data removed]",
      "text/plain": [
       "<Figure size 1000x600 with 1 Axes>"
      ]
     },
     "metadata": {},
     "output_type": "display_data"
    },
    {
     "name": "stdout",
     "output_type": "stream",
     "text": [
      "Outliers en DEVENGADO\n",
      "        ANIO  NIVEL NIVEL_GOBIERNO  DPTO DEPARTAMENTO_EJECUTORA_NOMBRE  \\\n",
      "4       2019      2              R     1                      AMAZONAS   \n",
      "5       2018      2              R     1                      AMAZONAS   \n",
      "14      2014      2              R     1                      AMAZONAS   \n",
      "16      2013      2              R     1                      AMAZONAS   \n",
      "19      2012      2              R     1                      AMAZONAS   \n",
      "...      ...    ...            ...   ...                           ...   \n",
      "627795  2014      1              E    15                          LIMA   \n",
      "627796  2012      1              E    15                          LIMA   \n",
      "627797  2013      1              E    15                          LIMA   \n",
      "627798  2015      1              E    15                          LIMA   \n",
      "627799  2022      1              E    15                          LIMA   \n",
      "\n",
      "        FUNCION         FUNCION_NOMBRE      PIA       PIM    DEVENGADO  ...  \\\n",
      "4            15             TRANSPORTE        0    914962    642811.24  ...   \n",
      "5            15             TRANSPORTE  2277000   8835259   7508119.21  ...   \n",
      "14           15             TRANSPORTE        0    770568    750575.13  ...   \n",
      "16           15             TRANSPORTE  3000000   2450881   2449504.66  ...   \n",
      "19           15             TRANSPORTE  2500000   3059420   3059418.99  ...   \n",
      "...         ...                    ...      ...       ...          ...  ...   \n",
      "627795        2  RELACIONES EXTERIORES  2800008   4979383   4978985.89  ...   \n",
      "627796        2  RELACIONES EXTERIORES        0  12348273  12324360.53  ...   \n",
      "627797        2  RELACIONES EXTERIORES        0    781278    772239.53  ...   \n",
      "627798        2  RELACIONES EXTERIORES   800000    800000    800000.00  ...   \n",
      "627799        2  RELACIONES EXTERIORES        0   2529872   1400295.00  ...   \n",
      "\n",
      "        PROYECTO  EJECUTORA  PROYECTO_EDAD_NETA  PROYECTO_EDAD_BRUTA  \\\n",
      "4        2266580        721                   6                    8   \n",
      "5        2266580        721                   6                    8   \n",
      "14       2179299        721                   4                    7   \n",
      "16       2134734        721                   5                    5   \n",
      "19       2134734        721                   5                    5   \n",
      "...          ...        ...                 ...                  ...   \n",
      "627795   2131495         45                   6                   10   \n",
      "627796   2131495         45                   6                   10   \n",
      "627797   2131495         45                   6                   10   \n",
      "627798   2131495         45                   6                   10   \n",
      "627799   2355901         45                   4                    4   \n",
      "\n",
      "        IGEIP_EJECUCION  P_INCO_AVG  NEJE_PUNTAJEIRI  \\\n",
      "4                 0.629       51.47        36.305761   \n",
      "5                 0.629       51.47        36.305761   \n",
      "14                0.629       51.47        36.305761   \n",
      "16                0.629       51.47        36.305761   \n",
      "19                0.629       51.47        36.305761   \n",
      "...                 ...         ...              ...   \n",
      "627795            0.635       43.52        41.130490   \n",
      "627796            0.635       43.52        41.130490   \n",
      "627797            0.635       43.52        41.130490   \n",
      "627798            0.635       43.52        41.130490   \n",
      "627799            0.635       43.52        41.130490   \n",
      "\n",
      "       NRO_EJECUTORAS_X_PROYECTO  AVANCE  CLASE  \n",
      "4                              1  0.7026      0  \n",
      "5                              1  0.8498      1  \n",
      "14                             2  0.9741      1  \n",
      "16                             1  0.9994      1  \n",
      "19                             1  1.0000      1  \n",
      "...                          ...     ...    ...  \n",
      "627795                         2  0.9999      1  \n",
      "627796                         2  0.9981      1  \n",
      "627797                         2  0.9884      1  \n",
      "627798                         2  1.0000      1  \n",
      "627799                         1  0.5535      0  \n",
      "\n",
      "[88064 rows x 30 columns]\n"
     ]
    },
    {
     "data": {
      "image/png": "[encoded data removed]",
      "text/plain": [
       "<Figure size 1000x600 with 1 Axes>"
      ]
     },
     "metadata": {},
     "output_type": "display_data"
    },
    {
     "name": "stdout",
     "output_type": "stream",
     "text": [
      "No hay outliers en IP\n",
      "No hay outliers en NRO_PRESIDENTES_X_ANO\n",
      "No hay outliers en NRO_CONFLICTO_SOCIAL_X_ANO\n",
      "No hay outliers en INFLACION_ANUAL\n",
      "No hay outliers en PROYECTO_EDAD_NETA\n",
      "No hay outliers en PROYECTO_EDAD_BRUTA\n",
      "No hay outliers en AVANCE\n",
      "No hay outliers en CLASE\n"
     ]
    }
   ],
   "source": [
    "# Conjunto para almacenar los índices de los outliers\n",
    "outliers_indices = set()\n",
    "# Identificación y recopilación de los índices de los outliers\n",
    "for var in numeric_vars:\n",
    "    outliers = identify_outliers(df_entrada, var)\n",
    "    if not outliers.empty:\n",
    "        print('Outliers en ' + var)\n",
    "        print(outliers)\n",
    "        plot_boxplot(df_entrada, var)\n",
    "        outliers_indices.update(outliers.index)\n",
    "    else:\n",
    "        print('No hay outliers en ' + var)"
   ]
  },
  {
   "cell_type": "markdown",
   "metadata": {},
   "source": [
    "## Eliminar valores atipicos"
   ]
  },
  {
   "cell_type": "code",
   "execution_count": 53,
   "metadata": {},
   "outputs": [
    {
     "name": "stdout",
     "output_type": "stream",
     "text": [
      "El DataFrame original tenía 627803 filas.\n",
      "El DataFrame limpio tiene 440939 filas.\n"
     ]
    }
   ],
   "source": [
    "# Eliminación de los outliers del DataFrame principal\n",
    "df_entrada_cleaned = df_entrada.drop(index=outliers_indices)\n",
    "\n",
    "print(f\"El DataFrame original tenía {df_entrada.shape[0]} filas.\")\n",
    "print(f\"El DataFrame limpio tiene {df_entrada_cleaned.shape[0]} filas.\")"
   ]
  },
  {
   "cell_type": "markdown",
   "metadata": {},
   "source": [
    "## DROP"
   ]
  },
  {
   "cell_type": "code",
   "execution_count": 54,
   "metadata": {},
   "outputs": [],
   "source": [
    "col_to_drop = [ 'ANIO'\n",
    "            ,'NIVEL_GOBIERNO'\n",
    "            ,'DEPARTAMENTO_EJECUTORA_NOMBRE'\n",
    "            ,'FUNCION_NOMBRE'\n",
    "            ,'PIA'\n",
    "            ,'DEVENGADO'\n",
    "            ,'PROYECTO'\n",
    "            ,'EJECUTORA'\n",
    "            ,'AVANCE' \n",
    "            #,'CLASE'\n",
    "            ,'FENOMENO_NINO' # IG muy bajo\n",
    "            ,'CAMBIO_GOBIERNO_NACIONAL' # IG muy bajo\n",
    "            ]\n",
    "               \n",
    "df_entrada_drop = df_entrada_cleaned.drop(col_to_drop, axis='columns', inplace=False)"
   ]
  },
  {
   "cell_type": "markdown",
   "metadata": {},
   "source": [
    "## ENCODING"
   ]
  },
  {
   "cell_type": "code",
   "execution_count": 55,
   "metadata": {},
   "outputs": [],
   "source": [
    "# Aplicar one-hot encoding a 'columna1'\n",
    "columns_to_one_hot_encode = ['NIVEL', 'TIPO_GOBIERNO_NACIONAL', 'DPTO', 'FUNCION']\n",
    "df_one_hot = pd.get_dummies(df_entrada_drop, columns=columns_to_one_hot_encode, dtype=int)"
   ]
  },
  {
   "cell_type": "code",
   "execution_count": 56,
   "metadata": {},
   "outputs": [],
   "source": [
    "(\n",
    "    df_one_hot.rename(columns={'TIPO_GOBIERNO_NACIONAL_Centro derecha': 'tgn_centro_derecha',\n",
    "                                'TIPO_GOBIERNO_NACIONAL_Centro izquierda': 'tgn_centro_izquierda',\n",
    "                                'TIPO_GOBIERNO_NACIONAL_Izquierda': 'tgn_izquierda',\n",
    "                                        }, inplace=True)\n",
    ")"
   ]
  },
  {
   "cell_type": "code",
   "execution_count": 57,
   "metadata": {},
   "outputs": [
    {
     "ename": "KeyboardInterrupt",
     "evalue": "",
     "output_type": "error",
     "traceback": [
      "\u001b[1;31m---------------------------------------------------------------------------\u001b[0m",
      "\u001b[1;31mKeyboardInterrupt\u001b[0m                         Traceback (most recent call last)",
      "Cell \u001b[1;32mIn[57], line 2\u001b[0m\n\u001b[0;32m      1\u001b[0m \u001b[38;5;66;03m# Exportar df_final a un archivo CSV en una ruta específica3\u001b[39;00m\n\u001b[1;32m----> 2\u001b[0m \u001b[43mdf_one_hot\u001b[49m\u001b[38;5;241;43m.\u001b[39;49m\u001b[43mto_csv\u001b[49m\u001b[43m(\u001b[49m\u001b[38;5;124;43m'\u001b[39;49m\u001b[38;5;124;43mC:/DATA/scm/github/mia/MIA104/FINAL_PROJECT/data/df_one_hot_gasto_3.csv\u001b[39;49m\u001b[38;5;124;43m'\u001b[39;49m\u001b[43m,\u001b[49m\u001b[43m \u001b[49m\u001b[43mindex\u001b[49m\u001b[38;5;241;43m=\u001b[39;49m\u001b[38;5;28;43;01mFalse\u001b[39;49;00m\u001b[43m)\u001b[49m\n",
      "File \u001b[1;32mc:\\DATA\\scm\\github\\mia\\MIA104\\.venv\\lib\\site-packages\\pandas\\util\\_decorators.py:333\u001b[0m, in \u001b[0;36mdeprecate_nonkeyword_arguments.<locals>.decorate.<locals>.wrapper\u001b[1;34m(*args, **kwargs)\u001b[0m\n\u001b[0;32m    327\u001b[0m \u001b[38;5;28;01mif\u001b[39;00m \u001b[38;5;28mlen\u001b[39m(args) \u001b[38;5;241m>\u001b[39m num_allow_args:\n\u001b[0;32m    328\u001b[0m     warnings\u001b[38;5;241m.\u001b[39mwarn(\n\u001b[0;32m    329\u001b[0m         msg\u001b[38;5;241m.\u001b[39mformat(arguments\u001b[38;5;241m=\u001b[39m_format_argument_list(allow_args)),\n\u001b[0;32m    330\u001b[0m         \u001b[38;5;167;01mFutureWarning\u001b[39;00m,\n\u001b[0;32m    331\u001b[0m         stacklevel\u001b[38;5;241m=\u001b[39mfind_stack_level(),\n\u001b[0;32m    332\u001b[0m     )\n\u001b[1;32m--> 333\u001b[0m \u001b[38;5;28;01mreturn\u001b[39;00m func(\u001b[38;5;241m*\u001b[39margs, \u001b[38;5;241m*\u001b[39m\u001b[38;5;241m*\u001b[39mkwargs)\n",
      "File \u001b[1;32mc:\\DATA\\scm\\github\\mia\\MIA104\\.venv\\lib\\site-packages\\pandas\\core\\generic.py:3967\u001b[0m, in \u001b[0;36mNDFrame.to_csv\u001b[1;34m(self, path_or_buf, sep, na_rep, float_format, columns, header, index, index_label, mode, encoding, compression, quoting, quotechar, lineterminator, chunksize, date_format, doublequote, escapechar, decimal, errors, storage_options)\u001b[0m\n\u001b[0;32m   3956\u001b[0m df \u001b[38;5;241m=\u001b[39m \u001b[38;5;28mself\u001b[39m \u001b[38;5;28;01mif\u001b[39;00m \u001b[38;5;28misinstance\u001b[39m(\u001b[38;5;28mself\u001b[39m, ABCDataFrame) \u001b[38;5;28;01melse\u001b[39;00m \u001b[38;5;28mself\u001b[39m\u001b[38;5;241m.\u001b[39mto_frame()\n\u001b[0;32m   3958\u001b[0m formatter \u001b[38;5;241m=\u001b[39m DataFrameFormatter(\n\u001b[0;32m   3959\u001b[0m     frame\u001b[38;5;241m=\u001b[39mdf,\n\u001b[0;32m   3960\u001b[0m     header\u001b[38;5;241m=\u001b[39mheader,\n\u001b[1;32m   (...)\u001b[0m\n\u001b[0;32m   3964\u001b[0m     decimal\u001b[38;5;241m=\u001b[39mdecimal,\n\u001b[0;32m   3965\u001b[0m )\n\u001b[1;32m-> 3967\u001b[0m \u001b[38;5;28;01mreturn\u001b[39;00m \u001b[43mDataFrameRenderer\u001b[49m\u001b[43m(\u001b[49m\u001b[43mformatter\u001b[49m\u001b[43m)\u001b[49m\u001b[38;5;241;43m.\u001b[39;49m\u001b[43mto_csv\u001b[49m\u001b[43m(\u001b[49m\n\u001b[0;32m   3968\u001b[0m \u001b[43m    \u001b[49m\u001b[43mpath_or_buf\u001b[49m\u001b[43m,\u001b[49m\n\u001b[0;32m   3969\u001b[0m \u001b[43m    \u001b[49m\u001b[43mlineterminator\u001b[49m\u001b[38;5;241;43m=\u001b[39;49m\u001b[43mlineterminator\u001b[49m\u001b[43m,\u001b[49m\n\u001b[0;32m   3970\u001b[0m \u001b[43m    \u001b[49m\u001b[43msep\u001b[49m\u001b[38;5;241;43m=\u001b[39;49m\u001b[43msep\u001b[49m\u001b[43m,\u001b[49m\n\u001b[0;32m   3971\u001b[0m \u001b[43m    \u001b[49m\u001b[43mencoding\u001b[49m\u001b[38;5;241;43m=\u001b[39;49m\u001b[43mencoding\u001b[49m\u001b[43m,\u001b[49m\n\u001b[0;32m   3972\u001b[0m \u001b[43m    \u001b[49m\u001b[43merrors\u001b[49m\u001b[38;5;241;43m=\u001b[39;49m\u001b[43merrors\u001b[49m\u001b[43m,\u001b[49m\n\u001b[0;32m   3973\u001b[0m \u001b[43m    \u001b[49m\u001b[43mcompression\u001b[49m\u001b[38;5;241;43m=\u001b[39;49m\u001b[43mcompression\u001b[49m\u001b[43m,\u001b[49m\n\u001b[0;32m   3974\u001b[0m \u001b[43m    \u001b[49m\u001b[43mquoting\u001b[49m\u001b[38;5;241;43m=\u001b[39;49m\u001b[43mquoting\u001b[49m\u001b[43m,\u001b[49m\n\u001b[0;32m   3975\u001b[0m \u001b[43m    \u001b[49m\u001b[43mcolumns\u001b[49m\u001b[38;5;241;43m=\u001b[39;49m\u001b[43mcolumns\u001b[49m\u001b[43m,\u001b[49m\n\u001b[0;32m   3976\u001b[0m \u001b[43m    \u001b[49m\u001b[43mindex_label\u001b[49m\u001b[38;5;241;43m=\u001b[39;49m\u001b[43mindex_label\u001b[49m\u001b[43m,\u001b[49m\n\u001b[0;32m   3977\u001b[0m \u001b[43m    \u001b[49m\u001b[43mmode\u001b[49m\u001b[38;5;241;43m=\u001b[39;49m\u001b[43mmode\u001b[49m\u001b[43m,\u001b[49m\n\u001b[0;32m   3978\u001b[0m \u001b[43m    \u001b[49m\u001b[43mchunksize\u001b[49m\u001b[38;5;241;43m=\u001b[39;49m\u001b[43mchunksize\u001b[49m\u001b[43m,\u001b[49m\n\u001b[0;32m   3979\u001b[0m \u001b[43m    \u001b[49m\u001b[43mquotechar\u001b[49m\u001b[38;5;241;43m=\u001b[39;49m\u001b[43mquotechar\u001b[49m\u001b[43m,\u001b[49m\n\u001b[0;32m   3980\u001b[0m \u001b[43m    \u001b[49m\u001b[43mdate_format\u001b[49m\u001b[38;5;241;43m=\u001b[39;49m\u001b[43mdate_format\u001b[49m\u001b[43m,\u001b[49m\n\u001b[0;32m   3981\u001b[0m \u001b[43m    \u001b[49m\u001b[43mdoublequote\u001b[49m\u001b[38;5;241;43m=\u001b[39;49m\u001b[43mdoublequote\u001b[49m\u001b[43m,\u001b[49m\n\u001b[0;32m   3982\u001b[0m \u001b[43m    \u001b[49m\u001b[43mescapechar\u001b[49m\u001b[38;5;241;43m=\u001b[39;49m\u001b[43mescapechar\u001b[49m\u001b[43m,\u001b[49m\n\u001b[0;32m   3983\u001b[0m \u001b[43m    \u001b[49m\u001b[43mstorage_options\u001b[49m\u001b[38;5;241;43m=\u001b[39;49m\u001b[43mstorage_options\u001b[49m\u001b[43m,\u001b[49m\n\u001b[0;32m   3984\u001b[0m \u001b[43m\u001b[49m\u001b[43m)\u001b[49m\n",
      "File \u001b[1;32mc:\\DATA\\scm\\github\\mia\\MIA104\\.venv\\lib\\site-packages\\pandas\\io\\formats\\format.py:1014\u001b[0m, in \u001b[0;36mDataFrameRenderer.to_csv\u001b[1;34m(self, path_or_buf, encoding, sep, columns, index_label, mode, compression, quoting, quotechar, lineterminator, chunksize, date_format, doublequote, escapechar, errors, storage_options)\u001b[0m\n\u001b[0;32m    993\u001b[0m     created_buffer \u001b[38;5;241m=\u001b[39m \u001b[38;5;28;01mFalse\u001b[39;00m\n\u001b[0;32m    995\u001b[0m csv_formatter \u001b[38;5;241m=\u001b[39m CSVFormatter(\n\u001b[0;32m    996\u001b[0m     path_or_buf\u001b[38;5;241m=\u001b[39mpath_or_buf,\n\u001b[0;32m    997\u001b[0m     lineterminator\u001b[38;5;241m=\u001b[39mlineterminator,\n\u001b[1;32m   (...)\u001b[0m\n\u001b[0;32m   1012\u001b[0m     formatter\u001b[38;5;241m=\u001b[39m\u001b[38;5;28mself\u001b[39m\u001b[38;5;241m.\u001b[39mfmt,\n\u001b[0;32m   1013\u001b[0m )\n\u001b[1;32m-> 1014\u001b[0m \u001b[43mcsv_formatter\u001b[49m\u001b[38;5;241;43m.\u001b[39;49m\u001b[43msave\u001b[49m\u001b[43m(\u001b[49m\u001b[43m)\u001b[49m\n\u001b[0;32m   1016\u001b[0m \u001b[38;5;28;01mif\u001b[39;00m created_buffer:\n\u001b[0;32m   1017\u001b[0m     \u001b[38;5;28;01massert\u001b[39;00m \u001b[38;5;28misinstance\u001b[39m(path_or_buf, StringIO)\n",
      "File \u001b[1;32mc:\\DATA\\scm\\github\\mia\\MIA104\\.venv\\lib\\site-packages\\pandas\\io\\formats\\csvs.py:270\u001b[0m, in \u001b[0;36mCSVFormatter.save\u001b[1;34m(self)\u001b[0m\n\u001b[0;32m    251\u001b[0m \u001b[38;5;28;01mwith\u001b[39;00m get_handle(\n\u001b[0;32m    252\u001b[0m     \u001b[38;5;28mself\u001b[39m\u001b[38;5;241m.\u001b[39mfilepath_or_buffer,\n\u001b[0;32m    253\u001b[0m     \u001b[38;5;28mself\u001b[39m\u001b[38;5;241m.\u001b[39mmode,\n\u001b[1;32m   (...)\u001b[0m\n\u001b[0;32m    258\u001b[0m ) \u001b[38;5;28;01mas\u001b[39;00m handles:\n\u001b[0;32m    259\u001b[0m     \u001b[38;5;66;03m# Note: self.encoding is irrelevant here\u001b[39;00m\n\u001b[0;32m    260\u001b[0m     \u001b[38;5;28mself\u001b[39m\u001b[38;5;241m.\u001b[39mwriter \u001b[38;5;241m=\u001b[39m csvlib\u001b[38;5;241m.\u001b[39mwriter(\n\u001b[0;32m    261\u001b[0m         handles\u001b[38;5;241m.\u001b[39mhandle,\n\u001b[0;32m    262\u001b[0m         lineterminator\u001b[38;5;241m=\u001b[39m\u001b[38;5;28mself\u001b[39m\u001b[38;5;241m.\u001b[39mlineterminator,\n\u001b[1;32m   (...)\u001b[0m\n\u001b[0;32m    267\u001b[0m         quotechar\u001b[38;5;241m=\u001b[39m\u001b[38;5;28mself\u001b[39m\u001b[38;5;241m.\u001b[39mquotechar,\n\u001b[0;32m    268\u001b[0m     )\n\u001b[1;32m--> 270\u001b[0m     \u001b[38;5;28;43mself\u001b[39;49m\u001b[38;5;241;43m.\u001b[39;49m\u001b[43m_save\u001b[49m\u001b[43m(\u001b[49m\u001b[43m)\u001b[49m\n",
      "File \u001b[1;32mc:\\DATA\\scm\\github\\mia\\MIA104\\.venv\\lib\\site-packages\\pandas\\io\\formats\\csvs.py:275\u001b[0m, in \u001b[0;36mCSVFormatter._save\u001b[1;34m(self)\u001b[0m\n\u001b[0;32m    273\u001b[0m \u001b[38;5;28;01mif\u001b[39;00m \u001b[38;5;28mself\u001b[39m\u001b[38;5;241m.\u001b[39m_need_to_save_header:\n\u001b[0;32m    274\u001b[0m     \u001b[38;5;28mself\u001b[39m\u001b[38;5;241m.\u001b[39m_save_header()\n\u001b[1;32m--> 275\u001b[0m \u001b[38;5;28;43mself\u001b[39;49m\u001b[38;5;241;43m.\u001b[39;49m\u001b[43m_save_body\u001b[49m\u001b[43m(\u001b[49m\u001b[43m)\u001b[49m\n",
      "File \u001b[1;32mc:\\DATA\\scm\\github\\mia\\MIA104\\.venv\\lib\\site-packages\\pandas\\io\\formats\\csvs.py:313\u001b[0m, in \u001b[0;36mCSVFormatter._save_body\u001b[1;34m(self)\u001b[0m\n\u001b[0;32m    311\u001b[0m \u001b[38;5;28;01mif\u001b[39;00m start_i \u001b[38;5;241m>\u001b[39m\u001b[38;5;241m=\u001b[39m end_i:\n\u001b[0;32m    312\u001b[0m     \u001b[38;5;28;01mbreak\u001b[39;00m\n\u001b[1;32m--> 313\u001b[0m \u001b[38;5;28;43mself\u001b[39;49m\u001b[38;5;241;43m.\u001b[39;49m\u001b[43m_save_chunk\u001b[49m\u001b[43m(\u001b[49m\u001b[43mstart_i\u001b[49m\u001b[43m,\u001b[49m\u001b[43m \u001b[49m\u001b[43mend_i\u001b[49m\u001b[43m)\u001b[49m\n",
      "File \u001b[1;32mc:\\DATA\\scm\\github\\mia\\MIA104\\.venv\\lib\\site-packages\\pandas\\io\\formats\\csvs.py:324\u001b[0m, in \u001b[0;36mCSVFormatter._save_chunk\u001b[1;34m(self, start_i, end_i)\u001b[0m\n\u001b[0;32m    321\u001b[0m data \u001b[38;5;241m=\u001b[39m \u001b[38;5;28mlist\u001b[39m(res\u001b[38;5;241m.\u001b[39m_iter_column_arrays())\n\u001b[0;32m    323\u001b[0m ix \u001b[38;5;241m=\u001b[39m \u001b[38;5;28mself\u001b[39m\u001b[38;5;241m.\u001b[39mdata_index[slicer]\u001b[38;5;241m.\u001b[39m_get_values_for_csv(\u001b[38;5;241m*\u001b[39m\u001b[38;5;241m*\u001b[39m\u001b[38;5;28mself\u001b[39m\u001b[38;5;241m.\u001b[39m_number_format)\n\u001b[1;32m--> 324\u001b[0m \u001b[43mlibwriters\u001b[49m\u001b[38;5;241;43m.\u001b[39;49m\u001b[43mwrite_csv_rows\u001b[49m\u001b[43m(\u001b[49m\n\u001b[0;32m    325\u001b[0m \u001b[43m    \u001b[49m\u001b[43mdata\u001b[49m\u001b[43m,\u001b[49m\n\u001b[0;32m    326\u001b[0m \u001b[43m    \u001b[49m\u001b[43mix\u001b[49m\u001b[43m,\u001b[49m\n\u001b[0;32m    327\u001b[0m \u001b[43m    \u001b[49m\u001b[38;5;28;43mself\u001b[39;49m\u001b[38;5;241;43m.\u001b[39;49m\u001b[43mnlevels\u001b[49m\u001b[43m,\u001b[49m\n\u001b[0;32m    328\u001b[0m \u001b[43m    \u001b[49m\u001b[38;5;28;43mself\u001b[39;49m\u001b[38;5;241;43m.\u001b[39;49m\u001b[43mcols\u001b[49m\u001b[43m,\u001b[49m\n\u001b[0;32m    329\u001b[0m \u001b[43m    \u001b[49m\u001b[38;5;28;43mself\u001b[39;49m\u001b[38;5;241;43m.\u001b[39;49m\u001b[43mwriter\u001b[49m\u001b[43m,\u001b[49m\n\u001b[0;32m    330\u001b[0m \u001b[43m\u001b[49m\u001b[43m)\u001b[49m\n",
      "File \u001b[1;32mwriters.pyx:73\u001b[0m, in \u001b[0;36mpandas._libs.writers.write_csv_rows\u001b[1;34m()\u001b[0m\n",
      "\u001b[1;31mKeyboardInterrupt\u001b[0m: "
     ]
    }
   ],
   "source": [
    "# Exportar df_final a un archivo CSV en una ruta específica3\n",
    "df_one_hot.to_csv('C:/DATA/scm/github/mia/MIA104/FINAL_PROJECT/data/df_one_hot_gasto_3.csv', index=False)"
   ]
  },
  {
   "cell_type": "markdown",
   "metadata": {},
   "source": [
    "# X e y"
   ]
  },
  {
   "cell_type": "code",
   "execution_count": 58,
   "metadata": {},
   "outputs": [],
   "source": [
    "X = df_one_hot.drop(['CLASE'], axis=1)\n",
    "y = df_one_hot['CLASE'].values"
   ]
  },
  {
   "cell_type": "markdown",
   "metadata": {},
   "source": [
    "## Split train and test"
   ]
  },
  {
   "cell_type": "code",
   "execution_count": 59,
   "metadata": {},
   "outputs": [],
   "source": [
    "from sklearn.model_selection import train_test_split\n",
    "(X_train, X_test, y_train, y_test) = train_test_split(X, y, test_size=0.3, random_state=42)"
   ]
  },
  {
   "cell_type": "markdown",
   "metadata": {},
   "source": [
    "## RobustScaler"
   ]
  },
  {
   "cell_type": "code",
   "execution_count": 60,
   "metadata": {},
   "outputs": [],
   "source": [
    "from sklearn.preprocessing import RobustScaler"
   ]
  },
  {
   "cell_type": "code",
   "execution_count": 61,
   "metadata": {},
   "outputs": [],
   "source": [
    "# Crear el objeto RobustScaler\n",
    "scaler = RobustScaler()\n",
    "\n",
    "# Ajustar el scaler a los datos de entrenamiento y transformar\n",
    "X_train_scaled = scaler.fit_transform(X_train)\n",
    "\n",
    "# Transformar los datos de prueba\n",
    "X_test_scaled = scaler.transform(X_test)"
   ]
  },
  {
   "cell_type": "markdown",
   "metadata": {},
   "source": [
    "### Random Forest"
   ]
  },
  {
   "cell_type": "code",
   "execution_count": 62,
   "metadata": {},
   "outputs": [],
   "source": [
    "from sklearn.metrics import classification_report, confusion_matrix, accuracy_score\n",
    "from sklearn.model_selection import RandomizedSearchCV\n",
    "from time import time\n",
    "# 2. Función para entrenar y evaluar modelos\n",
    "def train_and_evaluate(model, X_train, X_test, y_train, y_test):\n",
    "    start_time = time()\n",
    "    model.fit(X_train, y_train)\n",
    "    train_time = time() - start_time\n",
    "    \n",
    "    start_time = time()\n",
    "    y_pred = model.predict(X_test)\n",
    "    predict_time = time() - start_time\n",
    "    \n",
    "    accuracy = accuracy_score(y_test, y_pred)\n",
    "    \n",
    "    print(f\"Accuracy: {accuracy:.4f}\")\n",
    "    print(f\"Training time: {train_time:.2f} seconds\")\n",
    "    print(f\"Prediction time: {predict_time:.2f} seconds\")\n",
    "    print(\"\\nClassification Report:\")\n",
    "    print(classification_report(y_test, y_pred))\n",
    "    print(\"\\nConfusion Matrix:\")\n",
    "    print(confusion_matrix(y_test, y_pred))"
   ]
  },
  {
   "cell_type": "code",
   "execution_count": 63,
   "metadata": {},
   "outputs": [
    {
     "name": "stdout",
     "output_type": "stream",
     "text": [
      "\n",
      "Training Random Forest model...\n",
      "Accuracy: 0.6901\n",
      "Training time: 15.30 seconds\n",
      "Prediction time: 1.11 seconds\n",
      "\n",
      "Classification Report:\n",
      "              precision    recall  f1-score   support\n",
      "\n",
      "           0       0.62      0.54      0.58     51714\n",
      "           1       0.73      0.79      0.76     80568\n",
      "\n",
      "    accuracy                           0.69    132282\n",
      "   macro avg       0.67      0.66      0.67    132282\n",
      "weighted avg       0.68      0.69      0.69    132282\n",
      "\n",
      "\n",
      "Confusion Matrix:\n",
      "[[27738 23976]\n",
      " [17024 63544]]\n"
     ]
    }
   ],
   "source": [
    "from sklearn.ensemble import RandomForestClassifier\n",
    "\n",
    "# 4. Random Forest\n",
    "print(\"\\nTraining Random Forest model...\")\n",
    "rf_model = RandomForestClassifier(n_estimators=100, random_state=42, n_jobs=-1)\n",
    "train_and_evaluate(rf_model, X_train_scaled, X_test_scaled, y_train, y_test)"
   ]
  },
  {
   "cell_type": "code",
   "execution_count": 19,
   "metadata": {},
   "outputs": [
    {
     "name": "stdout",
     "output_type": "stream",
     "text": [
      "\n",
      "Optimizing Random Forest hyperparameters...\n",
      "Fitting 3 folds for each of 10 candidates, totalling 30 fits\n",
      "Best parameters: {'n_estimators': 300, 'min_samples_split': 10, 'min_samples_leaf': 1, 'max_depth': 30}\n",
      "\n",
      "Evaluating optimized Random Forest model...\n",
      "Accuracy: 0.7051\n",
      "Training time: 151.70 seconds\n",
      "Prediction time: 9.70 seconds\n",
      "\n",
      "Classification Report:\n",
      "              precision    recall  f1-score   support\n",
      "\n",
      "           0       0.68      0.46      0.55     51714\n",
      "           1       0.71      0.86      0.78     80568\n",
      "\n",
      "    accuracy                           0.71    132282\n",
      "   macro avg       0.70      0.66      0.67    132282\n",
      "weighted avg       0.70      0.71      0.69    132282\n",
      "\n",
      "\n",
      "Confusion Matrix:\n",
      "[[23827 27887]\n",
      " [11126 69442]]\n"
     ]
    }
   ],
   "source": [
    "# 5. Optimización de hiperparámetros para Random Forest\n",
    "print(\"\\nOptimizing Random Forest hyperparameters...\")\n",
    "param_dist = {\n",
    "    'n_estimators': [100, 200, 300],\n",
    "    'max_depth': [10, 20, 30, None],\n",
    "    'min_samples_split': [2, 5, 10],\n",
    "    'min_samples_leaf': [1, 2, 4]\n",
    "}\n",
    "\n",
    "rf_random = RandomizedSearchCV(estimator=RandomForestClassifier(random_state=42),\n",
    "                               param_distributions=param_dist,\n",
    "                               n_iter=10, cv=3, verbose=2, random_state=42, n_jobs=-1)\n",
    "\n",
    "rf_random.fit(X_train_scaled, y_train)\n",
    "\n",
    "print(\"Best parameters:\", rf_random.best_params_)\n",
    "print(\"\\nEvaluating optimized Random Forest model...\")\n",
    "train_and_evaluate(rf_random.best_estimator_, X_train_scaled, X_test_scaled, y_train, y_test)"
   ]
  },
  {
   "cell_type": "markdown",
   "metadata": {},
   "source": [
    "## StandardScaler"
   ]
  },
  {
   "cell_type": "code",
   "execution_count": 21,
   "metadata": {},
   "outputs": [],
   "source": [
    "from sklearn.preprocessing import StandardScaler\n",
    "stdsc = StandardScaler()\n",
    "X_train_std = stdsc.fit_transform(X_train)\n",
    "X_test_std = stdsc.transform(X_test)"
   ]
  },
  {
   "cell_type": "markdown",
   "metadata": {},
   "source": [
    "### LogisticRegression"
   ]
  },
  {
   "cell_type": "code",
   "execution_count": 23,
   "metadata": {},
   "outputs": [],
   "source": [
    "from sklearn.linear_model import LogisticRegression\n",
    "model = LogisticRegression()\n",
    "result = model.fit(X_train_std, y_train)"
   ]
  },
  {
   "cell_type": "code",
   "execution_count": 24,
   "metadata": {},
   "outputs": [
    {
     "name": "stdout",
     "output_type": "stream",
     "text": [
      "0.6304410275018522\n"
     ]
    }
   ],
   "source": [
    "from sklearn.metrics import accuracy_score\n",
    "prediction_test = model.predict(X_test_std)\n",
    "print(accuracy_score(y_test, prediction_test))"
   ]
  },
  {
   "cell_type": "markdown",
   "metadata": {},
   "source": [
    "### Random Forest"
   ]
  },
  {
   "cell_type": "code",
   "execution_count": 26,
   "metadata": {},
   "outputs": [
    {
     "name": "stdout",
     "output_type": "stream",
     "text": [
      "\n",
      "Training Random Forest model...\n",
      "Accuracy: 0.6900\n",
      "Training time: 15.24 seconds\n",
      "Prediction time: 1.01 seconds\n",
      "\n",
      "Classification Report:\n",
      "              precision    recall  f1-score   support\n",
      "\n",
      "           0       0.62      0.54      0.57     51714\n",
      "           1       0.73      0.79      0.76     80568\n",
      "\n",
      "    accuracy                           0.69    132282\n",
      "   macro avg       0.67      0.66      0.67    132282\n",
      "weighted avg       0.68      0.69      0.69    132282\n",
      "\n",
      "\n",
      "Confusion Matrix:\n",
      "[[27739 23975]\n",
      " [17035 63533]]\n"
     ]
    }
   ],
   "source": [
    "from sklearn.ensemble import RandomForestClassifier\n",
    "\n",
    "# 4. Random Forest\n",
    "print(\"\\nTraining Random Forest model...\")\n",
    "rf_model = RandomForestClassifier(n_estimators=100, random_state=42, n_jobs=-1)\n",
    "train_and_evaluate(rf_model, X_train_std, X_test_std, y_train, y_test)"
   ]
  },
  {
   "cell_type": "code",
   "execution_count": 27,
   "metadata": {},
   "outputs": [
    {
     "name": "stdout",
     "output_type": "stream",
     "text": [
      "\n",
      "Optimizing Random Forest hyperparameters...\n",
      "Fitting 3 folds for each of 10 candidates, totalling 30 fits\n",
      "Best parameters: {'n_estimators': 300, 'min_samples_split': 10, 'min_samples_leaf': 1, 'max_depth': 30}\n",
      "\n",
      "Evaluating optimized Random Forest model...\n",
      "Accuracy: 0.7050\n",
      "Training time: 151.16 seconds\n",
      "Prediction time: 10.05 seconds\n",
      "\n",
      "Classification Report:\n",
      "              precision    recall  f1-score   support\n",
      "\n",
      "           0       0.68      0.46      0.55     51714\n",
      "           1       0.71      0.86      0.78     80568\n",
      "\n",
      "    accuracy                           0.70    132282\n",
      "   macro avg       0.70      0.66      0.67    132282\n",
      "weighted avg       0.70      0.70      0.69    132282\n",
      "\n",
      "\n",
      "Confusion Matrix:\n",
      "[[23820 27894]\n",
      " [11130 69438]]\n"
     ]
    }
   ],
   "source": [
    "# 5. Optimización de hiperparámetros para Random Forest\n",
    "print(\"\\nOptimizing Random Forest hyperparameters...\")\n",
    "param_dist = {\n",
    "    'n_estimators': [100, 200, 300],\n",
    "    'max_depth': [10, 20, 30, None],\n",
    "    'min_samples_split': [2, 5, 10],\n",
    "    'min_samples_leaf': [1, 2, 4]\n",
    "}\n",
    "\n",
    "rf_random = RandomizedSearchCV(estimator=RandomForestClassifier(random_state=42),\n",
    "                               param_distributions=param_dist,\n",
    "                               n_iter=10, cv=3, verbose=2, random_state=42, n_jobs=-1)\n",
    "\n",
    "rf_random.fit(X_train_std, y_train)\n",
    "\n",
    "print(\"Best parameters:\", rf_random.best_params_)\n",
    "print(\"\\nEvaluating optimized Random Forest model...\")\n",
    "train_and_evaluate(rf_random.best_estimator_, X_train_std, X_test_std, y_train, y_test)"
   ]
  },
  {
   "cell_type": "markdown",
   "metadata": {},
   "source": [
    "## MinMaxScaler"
   ]
  },
  {
   "cell_type": "code",
   "execution_count": 28,
   "metadata": {},
   "outputs": [],
   "source": [
    "from sklearn.preprocessing import MinMaxScaler"
   ]
  },
  {
   "cell_type": "code",
   "execution_count": 29,
   "metadata": {},
   "outputs": [],
   "source": [
    "scaler = MinMaxScaler()\n",
    "X_train_mms = scaler.fit_transform(X_train)\n",
    "X_test_mms = scaler.transform(X_test)"
   ]
  },
  {
   "cell_type": "markdown",
   "metadata": {},
   "source": [
    "### LogictisRegression"
   ]
  },
  {
   "cell_type": "code",
   "execution_count": 32,
   "metadata": {},
   "outputs": [],
   "source": [
    "from sklearn.linear_model import LogisticRegression\n",
    "model = LogisticRegression()\n",
    "result = model.fit(X_train_mms, y_train)"
   ]
  },
  {
   "cell_type": "code",
   "execution_count": 33,
   "metadata": {},
   "outputs": [
    {
     "name": "stdout",
     "output_type": "stream",
     "text": [
      "0.6304637063243677\n"
     ]
    }
   ],
   "source": [
    "from sklearn.metrics import accuracy_score\n",
    "prediction_test = model.predict(X_test_mms)\n",
    "print(accuracy_score(y_test, prediction_test))"
   ]
  },
  {
   "cell_type": "markdown",
   "metadata": {},
   "source": [
    "### Random forest"
   ]
  },
  {
   "cell_type": "code",
   "execution_count": 34,
   "metadata": {},
   "outputs": [
    {
     "name": "stdout",
     "output_type": "stream",
     "text": [
      "\n",
      "Training Random Forest model...\n",
      "Accuracy: 0.6899\n",
      "Training time: 14.43 seconds\n",
      "Prediction time: 0.92 seconds\n",
      "\n",
      "Classification Report:\n",
      "              precision    recall  f1-score   support\n",
      "\n",
      "           0       0.62      0.54      0.57     51714\n",
      "           1       0.73      0.79      0.76     80568\n",
      "\n",
      "    accuracy                           0.69    132282\n",
      "   macro avg       0.67      0.66      0.67    132282\n",
      "weighted avg       0.68      0.69      0.69    132282\n",
      "\n",
      "\n",
      "Confusion Matrix:\n",
      "[[27740 23974]\n",
      " [17044 63524]]\n"
     ]
    }
   ],
   "source": [
    "from sklearn.ensemble import RandomForestClassifier\n",
    "\n",
    "# 4. Random Forest\n",
    "print(\"\\nTraining Random Forest model...\")\n",
    "rf_model = RandomForestClassifier(n_estimators=100, random_state=42, n_jobs=-1)\n",
    "train_and_evaluate(rf_model, X_train_mms, X_test_mms, y_train, y_test)"
   ]
  }
 ],
 "metadata": {
  "kernelspec": {
   "display_name": ".venv",
   "language": "python",
   "name": "python3"
  },
  "language_info": {
   "codemirror_mode": {
    "name": "ipython",
    "version": 3
   },
   "file_extension": ".py",
   "mimetype": "text/x-python",
   "name": "python",
   "nbconvert_exporter": "python",
   "pygments_lexer": "ipython3",
   "version": "3.10.2"
  }
 },
 "nbformat": 4,
 "nbformat_minor": 2
}
